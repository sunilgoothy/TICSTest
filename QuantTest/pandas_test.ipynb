{
 "cells": [
  {
   "cell_type": "code",
   "execution_count": 253,
   "metadata": {},
   "outputs": [],
   "source": [
    "import pandas as pd\n",
    "import numpy as np\n",
    "\n",
    "df_nf5 = pd.read_csv(\"data/Nifty-Futures-Aug.csv\", sep=\"\\t\", parse_dates=['Date Time'], encoding=\"utf_16_LE\")"
   ]
  },
  {
   "cell_type": "markdown",
   "metadata": {},
   "source": [
    "## Remove last empty column"
   ]
  },
  {
   "cell_type": "code",
   "execution_count": 254,
   "metadata": {},
   "outputs": [],
   "source": [
    "df_nf5 = df_nf5[df_nf5.columns[:-1]]"
   ]
  },
  {
   "cell_type": "markdown",
   "metadata": {},
   "source": [
    "## Calculate and Insert moving averages"
   ]
  },
  {
   "cell_type": "code",
   "execution_count": 255,
   "metadata": {},
   "outputs": [],
   "source": [
    "df_nf5['MA6'] = df_nf5['Close'].rolling(6).mean()\n",
    "df_nf5['MA21'] = df_nf5['Close'].rolling(21).mean()"
   ]
  },
  {
   "cell_type": "markdown",
   "metadata": {},
   "source": [
    "## Set dates as index"
   ]
  },
  {
   "cell_type": "code",
   "execution_count": 256,
   "metadata": {},
   "outputs": [],
   "source": [
    "df_nf5.set_index('Date Time', inplace=True)"
   ]
  },
  {
   "cell_type": "markdown",
   "metadata": {},
   "source": [
    "## Apply Function to dataframe"
   ]
  },
  {
   "cell_type": "code",
   "execution_count": 261,
   "metadata": {},
   "outputs": [],
   "source": [
    "def nifty_signal(df):\n",
    "    \n",
    "    df.loc[:, 'Open'] = 'fffff'\n",
    "    return df"
   ]
  },
  {
   "cell_type": "code",
   "execution_count": 262,
   "metadata": {},
   "outputs": [],
   "source": [
    "today_df = df_nf5.loc['2020-08-20']"
   ]
  },
  {
   "cell_type": "code",
   "execution_count": 263,
   "metadata": {},
   "outputs": [
    {
     "name": "stderr",
     "output_type": "stream",
     "text": [
      "d:\\devprojects\\venv\\testvenv\\lib\\site-packages\\pandas\\core\\indexing.py:1765: SettingWithCopyWarning: \n",
      "A value is trying to be set on a copy of a slice from a DataFrame.\n",
      "Try using .loc[row_indexer,col_indexer] = value instead\n",
      "\n",
      "See the caveats in the documentation: https://pandas.pydata.org/pandas-docs/stable/user_guide/indexing.html#returning-a-view-versus-a-copy\n",
      "  isetter(loc, value)\n"
     ]
    }
   ],
   "source": [
    "new_df = nifty_signal(today_df)"
   ]
  },
  {
   "cell_type": "code",
   "execution_count": 264,
   "metadata": {},
   "outputs": [
    {
     "data": {
      "text/html": [
       "<div>\n",
       "<style scoped>\n",
       "    .dataframe tbody tr th:only-of-type {\n",
       "        vertical-align: middle;\n",
       "    }\n",
       "\n",
       "    .dataframe tbody tr th {\n",
       "        vertical-align: top;\n",
       "    }\n",
       "\n",
       "    .dataframe thead th {\n",
       "        text-align: right;\n",
       "    }\n",
       "</style>\n",
       "<table border=\"1\" class=\"dataframe\">\n",
       "  <thead>\n",
       "    <tr style=\"text-align: right;\">\n",
       "      <th></th>\n",
       "      <th>Open</th>\n",
       "      <th>Low</th>\n",
       "      <th>High</th>\n",
       "      <th>Close</th>\n",
       "      <th>Volume</th>\n",
       "      <th>MA6</th>\n",
       "      <th>MA21</th>\n",
       "    </tr>\n",
       "    <tr>\n",
       "      <th>Date Time</th>\n",
       "      <th></th>\n",
       "      <th></th>\n",
       "      <th></th>\n",
       "      <th></th>\n",
       "      <th></th>\n",
       "      <th></th>\n",
       "      <th></th>\n",
       "    </tr>\n",
       "  </thead>\n",
       "  <tbody>\n",
       "    <tr>\n",
       "      <th>2020-08-20 09:15:01</th>\n",
       "      <td>fffff</td>\n",
       "      <td>11292.00</td>\n",
       "      <td>11320.00</td>\n",
       "      <td>11312.00</td>\n",
       "      <td>1027578</td>\n",
       "      <td>11401.750000</td>\n",
       "      <td>11431.142857</td>\n",
       "    </tr>\n",
       "    <tr>\n",
       "      <th>2020-08-20 09:20:00</th>\n",
       "      <td>fffff</td>\n",
       "      <td>11292.10</td>\n",
       "      <td>11310.05</td>\n",
       "      <td>11304.05</td>\n",
       "      <td>516675</td>\n",
       "      <td>11383.208333</td>\n",
       "      <td>11424.738095</td>\n",
       "    </tr>\n",
       "    <tr>\n",
       "      <th>2020-08-20 09:25:00</th>\n",
       "      <td>fffff</td>\n",
       "      <td>11302.85</td>\n",
       "      <td>11318.45</td>\n",
       "      <td>11308.85</td>\n",
       "      <td>285525</td>\n",
       "      <td>11365.658333</td>\n",
       "      <td>11417.873810</td>\n",
       "    </tr>\n",
       "    <tr>\n",
       "      <th>2020-08-20 09:30:00</th>\n",
       "      <td>fffff</td>\n",
       "      <td>11304.65</td>\n",
       "      <td>11316.40</td>\n",
       "      <td>11315.15</td>\n",
       "      <td>215700</td>\n",
       "      <td>11349.008333</td>\n",
       "      <td>11411.266667</td>\n",
       "    </tr>\n",
       "    <tr>\n",
       "      <th>2020-08-20 09:35:00</th>\n",
       "      <td>fffff</td>\n",
       "      <td>11313.05</td>\n",
       "      <td>11329.80</td>\n",
       "      <td>11325.75</td>\n",
       "      <td>249075</td>\n",
       "      <td>11332.300000</td>\n",
       "      <td>11405.335714</td>\n",
       "    </tr>\n",
       "    <tr>\n",
       "      <th>...</th>\n",
       "      <td>...</td>\n",
       "      <td>...</td>\n",
       "      <td>...</td>\n",
       "      <td>...</td>\n",
       "      <td>...</td>\n",
       "      <td>...</td>\n",
       "      <td>...</td>\n",
       "    </tr>\n",
       "    <tr>\n",
       "      <th>2020-08-20 15:05:00</th>\n",
       "      <td>fffff</td>\n",
       "      <td>11306.20</td>\n",
       "      <td>11315.00</td>\n",
       "      <td>11310.95</td>\n",
       "      <td>113850</td>\n",
       "      <td>11314.383333</td>\n",
       "      <td>11306.897619</td>\n",
       "    </tr>\n",
       "    <tr>\n",
       "      <th>2020-08-20 15:10:00</th>\n",
       "      <td>fffff</td>\n",
       "      <td>11306.60</td>\n",
       "      <td>11314.20</td>\n",
       "      <td>11308.00</td>\n",
       "      <td>161175</td>\n",
       "      <td>11313.300000</td>\n",
       "      <td>11305.676190</td>\n",
       "    </tr>\n",
       "    <tr>\n",
       "      <th>2020-08-20 15:15:00</th>\n",
       "      <td>fffff</td>\n",
       "      <td>11299.15</td>\n",
       "      <td>11308.00</td>\n",
       "      <td>11304.35</td>\n",
       "      <td>294600</td>\n",
       "      <td>11311.683333</td>\n",
       "      <td>11304.407143</td>\n",
       "    </tr>\n",
       "    <tr>\n",
       "      <th>2020-08-20 15:20:00</th>\n",
       "      <td>fffff</td>\n",
       "      <td>11300.30</td>\n",
       "      <td>11306.55</td>\n",
       "      <td>11305.75</td>\n",
       "      <td>212925</td>\n",
       "      <td>11310.175000</td>\n",
       "      <td>11303.395238</td>\n",
       "    </tr>\n",
       "    <tr>\n",
       "      <th>2020-08-20 15:25:00</th>\n",
       "      <td>fffff</td>\n",
       "      <td>11290.50</td>\n",
       "      <td>11306.05</td>\n",
       "      <td>11293.50</td>\n",
       "      <td>311025</td>\n",
       "      <td>11306.150000</td>\n",
       "      <td>11302.783333</td>\n",
       "    </tr>\n",
       "  </tbody>\n",
       "</table>\n",
       "<p>75 rows × 7 columns</p>\n",
       "</div>"
      ],
      "text/plain": [
       "                      Open       Low      High     Close   Volume  \\\n",
       "Date Time                                                           \n",
       "2020-08-20 09:15:01  fffff  11292.00  11320.00  11312.00  1027578   \n",
       "2020-08-20 09:20:00  fffff  11292.10  11310.05  11304.05   516675   \n",
       "2020-08-20 09:25:00  fffff  11302.85  11318.45  11308.85   285525   \n",
       "2020-08-20 09:30:00  fffff  11304.65  11316.40  11315.15   215700   \n",
       "2020-08-20 09:35:00  fffff  11313.05  11329.80  11325.75   249075   \n",
       "...                    ...       ...       ...       ...      ...   \n",
       "2020-08-20 15:05:00  fffff  11306.20  11315.00  11310.95   113850   \n",
       "2020-08-20 15:10:00  fffff  11306.60  11314.20  11308.00   161175   \n",
       "2020-08-20 15:15:00  fffff  11299.15  11308.00  11304.35   294600   \n",
       "2020-08-20 15:20:00  fffff  11300.30  11306.55  11305.75   212925   \n",
       "2020-08-20 15:25:00  fffff  11290.50  11306.05  11293.50   311025   \n",
       "\n",
       "                              MA6          MA21  \n",
       "Date Time                                        \n",
       "2020-08-20 09:15:01  11401.750000  11431.142857  \n",
       "2020-08-20 09:20:00  11383.208333  11424.738095  \n",
       "2020-08-20 09:25:00  11365.658333  11417.873810  \n",
       "2020-08-20 09:30:00  11349.008333  11411.266667  \n",
       "2020-08-20 09:35:00  11332.300000  11405.335714  \n",
       "...                           ...           ...  \n",
       "2020-08-20 15:05:00  11314.383333  11306.897619  \n",
       "2020-08-20 15:10:00  11313.300000  11305.676190  \n",
       "2020-08-20 15:15:00  11311.683333  11304.407143  \n",
       "2020-08-20 15:20:00  11310.175000  11303.395238  \n",
       "2020-08-20 15:25:00  11306.150000  11302.783333  \n",
       "\n",
       "[75 rows x 7 columns]"
      ]
     },
     "execution_count": 264,
     "metadata": {},
     "output_type": "execute_result"
    }
   ],
   "source": [
    "new_df"
   ]
  },
  {
   "cell_type": "code",
   "execution_count": null,
   "metadata": {},
   "outputs": [],
   "source": []
  }
 ],
 "metadata": {
  "kernelspec": {
   "display_name": "Python 3",
   "language": "python",
   "name": "python3"
  },
  "language_info": {
   "codemirror_mode": {
    "name": "ipython",
    "version": 3
   },
   "file_extension": ".py",
   "mimetype": "text/x-python",
   "name": "python",
   "nbconvert_exporter": "python",
   "pygments_lexer": "ipython3",
   "version": "3.8.3"
  }
 },
 "nbformat": 4,
 "nbformat_minor": 2
}
