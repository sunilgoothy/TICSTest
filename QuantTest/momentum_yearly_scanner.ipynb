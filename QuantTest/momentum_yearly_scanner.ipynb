{
 "cells": [
  {
   "cell_type": "code",
   "execution_count": 1,
   "metadata": {},
   "outputs": [],
   "source": [
    "import yfinance as yf\n",
    "import pandas as pd\n",
    "from stock_config import momentum_stock_list "
   ]
  },
  {
   "cell_type": "markdown",
   "metadata": {},
   "source": [
    "## Input the evaluation date below (1st friday of every month)"
   ]
  },
  {
   "cell_type": "code",
   "execution_count": 2,
   "metadata": {},
   "outputs": [],
   "source": [
    "eval_date = \"2020-09-01\""
   ]
  },
  {
   "cell_type": "markdown",
   "metadata": {},
   "source": [
    "#### Function to check valid trading day. If open price is not returned then next date is checked until valid date is found"
   ]
  },
  {
   "cell_type": "code",
   "execution_count": 3,
   "metadata": {},
   "outputs": [],
   "source": [
    "def get_valid_date(start_date, end_date):\n",
    "    valid = False\n",
    "    while not valid:\n",
    "        valid_check_data = yf.download('RELIANCE.NS', start = start_date, end=end_date)\n",
    "        try:\n",
    "            open_price = valid_check_data.iloc[0]['Open']\n",
    "            valid = True\n",
    "        except:\n",
    "            start_date = (pd.to_datetime(start_date) + pd.DateOffset(days=1)).strftime('%Y-%m-%d')\n",
    "            end_date = (pd.to_datetime(end_date) + pd.DateOffset(days=1)).strftime('%Y-%m-%d')\n",
    "            valid = False\n",
    "    return start_date, end_date"
   ]
  },
  {
   "cell_type": "markdown",
   "metadata": {},
   "source": [
    "#### Get valid start and end dates for this year"
   ]
  },
  {
   "cell_type": "code",
   "execution_count": 4,
   "metadata": {},
   "outputs": [
    {
     "name": "stdout",
     "output_type": "stream",
     "text": [
      "[*********************100%***********************]  1 of 1 completed\n"
     ]
    }
   ],
   "source": [
    "start_date=eval_date\n",
    "end_date = (pd.to_datetime(start_date) + pd.DateOffset(days=1)).strftime('%Y-%m-%d')\n",
    "start_date, end_date = get_valid_date(start_date, end_date)"
   ]
  },
  {
   "cell_type": "code",
   "execution_count": 5,
   "metadata": {},
   "outputs": [
    {
     "data": {
      "text/plain": [
       "'2020-09-01'"
      ]
     },
     "execution_count": 5,
     "metadata": {},
     "output_type": "execute_result"
    }
   ],
   "source": [
    "start_date"
   ]
  },
  {
   "cell_type": "code",
   "execution_count": 6,
   "metadata": {},
   "outputs": [
    {
     "data": {
      "text/plain": [
       "'2020-09-02'"
      ]
     },
     "execution_count": 6,
     "metadata": {},
     "output_type": "execute_result"
    }
   ],
   "source": [
    "end_date"
   ]
  },
  {
   "cell_type": "markdown",
   "metadata": {},
   "source": [
    "### Fetch this year data"
   ]
  },
  {
   "cell_type": "markdown",
   "metadata": {},
   "source": [
    "#### [Below data fetch will throw error if there is no trading day between start and end dates]"
   ]
  },
  {
   "cell_type": "code",
   "execution_count": 7,
   "metadata": {},
   "outputs": [
    {
     "name": "stdout",
     "output_type": "stream",
     "text": [
      "[*********************100%***********************]  493 of 493 completed\n"
     ]
    }
   ],
   "source": [
    "data = yf.download(momentum_stock_list, start = start_date, end=end_date)"
   ]
  },
  {
   "cell_type": "code",
   "execution_count": 8,
   "metadata": {},
   "outputs": [],
   "source": [
    "this_year_close = pd.DataFrame(data.iloc[0]['Adj Close'])"
   ]
  },
  {
   "cell_type": "code",
   "execution_count": 9,
   "metadata": {},
   "outputs": [
    {
     "data": {
      "text/html": [
       "<div>\n",
       "<style scoped>\n",
       "    .dataframe tbody tr th:only-of-type {\n",
       "        vertical-align: middle;\n",
       "    }\n",
       "\n",
       "    .dataframe tbody tr th {\n",
       "        vertical-align: top;\n",
       "    }\n",
       "\n",
       "    .dataframe thead th {\n",
       "        text-align: right;\n",
       "    }\n",
       "</style>\n",
       "<table border=\"1\" class=\"dataframe\">\n",
       "  <thead>\n",
       "    <tr style=\"text-align: right;\">\n",
       "      <th></th>\n",
       "      <th>2020-09-01</th>\n",
       "    </tr>\n",
       "  </thead>\n",
       "  <tbody>\n",
       "    <tr>\n",
       "      <th>3MINDIA.NS</th>\n",
       "      <td>19959.000000</td>\n",
       "    </tr>\n",
       "    <tr>\n",
       "      <th>AARTIIND.NS</th>\n",
       "      <td>1047.050049</td>\n",
       "    </tr>\n",
       "    <tr>\n",
       "      <th>AAVAS.NS</th>\n",
       "      <td>1473.250000</td>\n",
       "    </tr>\n",
       "    <tr>\n",
       "      <th>ABB.NS</th>\n",
       "      <td>945.599976</td>\n",
       "    </tr>\n",
       "    <tr>\n",
       "      <th>ABBOTINDIA.NS</th>\n",
       "      <td>16402.800781</td>\n",
       "    </tr>\n",
       "    <tr>\n",
       "      <th>...</th>\n",
       "      <td>...</td>\n",
       "    </tr>\n",
       "    <tr>\n",
       "      <th>WIPRO.NS</th>\n",
       "      <td>271.600006</td>\n",
       "    </tr>\n",
       "    <tr>\n",
       "      <th>WOCKPHARMA.NS</th>\n",
       "      <td>297.500000</td>\n",
       "    </tr>\n",
       "    <tr>\n",
       "      <th>ZEEL.NS</th>\n",
       "      <td>201.800003</td>\n",
       "    </tr>\n",
       "    <tr>\n",
       "      <th>ZENSARTECH.NS</th>\n",
       "      <td>172.699997</td>\n",
       "    </tr>\n",
       "    <tr>\n",
       "      <th>ZYDUSWELL.NS</th>\n",
       "      <td>1650.250000</td>\n",
       "    </tr>\n",
       "  </tbody>\n",
       "</table>\n",
       "<p>493 rows × 1 columns</p>\n",
       "</div>"
      ],
      "text/plain": [
       "                 2020-09-01\n",
       "3MINDIA.NS     19959.000000\n",
       "AARTIIND.NS     1047.050049\n",
       "AAVAS.NS        1473.250000\n",
       "ABB.NS           945.599976\n",
       "ABBOTINDIA.NS  16402.800781\n",
       "...                     ...\n",
       "WIPRO.NS         271.600006\n",
       "WOCKPHARMA.NS    297.500000\n",
       "ZEEL.NS          201.800003\n",
       "ZENSARTECH.NS    172.699997\n",
       "ZYDUSWELL.NS    1650.250000\n",
       "\n",
       "[493 rows x 1 columns]"
      ]
     },
     "execution_count": 9,
     "metadata": {},
     "output_type": "execute_result"
    }
   ],
   "source": [
    "this_year_close"
   ]
  },
  {
   "cell_type": "markdown",
   "metadata": {},
   "source": [
    "#### Calculate dates for last year"
   ]
  },
  {
   "cell_type": "code",
   "execution_count": 10,
   "metadata": {},
   "outputs": [],
   "source": [
    "start_date=(pd.to_datetime(eval_date) - pd.DateOffset(years=1)).strftime('%Y-%m-%d')\n",
    "end_date = (pd.to_datetime(start_date) + pd.DateOffset(days=1)).strftime('%Y-%m-%d')"
   ]
  },
  {
   "cell_type": "markdown",
   "metadata": {},
   "source": [
    "#### Get valid start and end dates for last year"
   ]
  },
  {
   "cell_type": "code",
   "execution_count": 11,
   "metadata": {},
   "outputs": [
    {
     "name": "stdout",
     "output_type": "stream",
     "text": [
      "[*********************100%***********************]  1 of 1 completed\n",
      "\n",
      "1 Failed download:\n",
      "- RELIANCE.NS: No data found for this date range, symbol may be delisted\n",
      "[*********************100%***********************]  1 of 1 completed\n",
      "\n",
      "1 Failed download:\n",
      "- RELIANCE.NS: No data found for this date range, symbol may be delisted\n",
      "[*********************100%***********************]  1 of 1 completed\n"
     ]
    }
   ],
   "source": [
    "start_date, end_date = get_valid_date(start_date, end_date)"
   ]
  },
  {
   "cell_type": "code",
   "execution_count": 12,
   "metadata": {},
   "outputs": [
    {
     "data": {
      "text/plain": [
       "'2019-09-03'"
      ]
     },
     "execution_count": 12,
     "metadata": {},
     "output_type": "execute_result"
    }
   ],
   "source": [
    "start_date"
   ]
  },
  {
   "cell_type": "code",
   "execution_count": 13,
   "metadata": {},
   "outputs": [
    {
     "data": {
      "text/plain": [
       "'2019-09-04'"
      ]
     },
     "execution_count": 13,
     "metadata": {},
     "output_type": "execute_result"
    }
   ],
   "source": [
    "end_date"
   ]
  },
  {
   "cell_type": "markdown",
   "metadata": {},
   "source": [
    "### Fetch last year data"
   ]
  },
  {
   "cell_type": "markdown",
   "metadata": {},
   "source": [
    "#### [Below data fetch will throw error if there is no trading day between start and end dates]"
   ]
  },
  {
   "cell_type": "code",
   "execution_count": 14,
   "metadata": {},
   "outputs": [
    {
     "name": "stdout",
     "output_type": "stream",
     "text": [
      "[*********************100%***********************]  493 of 493 completed\n"
     ]
    }
   ],
   "source": [
    "data = yf.download(momentum_stock_list, start = start_date, end=end_date)"
   ]
  },
  {
   "cell_type": "code",
   "execution_count": 15,
   "metadata": {},
   "outputs": [],
   "source": [
    "last_year_close = pd.DataFrame(data.iloc[0]['Adj Close'])"
   ]
  },
  {
   "cell_type": "code",
   "execution_count": 16,
   "metadata": {},
   "outputs": [
    {
     "data": {
      "text/html": [
       "<div>\n",
       "<style scoped>\n",
       "    .dataframe tbody tr th:only-of-type {\n",
       "        vertical-align: middle;\n",
       "    }\n",
       "\n",
       "    .dataframe tbody tr th {\n",
       "        vertical-align: top;\n",
       "    }\n",
       "\n",
       "    .dataframe thead th {\n",
       "        text-align: right;\n",
       "    }\n",
       "</style>\n",
       "<table border=\"1\" class=\"dataframe\">\n",
       "  <thead>\n",
       "    <tr style=\"text-align: right;\">\n",
       "      <th></th>\n",
       "      <th>2019-09-03</th>\n",
       "    </tr>\n",
       "  </thead>\n",
       "  <tbody>\n",
       "    <tr>\n",
       "      <th>3MINDIA.NS</th>\n",
       "      <td>20098.900391</td>\n",
       "    </tr>\n",
       "    <tr>\n",
       "      <th>AARTIIND.NS</th>\n",
       "      <td>789.747986</td>\n",
       "    </tr>\n",
       "    <tr>\n",
       "      <th>AAVAS.NS</th>\n",
       "      <td>1465.800049</td>\n",
       "    </tr>\n",
       "    <tr>\n",
       "      <th>ABB.NS</th>\n",
       "      <td>1308.222900</td>\n",
       "    </tr>\n",
       "    <tr>\n",
       "      <th>ABBOTINDIA.NS</th>\n",
       "      <td>9287.094727</td>\n",
       "    </tr>\n",
       "    <tr>\n",
       "      <th>...</th>\n",
       "      <td>...</td>\n",
       "    </tr>\n",
       "    <tr>\n",
       "      <th>WIPRO.NS</th>\n",
       "      <td>252.630081</td>\n",
       "    </tr>\n",
       "    <tr>\n",
       "      <th>WOCKPHARMA.NS</th>\n",
       "      <td>238.350006</td>\n",
       "    </tr>\n",
       "    <tr>\n",
       "      <th>ZEEL.NS</th>\n",
       "      <td>361.000000</td>\n",
       "    </tr>\n",
       "    <tr>\n",
       "      <th>ZENSARTECH.NS</th>\n",
       "      <td>212.748230</td>\n",
       "    </tr>\n",
       "    <tr>\n",
       "      <th>ZYDUSWELL.NS</th>\n",
       "      <td>1650.708496</td>\n",
       "    </tr>\n",
       "  </tbody>\n",
       "</table>\n",
       "<p>493 rows × 1 columns</p>\n",
       "</div>"
      ],
      "text/plain": [
       "                 2019-09-03\n",
       "3MINDIA.NS     20098.900391\n",
       "AARTIIND.NS      789.747986\n",
       "AAVAS.NS        1465.800049\n",
       "ABB.NS          1308.222900\n",
       "ABBOTINDIA.NS   9287.094727\n",
       "...                     ...\n",
       "WIPRO.NS         252.630081\n",
       "WOCKPHARMA.NS    238.350006\n",
       "ZEEL.NS          361.000000\n",
       "ZENSARTECH.NS    212.748230\n",
       "ZYDUSWELL.NS    1650.708496\n",
       "\n",
       "[493 rows x 1 columns]"
      ]
     },
     "execution_count": 16,
     "metadata": {},
     "output_type": "execute_result"
    }
   ],
   "source": [
    "last_year_close"
   ]
  },
  {
   "cell_type": "code",
   "execution_count": 17,
   "metadata": {},
   "outputs": [],
   "source": [
    "final_df = last_year_close.join(this_year_close)"
   ]
  },
  {
   "cell_type": "code",
   "execution_count": 18,
   "metadata": {
    "scrolled": false
   },
   "outputs": [
    {
     "data": {
      "text/html": [
       "<div>\n",
       "<style scoped>\n",
       "    .dataframe tbody tr th:only-of-type {\n",
       "        vertical-align: middle;\n",
       "    }\n",
       "\n",
       "    .dataframe tbody tr th {\n",
       "        vertical-align: top;\n",
       "    }\n",
       "\n",
       "    .dataframe thead th {\n",
       "        text-align: right;\n",
       "    }\n",
       "</style>\n",
       "<table border=\"1\" class=\"dataframe\">\n",
       "  <thead>\n",
       "    <tr style=\"text-align: right;\">\n",
       "      <th></th>\n",
       "      <th>2019-09-03</th>\n",
       "      <th>2020-09-01</th>\n",
       "    </tr>\n",
       "  </thead>\n",
       "  <tbody>\n",
       "    <tr>\n",
       "      <th>3MINDIA.NS</th>\n",
       "      <td>20098.900391</td>\n",
       "      <td>19959.000000</td>\n",
       "    </tr>\n",
       "    <tr>\n",
       "      <th>AARTIIND.NS</th>\n",
       "      <td>789.747986</td>\n",
       "      <td>1047.050049</td>\n",
       "    </tr>\n",
       "    <tr>\n",
       "      <th>AAVAS.NS</th>\n",
       "      <td>1465.800049</td>\n",
       "      <td>1473.250000</td>\n",
       "    </tr>\n",
       "    <tr>\n",
       "      <th>ABB.NS</th>\n",
       "      <td>1308.222900</td>\n",
       "      <td>945.599976</td>\n",
       "    </tr>\n",
       "    <tr>\n",
       "      <th>ABBOTINDIA.NS</th>\n",
       "      <td>9287.094727</td>\n",
       "      <td>16402.800781</td>\n",
       "    </tr>\n",
       "    <tr>\n",
       "      <th>...</th>\n",
       "      <td>...</td>\n",
       "      <td>...</td>\n",
       "    </tr>\n",
       "    <tr>\n",
       "      <th>WIPRO.NS</th>\n",
       "      <td>252.630081</td>\n",
       "      <td>271.600006</td>\n",
       "    </tr>\n",
       "    <tr>\n",
       "      <th>WOCKPHARMA.NS</th>\n",
       "      <td>238.350006</td>\n",
       "      <td>297.500000</td>\n",
       "    </tr>\n",
       "    <tr>\n",
       "      <th>ZEEL.NS</th>\n",
       "      <td>361.000000</td>\n",
       "      <td>201.800003</td>\n",
       "    </tr>\n",
       "    <tr>\n",
       "      <th>ZENSARTECH.NS</th>\n",
       "      <td>212.748230</td>\n",
       "      <td>172.699997</td>\n",
       "    </tr>\n",
       "    <tr>\n",
       "      <th>ZYDUSWELL.NS</th>\n",
       "      <td>1650.708496</td>\n",
       "      <td>1650.250000</td>\n",
       "    </tr>\n",
       "  </tbody>\n",
       "</table>\n",
       "<p>493 rows × 2 columns</p>\n",
       "</div>"
      ],
      "text/plain": [
       "                 2019-09-03    2020-09-01\n",
       "3MINDIA.NS     20098.900391  19959.000000\n",
       "AARTIIND.NS      789.747986   1047.050049\n",
       "AAVAS.NS        1465.800049   1473.250000\n",
       "ABB.NS          1308.222900    945.599976\n",
       "ABBOTINDIA.NS   9287.094727  16402.800781\n",
       "...                     ...           ...\n",
       "WIPRO.NS         252.630081    271.600006\n",
       "WOCKPHARMA.NS    238.350006    297.500000\n",
       "ZEEL.NS          361.000000    201.800003\n",
       "ZENSARTECH.NS    212.748230    172.699997\n",
       "ZYDUSWELL.NS    1650.708496   1650.250000\n",
       "\n",
       "[493 rows x 2 columns]"
      ]
     },
     "execution_count": 18,
     "metadata": {},
     "output_type": "execute_result"
    }
   ],
   "source": [
    "final_df"
   ]
  },
  {
   "cell_type": "code",
   "execution_count": 19,
   "metadata": {},
   "outputs": [],
   "source": [
    "final_df.rename(columns =lambda t: t.strftime('%Y-%m-%d'), inplace=True)"
   ]
  },
  {
   "cell_type": "markdown",
   "metadata": {},
   "source": [
    "## Calculate Momentum"
   ]
  },
  {
   "cell_type": "code",
   "execution_count": 20,
   "metadata": {
    "scrolled": true
   },
   "outputs": [],
   "source": [
    "last_year_date = final_df.columns[0]\n",
    "this_year_date = final_df.columns[1]\n",
    "final_df['Change'] = final_df[this_year_date] - final_df[last_year_date]"
   ]
  },
  {
   "cell_type": "code",
   "execution_count": 21,
   "metadata": {},
   "outputs": [],
   "source": [
    "final_df['% Change'] = (final_df['Change'] / final_df[last_year_date])*100"
   ]
  },
  {
   "cell_type": "markdown",
   "metadata": {},
   "source": [
    "## Final Output"
   ]
  },
  {
   "cell_type": "code",
   "execution_count": 22,
   "metadata": {},
   "outputs": [],
   "source": [
    "final_df.sort_values(by=['% Change'], ascending=False, inplace=True)"
   ]
  },
  {
   "cell_type": "code",
   "execution_count": 23,
   "metadata": {},
   "outputs": [],
   "source": [
    "final_df.rename_axis('MOMENTUM_ATH', inplace=True)\n",
    "final_df.rename_axis('', axis='columns', inplace=True)"
   ]
  },
  {
   "cell_type": "code",
   "execution_count": 24,
   "metadata": {},
   "outputs": [
    {
     "data": {
      "text/html": [
       "<div>\n",
       "<style scoped>\n",
       "    .dataframe tbody tr th:only-of-type {\n",
       "        vertical-align: middle;\n",
       "    }\n",
       "\n",
       "    .dataframe tbody tr th {\n",
       "        vertical-align: top;\n",
       "    }\n",
       "\n",
       "    .dataframe thead th {\n",
       "        text-align: right;\n",
       "    }\n",
       "</style>\n",
       "<table border=\"1\" class=\"dataframe\">\n",
       "  <thead>\n",
       "    <tr style=\"text-align: right;\">\n",
       "      <th></th>\n",
       "      <th>2019-09-03</th>\n",
       "      <th>2020-09-01</th>\n",
       "      <th>Change</th>\n",
       "      <th>% Change</th>\n",
       "    </tr>\n",
       "    <tr>\n",
       "      <th>MOMENTUM_ATH</th>\n",
       "      <th></th>\n",
       "      <th></th>\n",
       "      <th></th>\n",
       "      <th></th>\n",
       "    </tr>\n",
       "  </thead>\n",
       "  <tbody>\n",
       "    <tr>\n",
       "      <th>ADANIGREEN.NS</th>\n",
       "      <td>44.45</td>\n",
       "      <td>494.65</td>\n",
       "      <td>450.20</td>\n",
       "      <td>1012.82</td>\n",
       "    </tr>\n",
       "    <tr>\n",
       "      <th>ALKYLAMINE.NS</th>\n",
       "      <td>746.28</td>\n",
       "      <td>3165.75</td>\n",
       "      <td>2419.47</td>\n",
       "      <td>324.21</td>\n",
       "    </tr>\n",
       "    <tr>\n",
       "      <th>GMMPFAUDLR.NS</th>\n",
       "      <td>1434.86</td>\n",
       "      <td>5404.45</td>\n",
       "      <td>3969.59</td>\n",
       "      <td>276.65</td>\n",
       "    </tr>\n",
       "    <tr>\n",
       "      <th>GRANULES.NS</th>\n",
       "      <td>89.56</td>\n",
       "      <td>324.05</td>\n",
       "      <td>234.49</td>\n",
       "      <td>261.83</td>\n",
       "    </tr>\n",
       "    <tr>\n",
       "      <th>LAURUSLABS.NS</th>\n",
       "      <td>325.45</td>\n",
       "      <td>1122.90</td>\n",
       "      <td>797.45</td>\n",
       "      <td>245.03</td>\n",
       "    </tr>\n",
       "    <tr>\n",
       "      <th>INDIAMART.NS</th>\n",
       "      <td>1195.27</td>\n",
       "      <td>3828.15</td>\n",
       "      <td>2632.88</td>\n",
       "      <td>220.28</td>\n",
       "    </tr>\n",
       "    <tr>\n",
       "      <th>AFFLE.NS</th>\n",
       "      <td>835.60</td>\n",
       "      <td>2652.25</td>\n",
       "      <td>1816.65</td>\n",
       "      <td>217.41</td>\n",
       "    </tr>\n",
       "    <tr>\n",
       "      <th>DIXON.NS</th>\n",
       "      <td>2645.11</td>\n",
       "      <td>8295.20</td>\n",
       "      <td>5650.09</td>\n",
       "      <td>213.61</td>\n",
       "    </tr>\n",
       "    <tr>\n",
       "      <th>NAVINFLUOR.NS</th>\n",
       "      <td>714.20</td>\n",
       "      <td>1957.00</td>\n",
       "      <td>1242.80</td>\n",
       "      <td>174.01</td>\n",
       "    </tr>\n",
       "    <tr>\n",
       "      <th>ESSELPACK.NS</th>\n",
       "      <td>108.03</td>\n",
       "      <td>284.80</td>\n",
       "      <td>176.77</td>\n",
       "      <td>163.64</td>\n",
       "    </tr>\n",
       "    <tr>\n",
       "      <th>DEEPAKNTR.NS</th>\n",
       "      <td>269.44</td>\n",
       "      <td>702.00</td>\n",
       "      <td>432.56</td>\n",
       "      <td>160.54</td>\n",
       "    </tr>\n",
       "    <tr>\n",
       "      <th>BSOFT.NS</th>\n",
       "      <td>65.34</td>\n",
       "      <td>168.45</td>\n",
       "      <td>103.11</td>\n",
       "      <td>157.81</td>\n",
       "    </tr>\n",
       "    <tr>\n",
       "      <th>DHANUKA.NS</th>\n",
       "      <td>296.73</td>\n",
       "      <td>764.45</td>\n",
       "      <td>467.72</td>\n",
       "      <td>157.62</td>\n",
       "    </tr>\n",
       "    <tr>\n",
       "      <th>JINDALSTEL.NS</th>\n",
       "      <td>92.80</td>\n",
       "      <td>218.00</td>\n",
       "      <td>125.20</td>\n",
       "      <td>134.91</td>\n",
       "    </tr>\n",
       "    <tr>\n",
       "      <th>ISEC.NS</th>\n",
       "      <td>207.56</td>\n",
       "      <td>483.40</td>\n",
       "      <td>275.84</td>\n",
       "      <td>132.90</td>\n",
       "    </tr>\n",
       "    <tr>\n",
       "      <th>ESCORTS.NS</th>\n",
       "      <td>490.50</td>\n",
       "      <td>1111.75</td>\n",
       "      <td>621.25</td>\n",
       "      <td>126.66</td>\n",
       "    </tr>\n",
       "    <tr>\n",
       "      <th>AMBER.NS</th>\n",
       "      <td>820.28</td>\n",
       "      <td>1790.75</td>\n",
       "      <td>970.47</td>\n",
       "      <td>118.31</td>\n",
       "    </tr>\n",
       "    <tr>\n",
       "      <th>CDSL.NS</th>\n",
       "      <td>188.48</td>\n",
       "      <td>408.90</td>\n",
       "      <td>220.42</td>\n",
       "      <td>116.95</td>\n",
       "    </tr>\n",
       "    <tr>\n",
       "      <th>VAIBHAVGBL.NS</th>\n",
       "      <td>782.12</td>\n",
       "      <td>1671.40</td>\n",
       "      <td>889.28</td>\n",
       "      <td>113.70</td>\n",
       "    </tr>\n",
       "    <tr>\n",
       "      <th>TATACOMM.NS</th>\n",
       "      <td>412.42</td>\n",
       "      <td>869.90</td>\n",
       "      <td>457.48</td>\n",
       "      <td>110.93</td>\n",
       "    </tr>\n",
       "    <tr>\n",
       "      <th>IPCALAB.NS</th>\n",
       "      <td>957.57</td>\n",
       "      <td>2014.90</td>\n",
       "      <td>1057.33</td>\n",
       "      <td>110.42</td>\n",
       "    </tr>\n",
       "    <tr>\n",
       "      <th>POLYMED.NS</th>\n",
       "      <td>191.70</td>\n",
       "      <td>400.90</td>\n",
       "      <td>209.20</td>\n",
       "      <td>109.12</td>\n",
       "    </tr>\n",
       "    <tr>\n",
       "      <th>SCI.NS</th>\n",
       "      <td>27.95</td>\n",
       "      <td>58.30</td>\n",
       "      <td>30.35</td>\n",
       "      <td>108.59</td>\n",
       "    </tr>\n",
       "    <tr>\n",
       "      <th>JBCHEPHARM.NS</th>\n",
       "      <td>370.60</td>\n",
       "      <td>762.10</td>\n",
       "      <td>391.50</td>\n",
       "      <td>105.64</td>\n",
       "    </tr>\n",
       "    <tr>\n",
       "      <th>TATACONSUM.NS</th>\n",
       "      <td>269.22</td>\n",
       "      <td>548.50</td>\n",
       "      <td>279.28</td>\n",
       "      <td>103.74</td>\n",
       "    </tr>\n",
       "    <tr>\n",
       "      <th>DIVISLAB.NS</th>\n",
       "      <td>1627.31</td>\n",
       "      <td>3231.10</td>\n",
       "      <td>1603.79</td>\n",
       "      <td>98.55</td>\n",
       "    </tr>\n",
       "    <tr>\n",
       "      <th>COROMANDEL.NS</th>\n",
       "      <td>373.97</td>\n",
       "      <td>740.20</td>\n",
       "      <td>366.23</td>\n",
       "      <td>97.93</td>\n",
       "    </tr>\n",
       "    <tr>\n",
       "      <th>INFIBEAM.NS</th>\n",
       "      <td>39.41</td>\n",
       "      <td>77.20</td>\n",
       "      <td>37.79</td>\n",
       "      <td>95.87</td>\n",
       "    </tr>\n",
       "    <tr>\n",
       "      <th>TIINDIA.NS</th>\n",
       "      <td>328.86</td>\n",
       "      <td>644.10</td>\n",
       "      <td>315.24</td>\n",
       "      <td>95.86</td>\n",
       "    </tr>\n",
       "    <tr>\n",
       "      <th>MUTHOOTFIN.NS</th>\n",
       "      <td>591.92</td>\n",
       "      <td>1159.10</td>\n",
       "      <td>567.18</td>\n",
       "      <td>95.82</td>\n",
       "    </tr>\n",
       "    <tr>\n",
       "      <th>ASTRAZEN.NS</th>\n",
       "      <td>1845.30</td>\n",
       "      <td>3589.45</td>\n",
       "      <td>1744.15</td>\n",
       "      <td>94.52</td>\n",
       "    </tr>\n",
       "    <tr>\n",
       "      <th>RALLIS.NS</th>\n",
       "      <td>153.10</td>\n",
       "      <td>297.55</td>\n",
       "      <td>144.45</td>\n",
       "      <td>94.35</td>\n",
       "    </tr>\n",
       "    <tr>\n",
       "      <th>EIDPARRY.NS</th>\n",
       "      <td>151.60</td>\n",
       "      <td>294.00</td>\n",
       "      <td>142.40</td>\n",
       "      <td>93.93</td>\n",
       "    </tr>\n",
       "    <tr>\n",
       "      <th>BHARATRAS.NS</th>\n",
       "      <td>4806.43</td>\n",
       "      <td>9312.90</td>\n",
       "      <td>4506.47</td>\n",
       "      <td>93.76</td>\n",
       "    </tr>\n",
       "    <tr>\n",
       "      <th>ITI.NS</th>\n",
       "      <td>68.35</td>\n",
       "      <td>132.00</td>\n",
       "      <td>63.65</td>\n",
       "      <td>93.12</td>\n",
       "    </tr>\n",
       "    <tr>\n",
       "      <th>APLAPOLLO.NS</th>\n",
       "      <td>1268.05</td>\n",
       "      <td>2399.30</td>\n",
       "      <td>1131.25</td>\n",
       "      <td>89.21</td>\n",
       "    </tr>\n",
       "    <tr>\n",
       "      <th>FDC.NS</th>\n",
       "      <td>160.02</td>\n",
       "      <td>302.40</td>\n",
       "      <td>142.38</td>\n",
       "      <td>88.97</td>\n",
       "    </tr>\n",
       "    <tr>\n",
       "      <th>BAYERCROP.NS</th>\n",
       "      <td>3041.19</td>\n",
       "      <td>5738.10</td>\n",
       "      <td>2696.91</td>\n",
       "      <td>88.68</td>\n",
       "    </tr>\n",
       "    <tr>\n",
       "      <th>APLLTD.NS</th>\n",
       "      <td>491.12</td>\n",
       "      <td>918.45</td>\n",
       "      <td>427.33</td>\n",
       "      <td>87.01</td>\n",
       "    </tr>\n",
       "    <tr>\n",
       "      <th>BALKRISIND.NS</th>\n",
       "      <td>717.29</td>\n",
       "      <td>1335.85</td>\n",
       "      <td>618.56</td>\n",
       "      <td>86.24</td>\n",
       "    </tr>\n",
       "    <tr>\n",
       "      <th>JUBLFOOD.NS</th>\n",
       "      <td>1168.14</td>\n",
       "      <td>2148.90</td>\n",
       "      <td>980.76</td>\n",
       "      <td>83.96</td>\n",
       "    </tr>\n",
       "    <tr>\n",
       "      <th>GUJGASLTD.NS</th>\n",
       "      <td>170.78</td>\n",
       "      <td>314.00</td>\n",
       "      <td>143.22</td>\n",
       "      <td>83.86</td>\n",
       "    </tr>\n",
       "    <tr>\n",
       "      <th>MCX.NS</th>\n",
       "      <td>847.28</td>\n",
       "      <td>1550.75</td>\n",
       "      <td>703.47</td>\n",
       "      <td>83.03</td>\n",
       "    </tr>\n",
       "    <tr>\n",
       "      <th>JUBILANT.NS</th>\n",
       "      <td>428.96</td>\n",
       "      <td>784.95</td>\n",
       "      <td>355.99</td>\n",
       "      <td>82.99</td>\n",
       "    </tr>\n",
       "    <tr>\n",
       "      <th>MIDHANI.NS</th>\n",
       "      <td>113.63</td>\n",
       "      <td>206.70</td>\n",
       "      <td>93.07</td>\n",
       "      <td>81.90</td>\n",
       "    </tr>\n",
       "    <tr>\n",
       "      <th>BIOCON.NS</th>\n",
       "      <td>225.40</td>\n",
       "      <td>405.35</td>\n",
       "      <td>179.95</td>\n",
       "      <td>79.84</td>\n",
       "    </tr>\n",
       "    <tr>\n",
       "      <th>TATAELXSI.NS</th>\n",
       "      <td>616.30</td>\n",
       "      <td>1097.30</td>\n",
       "      <td>481.00</td>\n",
       "      <td>78.05</td>\n",
       "    </tr>\n",
       "    <tr>\n",
       "      <th>PERSISTENT.NS</th>\n",
       "      <td>544.21</td>\n",
       "      <td>961.85</td>\n",
       "      <td>417.64</td>\n",
       "      <td>76.74</td>\n",
       "    </tr>\n",
       "    <tr>\n",
       "      <th>ABBOTINDIA.NS</th>\n",
       "      <td>9287.09</td>\n",
       "      <td>16402.80</td>\n",
       "      <td>7115.71</td>\n",
       "      <td>76.62</td>\n",
       "    </tr>\n",
       "    <tr>\n",
       "      <th>FINEORG.NS</th>\n",
       "      <td>1423.21</td>\n",
       "      <td>2513.45</td>\n",
       "      <td>1090.24</td>\n",
       "      <td>76.60</td>\n",
       "    </tr>\n",
       "  </tbody>\n",
       "</table>\n",
       "</div>"
      ],
      "text/plain": [
       "               2019-09-03  2020-09-01   Change  % Change\n",
       "MOMENTUM_ATH                                            \n",
       "ADANIGREEN.NS       44.45      494.65   450.20   1012.82\n",
       "ALKYLAMINE.NS      746.28     3165.75  2419.47    324.21\n",
       "GMMPFAUDLR.NS     1434.86     5404.45  3969.59    276.65\n",
       "GRANULES.NS         89.56      324.05   234.49    261.83\n",
       "LAURUSLABS.NS      325.45     1122.90   797.45    245.03\n",
       "INDIAMART.NS      1195.27     3828.15  2632.88    220.28\n",
       "AFFLE.NS           835.60     2652.25  1816.65    217.41\n",
       "DIXON.NS          2645.11     8295.20  5650.09    213.61\n",
       "NAVINFLUOR.NS      714.20     1957.00  1242.80    174.01\n",
       "ESSELPACK.NS       108.03      284.80   176.77    163.64\n",
       "DEEPAKNTR.NS       269.44      702.00   432.56    160.54\n",
       "BSOFT.NS            65.34      168.45   103.11    157.81\n",
       "DHANUKA.NS         296.73      764.45   467.72    157.62\n",
       "JINDALSTEL.NS       92.80      218.00   125.20    134.91\n",
       "ISEC.NS            207.56      483.40   275.84    132.90\n",
       "ESCORTS.NS         490.50     1111.75   621.25    126.66\n",
       "AMBER.NS           820.28     1790.75   970.47    118.31\n",
       "CDSL.NS            188.48      408.90   220.42    116.95\n",
       "VAIBHAVGBL.NS      782.12     1671.40   889.28    113.70\n",
       "TATACOMM.NS        412.42      869.90   457.48    110.93\n",
       "IPCALAB.NS         957.57     2014.90  1057.33    110.42\n",
       "POLYMED.NS         191.70      400.90   209.20    109.12\n",
       "SCI.NS              27.95       58.30    30.35    108.59\n",
       "JBCHEPHARM.NS      370.60      762.10   391.50    105.64\n",
       "TATACONSUM.NS      269.22      548.50   279.28    103.74\n",
       "DIVISLAB.NS       1627.31     3231.10  1603.79     98.55\n",
       "COROMANDEL.NS      373.97      740.20   366.23     97.93\n",
       "INFIBEAM.NS         39.41       77.20    37.79     95.87\n",
       "TIINDIA.NS         328.86      644.10   315.24     95.86\n",
       "MUTHOOTFIN.NS      591.92     1159.10   567.18     95.82\n",
       "ASTRAZEN.NS       1845.30     3589.45  1744.15     94.52\n",
       "RALLIS.NS          153.10      297.55   144.45     94.35\n",
       "EIDPARRY.NS        151.60      294.00   142.40     93.93\n",
       "BHARATRAS.NS      4806.43     9312.90  4506.47     93.76\n",
       "ITI.NS              68.35      132.00    63.65     93.12\n",
       "APLAPOLLO.NS      1268.05     2399.30  1131.25     89.21\n",
       "FDC.NS             160.02      302.40   142.38     88.97\n",
       "BAYERCROP.NS      3041.19     5738.10  2696.91     88.68\n",
       "APLLTD.NS          491.12      918.45   427.33     87.01\n",
       "BALKRISIND.NS      717.29     1335.85   618.56     86.24\n",
       "JUBLFOOD.NS       1168.14     2148.90   980.76     83.96\n",
       "GUJGASLTD.NS       170.78      314.00   143.22     83.86\n",
       "MCX.NS             847.28     1550.75   703.47     83.03\n",
       "JUBILANT.NS        428.96      784.95   355.99     82.99\n",
       "MIDHANI.NS         113.63      206.70    93.07     81.90\n",
       "BIOCON.NS          225.40      405.35   179.95     79.84\n",
       "TATAELXSI.NS       616.30     1097.30   481.00     78.05\n",
       "PERSISTENT.NS      544.21      961.85   417.64     76.74\n",
       "ABBOTINDIA.NS     9287.09    16402.80  7115.71     76.62\n",
       "FINEORG.NS        1423.21     2513.45  1090.24     76.60"
      ]
     },
     "execution_count": 24,
     "metadata": {},
     "output_type": "execute_result"
    }
   ],
   "source": [
    "final_df.round(2).head(50)"
   ]
  },
  {
   "cell_type": "code",
   "execution_count": 25,
   "metadata": {},
   "outputs": [],
   "source": [
    "filename = f'data/output/momentum_yearly_output_{eval_date}.xlsx'"
   ]
  },
  {
   "cell_type": "code",
   "execution_count": 26,
   "metadata": {},
   "outputs": [],
   "source": [
    "final_df.round(2).to_excel(filename)"
   ]
  },
  {
   "cell_type": "code",
   "execution_count": 27,
   "metadata": {},
   "outputs": [
    {
     "data": {
      "text/plain": [
       "'Done. Output file path and name --> data/output/momentum_ath_output_2020-09-01.xlsx'"
      ]
     },
     "execution_count": 27,
     "metadata": {},
     "output_type": "execute_result"
    }
   ],
   "source": [
    "f\"Done. Output file path and name --> {filename}\""
   ]
  },
  {
   "cell_type": "code",
   "execution_count": null,
   "metadata": {},
   "outputs": [],
   "source": []
  }
 ],
 "metadata": {
  "kernelspec": {
   "display_name": "Python 3",
   "language": "python",
   "name": "python3"
  },
  "language_info": {
   "codemirror_mode": {
    "name": "ipython",
    "version": 3
   },
   "file_extension": ".py",
   "mimetype": "text/x-python",
   "name": "python",
   "nbconvert_exporter": "python",
   "pygments_lexer": "ipython3",
   "version": "3.8.3"
  }
 },
 "nbformat": 4,
 "nbformat_minor": 4
}
