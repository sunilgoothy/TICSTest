{
 "cells": [
  {
   "cell_type": "code",
   "execution_count": 29,
   "metadata": {},
   "outputs": [],
   "source": [
    "import yfinance as yf\n",
    "import pandas as pd\n",
    "from stock_config import momentum_stock_list "
   ]
  },
  {
   "cell_type": "markdown",
   "metadata": {},
   "source": [
    "## Input the evaluation date below (1st friday of every month)"
   ]
  },
  {
   "cell_type": "code",
   "execution_count": 30,
   "metadata": {},
   "outputs": [],
   "source": [
    "eval_date = \"2020-09-12\""
   ]
  },
  {
   "cell_type": "markdown",
   "metadata": {},
   "source": [
    "#### Function to check valid trading day. If open price is not returned then next date is checked until valid date is found"
   ]
  },
  {
   "cell_type": "code",
   "execution_count": 31,
   "metadata": {},
   "outputs": [],
   "source": [
    "def get_valid_date(start_date, end_date):\n",
    "    valid = False\n",
    "    while not valid:\n",
    "        valid_check_data = yf.download('RELIANCE.NS', start = start_date, end=end_date)\n",
    "        try:\n",
    "            open_price = valid_check_data.iloc[0]['Open']\n",
    "            valid = True\n",
    "        except:\n",
    "            start_date = (pd.to_datetime(start_date) + pd.DateOffset(days=1)).strftime('%Y-%m-%d')\n",
    "            end_date = (pd.to_datetime(end_date) + pd.DateOffset(days=1)).strftime('%Y-%m-%d')\n",
    "            valid = False\n",
    "    return start_date, end_date"
   ]
  },
  {
   "cell_type": "markdown",
   "metadata": {},
   "source": [
    "#### Get valid start and end dates for this year"
   ]
  },
  {
   "cell_type": "code",
   "execution_count": 32,
   "metadata": {},
   "outputs": [
    {
     "name": "stdout",
     "output_type": "stream",
     "text": [
      "[*********************100%***********************]  1 of 1 completed\n"
     ]
    }
   ],
   "source": [
    "start_date=eval_date\n",
    "end_date = (pd.to_datetime(start_date) + pd.DateOffset(days=1)).strftime('%Y-%m-%d')\n",
    "start_date, end_date = get_valid_date(start_date, end_date)"
   ]
  },
  {
   "cell_type": "code",
   "execution_count": 33,
   "metadata": {},
   "outputs": [
    {
     "data": {
      "text/plain": [
       "'2020-09-12'"
      ]
     },
     "execution_count": 33,
     "metadata": {},
     "output_type": "execute_result"
    }
   ],
   "source": [
    "start_date"
   ]
  },
  {
   "cell_type": "code",
   "execution_count": 34,
   "metadata": {},
   "outputs": [
    {
     "data": {
      "text/plain": [
       "'2020-09-13'"
      ]
     },
     "execution_count": 34,
     "metadata": {},
     "output_type": "execute_result"
    }
   ],
   "source": [
    "end_date"
   ]
  },
  {
   "cell_type": "markdown",
   "metadata": {},
   "source": [
    "### Fetch this year data"
   ]
  },
  {
   "cell_type": "markdown",
   "metadata": {},
   "source": [
    "#### [Below data fetch will throw error if there is no trading day between start and end dates]"
   ]
  },
  {
   "cell_type": "code",
   "execution_count": 35,
   "metadata": {},
   "outputs": [
    {
     "name": "stdout",
     "output_type": "stream",
     "text": [
      "[*********************100%***********************]  493 of 493 completed\n"
     ]
    }
   ],
   "source": [
    "data = yf.download(momentum_stock_list, start = start_date, end=end_date)"
   ]
  },
  {
   "cell_type": "code",
   "execution_count": 36,
   "metadata": {},
   "outputs": [],
   "source": [
    "this_year_close = pd.DataFrame(data.iloc[0]['Adj Close'])"
   ]
  },
  {
   "cell_type": "code",
   "execution_count": 37,
   "metadata": {},
   "outputs": [
    {
     "data": {
      "text/html": [
       "<div>\n",
       "<style scoped>\n",
       "    .dataframe tbody tr th:only-of-type {\n",
       "        vertical-align: middle;\n",
       "    }\n",
       "\n",
       "    .dataframe tbody tr th {\n",
       "        vertical-align: top;\n",
       "    }\n",
       "\n",
       "    .dataframe thead th {\n",
       "        text-align: right;\n",
       "    }\n",
       "</style>\n",
       "<table border=\"1\" class=\"dataframe\">\n",
       "  <thead>\n",
       "    <tr style=\"text-align: right;\">\n",
       "      <th></th>\n",
       "      <th>2020-09-11</th>\n",
       "    </tr>\n",
       "  </thead>\n",
       "  <tbody>\n",
       "    <tr>\n",
       "      <th>3MINDIA.NS</th>\n",
       "      <td>18569.000000</td>\n",
       "    </tr>\n",
       "    <tr>\n",
       "      <th>AARTIIND.NS</th>\n",
       "      <td>1022.299988</td>\n",
       "    </tr>\n",
       "    <tr>\n",
       "      <th>AAVAS.NS</th>\n",
       "      <td>1322.449951</td>\n",
       "    </tr>\n",
       "    <tr>\n",
       "      <th>ABB.NS</th>\n",
       "      <td>898.400024</td>\n",
       "    </tr>\n",
       "    <tr>\n",
       "      <th>ABBOTINDIA.NS</th>\n",
       "      <td>16819.250000</td>\n",
       "    </tr>\n",
       "    <tr>\n",
       "      <th>...</th>\n",
       "      <td>...</td>\n",
       "    </tr>\n",
       "    <tr>\n",
       "      <th>WIPRO.NS</th>\n",
       "      <td>293.299988</td>\n",
       "    </tr>\n",
       "    <tr>\n",
       "      <th>WOCKPHARMA.NS</th>\n",
       "      <td>291.149994</td>\n",
       "    </tr>\n",
       "    <tr>\n",
       "      <th>ZEEL.NS</th>\n",
       "      <td>218.100006</td>\n",
       "    </tr>\n",
       "    <tr>\n",
       "      <th>ZENSARTECH.NS</th>\n",
       "      <td>173.399994</td>\n",
       "    </tr>\n",
       "    <tr>\n",
       "      <th>ZYDUSWELL.NS</th>\n",
       "      <td>1642.599976</td>\n",
       "    </tr>\n",
       "  </tbody>\n",
       "</table>\n",
       "<p>493 rows × 1 columns</p>\n",
       "</div>"
      ],
      "text/plain": [
       "                 2020-09-11\n",
       "3MINDIA.NS     18569.000000\n",
       "AARTIIND.NS     1022.299988\n",
       "AAVAS.NS        1322.449951\n",
       "ABB.NS           898.400024\n",
       "ABBOTINDIA.NS  16819.250000\n",
       "...                     ...\n",
       "WIPRO.NS         293.299988\n",
       "WOCKPHARMA.NS    291.149994\n",
       "ZEEL.NS          218.100006\n",
       "ZENSARTECH.NS    173.399994\n",
       "ZYDUSWELL.NS    1642.599976\n",
       "\n",
       "[493 rows x 1 columns]"
      ]
     },
     "execution_count": 37,
     "metadata": {},
     "output_type": "execute_result"
    }
   ],
   "source": [
    "this_year_close"
   ]
  },
  {
   "cell_type": "markdown",
   "metadata": {},
   "source": [
    "#### Calculate dates for last year"
   ]
  },
  {
   "cell_type": "code",
   "execution_count": 38,
   "metadata": {},
   "outputs": [],
   "source": [
    "start_date=(pd.to_datetime(eval_date) - pd.DateOffset(years=1)).strftime('%Y-%m-%d')\n",
    "end_date = (pd.to_datetime(start_date) + pd.DateOffset(days=1)).strftime('%Y-%m-%d')"
   ]
  },
  {
   "cell_type": "markdown",
   "metadata": {},
   "source": [
    "#### Get valid start and end dates for last year"
   ]
  },
  {
   "cell_type": "code",
   "execution_count": 39,
   "metadata": {},
   "outputs": [
    {
     "name": "stdout",
     "output_type": "stream",
     "text": [
      "[*********************100%***********************]  1 of 1 completed\n"
     ]
    }
   ],
   "source": [
    "start_date, end_date = get_valid_date(start_date, end_date)"
   ]
  },
  {
   "cell_type": "code",
   "execution_count": 40,
   "metadata": {},
   "outputs": [
    {
     "data": {
      "text/plain": [
       "'2019-09-12'"
      ]
     },
     "execution_count": 40,
     "metadata": {},
     "output_type": "execute_result"
    }
   ],
   "source": [
    "start_date"
   ]
  },
  {
   "cell_type": "code",
   "execution_count": 41,
   "metadata": {},
   "outputs": [
    {
     "data": {
      "text/plain": [
       "'2019-09-13'"
      ]
     },
     "execution_count": 41,
     "metadata": {},
     "output_type": "execute_result"
    }
   ],
   "source": [
    "end_date"
   ]
  },
  {
   "cell_type": "markdown",
   "metadata": {},
   "source": [
    "### Fetch last year data"
   ]
  },
  {
   "cell_type": "markdown",
   "metadata": {},
   "source": [
    "#### [Below data fetch will throw error if there is no trading day between start and end dates]"
   ]
  },
  {
   "cell_type": "code",
   "execution_count": 42,
   "metadata": {},
   "outputs": [
    {
     "name": "stdout",
     "output_type": "stream",
     "text": [
      "[*********************100%***********************]  493 of 493 completed\n",
      "\n",
      "8 Failed downloads:\n",
      "- CDSL.NS: No data found for this date range, symbol may be delisted\n",
      "- RELIANCE.NS: No data found, symbol may be delisted\n",
      "- TORNTPOWER.NS: No data found, symbol may be delisted\n",
      "- AEGISCHEM.NS: No data found, symbol may be delisted\n",
      "- MAHABANK.NS: No data found, symbol may be delisted\n",
      "- ICICIGI.NS: No data found, symbol may be delisted\n",
      "- JUBILANT.NS: No data found, symbol may be delisted\n",
      "- BANKBARODA.NS: No data found for this date range, symbol may be delisted\n"
     ]
    }
   ],
   "source": [
    "data = yf.download(momentum_stock_list, start = start_date, end=end_date)"
   ]
  },
  {
   "cell_type": "code",
   "execution_count": 43,
   "metadata": {},
   "outputs": [],
   "source": [
    "last_year_close = pd.DataFrame(data.iloc[0]['Adj Close'])"
   ]
  },
  {
   "cell_type": "code",
   "execution_count": 44,
   "metadata": {},
   "outputs": [
    {
     "data": {
      "text/html": [
       "<div>\n",
       "<style scoped>\n",
       "    .dataframe tbody tr th:only-of-type {\n",
       "        vertical-align: middle;\n",
       "    }\n",
       "\n",
       "    .dataframe tbody tr th {\n",
       "        vertical-align: top;\n",
       "    }\n",
       "\n",
       "    .dataframe thead th {\n",
       "        text-align: right;\n",
       "    }\n",
       "</style>\n",
       "<table border=\"1\" class=\"dataframe\">\n",
       "  <thead>\n",
       "    <tr style=\"text-align: right;\">\n",
       "      <th></th>\n",
       "      <th>2019-09-12</th>\n",
       "    </tr>\n",
       "  </thead>\n",
       "  <tbody>\n",
       "    <tr>\n",
       "      <th>3MINDIA.NS</th>\n",
       "      <td>20142.099609</td>\n",
       "    </tr>\n",
       "    <tr>\n",
       "      <th>AARTIIND.NS</th>\n",
       "      <td>789.889709</td>\n",
       "    </tr>\n",
       "    <tr>\n",
       "      <th>AAVAS.NS</th>\n",
       "      <td>1541.599976</td>\n",
       "    </tr>\n",
       "    <tr>\n",
       "      <th>ABB.NS</th>\n",
       "      <td>1312.551758</td>\n",
       "    </tr>\n",
       "    <tr>\n",
       "      <th>ABBOTINDIA.NS</th>\n",
       "      <td>9597.436523</td>\n",
       "    </tr>\n",
       "    <tr>\n",
       "      <th>...</th>\n",
       "      <td>...</td>\n",
       "    </tr>\n",
       "    <tr>\n",
       "      <th>WIPRO.NS</th>\n",
       "      <td>243.566681</td>\n",
       "    </tr>\n",
       "    <tr>\n",
       "      <th>WOCKPHARMA.NS</th>\n",
       "      <td>324.299988</td>\n",
       "    </tr>\n",
       "    <tr>\n",
       "      <th>ZEEL.NS</th>\n",
       "      <td>345.930939</td>\n",
       "    </tr>\n",
       "    <tr>\n",
       "      <th>ZENSARTECH.NS</th>\n",
       "      <td>214.066025</td>\n",
       "    </tr>\n",
       "    <tr>\n",
       "      <th>ZYDUSWELL.NS</th>\n",
       "      <td>1784.295288</td>\n",
       "    </tr>\n",
       "  </tbody>\n",
       "</table>\n",
       "<p>493 rows × 1 columns</p>\n",
       "</div>"
      ],
      "text/plain": [
       "                 2019-09-12\n",
       "3MINDIA.NS     20142.099609\n",
       "AARTIIND.NS      789.889709\n",
       "AAVAS.NS        1541.599976\n",
       "ABB.NS          1312.551758\n",
       "ABBOTINDIA.NS   9597.436523\n",
       "...                     ...\n",
       "WIPRO.NS         243.566681\n",
       "WOCKPHARMA.NS    324.299988\n",
       "ZEEL.NS          345.930939\n",
       "ZENSARTECH.NS    214.066025\n",
       "ZYDUSWELL.NS    1784.295288\n",
       "\n",
       "[493 rows x 1 columns]"
      ]
     },
     "execution_count": 44,
     "metadata": {},
     "output_type": "execute_result"
    }
   ],
   "source": [
    "last_year_close"
   ]
  },
  {
   "cell_type": "code",
   "execution_count": 45,
   "metadata": {},
   "outputs": [],
   "source": [
    "final_df = last_year_close.join(this_year_close)"
   ]
  },
  {
   "cell_type": "code",
   "execution_count": 46,
   "metadata": {
    "scrolled": false
   },
   "outputs": [
    {
     "data": {
      "text/html": [
       "<div>\n",
       "<style scoped>\n",
       "    .dataframe tbody tr th:only-of-type {\n",
       "        vertical-align: middle;\n",
       "    }\n",
       "\n",
       "    .dataframe tbody tr th {\n",
       "        vertical-align: top;\n",
       "    }\n",
       "\n",
       "    .dataframe thead th {\n",
       "        text-align: right;\n",
       "    }\n",
       "</style>\n",
       "<table border=\"1\" class=\"dataframe\">\n",
       "  <thead>\n",
       "    <tr style=\"text-align: right;\">\n",
       "      <th></th>\n",
       "      <th>2019-09-12</th>\n",
       "      <th>2020-09-11</th>\n",
       "    </tr>\n",
       "  </thead>\n",
       "  <tbody>\n",
       "    <tr>\n",
       "      <th>3MINDIA.NS</th>\n",
       "      <td>20142.099609</td>\n",
       "      <td>18569.000000</td>\n",
       "    </tr>\n",
       "    <tr>\n",
       "      <th>AARTIIND.NS</th>\n",
       "      <td>789.889709</td>\n",
       "      <td>1022.299988</td>\n",
       "    </tr>\n",
       "    <tr>\n",
       "      <th>AAVAS.NS</th>\n",
       "      <td>1541.599976</td>\n",
       "      <td>1322.449951</td>\n",
       "    </tr>\n",
       "    <tr>\n",
       "      <th>ABB.NS</th>\n",
       "      <td>1312.551758</td>\n",
       "      <td>898.400024</td>\n",
       "    </tr>\n",
       "    <tr>\n",
       "      <th>ABBOTINDIA.NS</th>\n",
       "      <td>9597.436523</td>\n",
       "      <td>16819.250000</td>\n",
       "    </tr>\n",
       "    <tr>\n",
       "      <th>...</th>\n",
       "      <td>...</td>\n",
       "      <td>...</td>\n",
       "    </tr>\n",
       "    <tr>\n",
       "      <th>WIPRO.NS</th>\n",
       "      <td>243.566681</td>\n",
       "      <td>293.299988</td>\n",
       "    </tr>\n",
       "    <tr>\n",
       "      <th>WOCKPHARMA.NS</th>\n",
       "      <td>324.299988</td>\n",
       "      <td>291.149994</td>\n",
       "    </tr>\n",
       "    <tr>\n",
       "      <th>ZEEL.NS</th>\n",
       "      <td>345.930939</td>\n",
       "      <td>218.100006</td>\n",
       "    </tr>\n",
       "    <tr>\n",
       "      <th>ZENSARTECH.NS</th>\n",
       "      <td>214.066025</td>\n",
       "      <td>173.399994</td>\n",
       "    </tr>\n",
       "    <tr>\n",
       "      <th>ZYDUSWELL.NS</th>\n",
       "      <td>1784.295288</td>\n",
       "      <td>1642.599976</td>\n",
       "    </tr>\n",
       "  </tbody>\n",
       "</table>\n",
       "<p>493 rows × 2 columns</p>\n",
       "</div>"
      ],
      "text/plain": [
       "                 2019-09-12    2020-09-11\n",
       "3MINDIA.NS     20142.099609  18569.000000\n",
       "AARTIIND.NS      789.889709   1022.299988\n",
       "AAVAS.NS        1541.599976   1322.449951\n",
       "ABB.NS          1312.551758    898.400024\n",
       "ABBOTINDIA.NS   9597.436523  16819.250000\n",
       "...                     ...           ...\n",
       "WIPRO.NS         243.566681    293.299988\n",
       "WOCKPHARMA.NS    324.299988    291.149994\n",
       "ZEEL.NS          345.930939    218.100006\n",
       "ZENSARTECH.NS    214.066025    173.399994\n",
       "ZYDUSWELL.NS    1784.295288   1642.599976\n",
       "\n",
       "[493 rows x 2 columns]"
      ]
     },
     "execution_count": 46,
     "metadata": {},
     "output_type": "execute_result"
    }
   ],
   "source": [
    "final_df"
   ]
  },
  {
   "cell_type": "code",
   "execution_count": 47,
   "metadata": {},
   "outputs": [],
   "source": [
    "final_df.rename(columns =lambda t: t.strftime('%Y-%m-%d'), inplace=True)"
   ]
  },
  {
   "cell_type": "markdown",
   "metadata": {},
   "source": [
    "## Calculate Momentum"
   ]
  },
  {
   "cell_type": "code",
   "execution_count": 48,
   "metadata": {
    "scrolled": true
   },
   "outputs": [],
   "source": [
    "last_year_date = final_df.columns[0]\n",
    "this_year_date = final_df.columns[1]\n",
    "final_df['Change'] = final_df[this_year_date] - final_df[last_year_date]"
   ]
  },
  {
   "cell_type": "code",
   "execution_count": 49,
   "metadata": {},
   "outputs": [],
   "source": [
    "final_df['% Change'] = (final_df['Change'] / final_df[last_year_date])*100"
   ]
  },
  {
   "cell_type": "markdown",
   "metadata": {},
   "source": [
    "## Final Output"
   ]
  },
  {
   "cell_type": "code",
   "execution_count": 50,
   "metadata": {},
   "outputs": [],
   "source": [
    "final_df.sort_values(by=['% Change'], ascending=False, inplace=True)"
   ]
  },
  {
   "cell_type": "code",
   "execution_count": 51,
   "metadata": {},
   "outputs": [],
   "source": [
    "final_df.rename_axis('MOMENTUM_ATH', inplace=True)\n",
    "final_df.rename_axis('', axis='columns', inplace=True)"
   ]
  },
  {
   "cell_type": "code",
   "execution_count": 52,
   "metadata": {},
   "outputs": [
    {
     "data": {
      "text/html": [
       "<div>\n",
       "<style scoped>\n",
       "    .dataframe tbody tr th:only-of-type {\n",
       "        vertical-align: middle;\n",
       "    }\n",
       "\n",
       "    .dataframe tbody tr th {\n",
       "        vertical-align: top;\n",
       "    }\n",
       "\n",
       "    .dataframe thead th {\n",
       "        text-align: right;\n",
       "    }\n",
       "</style>\n",
       "<table border=\"1\" class=\"dataframe\">\n",
       "  <thead>\n",
       "    <tr style=\"text-align: right;\">\n",
       "      <th></th>\n",
       "      <th>2019-09-12</th>\n",
       "      <th>2020-09-11</th>\n",
       "      <th>Change</th>\n",
       "      <th>% Change</th>\n",
       "    </tr>\n",
       "    <tr>\n",
       "      <th>MOMENTUM_ATH</th>\n",
       "      <th></th>\n",
       "      <th></th>\n",
       "      <th></th>\n",
       "      <th></th>\n",
       "    </tr>\n",
       "  </thead>\n",
       "  <tbody>\n",
       "    <tr>\n",
       "      <th>ADANIGREEN.NS</th>\n",
       "      <td>48.90</td>\n",
       "      <td>608.65</td>\n",
       "      <td>559.75</td>\n",
       "      <td>1144.68</td>\n",
       "    </tr>\n",
       "    <tr>\n",
       "      <th>ALKYLAMINE.NS</th>\n",
       "      <td>781.90</td>\n",
       "      <td>3184.90</td>\n",
       "      <td>2403.00</td>\n",
       "      <td>307.33</td>\n",
       "    </tr>\n",
       "    <tr>\n",
       "      <th>GMMPFAUDLR.NS</th>\n",
       "      <td>1462.51</td>\n",
       "      <td>5599.45</td>\n",
       "      <td>4136.94</td>\n",
       "      <td>282.87</td>\n",
       "    </tr>\n",
       "    <tr>\n",
       "      <th>LAURUSLABS.NS</th>\n",
       "      <td>341.22</td>\n",
       "      <td>1257.75</td>\n",
       "      <td>916.53</td>\n",
       "      <td>268.60</td>\n",
       "    </tr>\n",
       "    <tr>\n",
       "      <th>DIXON.NS</th>\n",
       "      <td>2524.36</td>\n",
       "      <td>9240.00</td>\n",
       "      <td>6715.64</td>\n",
       "      <td>266.03</td>\n",
       "    </tr>\n",
       "    <tr>\n",
       "      <th>AFFLE.NS</th>\n",
       "      <td>857.75</td>\n",
       "      <td>2907.95</td>\n",
       "      <td>2050.20</td>\n",
       "      <td>239.02</td>\n",
       "    </tr>\n",
       "    <tr>\n",
       "      <th>GRANULES.NS</th>\n",
       "      <td>103.37</td>\n",
       "      <td>344.30</td>\n",
       "      <td>240.93</td>\n",
       "      <td>233.06</td>\n",
       "    </tr>\n",
       "    <tr>\n",
       "      <th>INDIAMART.NS</th>\n",
       "      <td>1611.50</td>\n",
       "      <td>4768.00</td>\n",
       "      <td>3156.50</td>\n",
       "      <td>195.87</td>\n",
       "    </tr>\n",
       "    <tr>\n",
       "      <th>DEEPAKNTR.NS</th>\n",
       "      <td>270.43</td>\n",
       "      <td>733.15</td>\n",
       "      <td>462.72</td>\n",
       "      <td>171.11</td>\n",
       "    </tr>\n",
       "    <tr>\n",
       "      <th>ESSELPACK.NS</th>\n",
       "      <td>105.53</td>\n",
       "      <td>281.45</td>\n",
       "      <td>175.92</td>\n",
       "      <td>166.71</td>\n",
       "    </tr>\n",
       "    <tr>\n",
       "      <th>NAVINFLUOR.NS</th>\n",
       "      <td>738.59</td>\n",
       "      <td>1957.45</td>\n",
       "      <td>1218.86</td>\n",
       "      <td>165.02</td>\n",
       "    </tr>\n",
       "    <tr>\n",
       "      <th>BSOFT.NS</th>\n",
       "      <td>70.89</td>\n",
       "      <td>166.20</td>\n",
       "      <td>95.31</td>\n",
       "      <td>134.45</td>\n",
       "    </tr>\n",
       "    <tr>\n",
       "      <th>ESCORTS.NS</th>\n",
       "      <td>521.98</td>\n",
       "      <td>1198.60</td>\n",
       "      <td>676.62</td>\n",
       "      <td>129.63</td>\n",
       "    </tr>\n",
       "    <tr>\n",
       "      <th>DHANUKA.NS</th>\n",
       "      <td>320.62</td>\n",
       "      <td>735.55</td>\n",
       "      <td>414.93</td>\n",
       "      <td>129.41</td>\n",
       "    </tr>\n",
       "    <tr>\n",
       "      <th>POLYMED.NS</th>\n",
       "      <td>216.86</td>\n",
       "      <td>476.75</td>\n",
       "      <td>259.89</td>\n",
       "      <td>119.84</td>\n",
       "    </tr>\n",
       "    <tr>\n",
       "      <th>VAIBHAVGBL.NS</th>\n",
       "      <td>813.24</td>\n",
       "      <td>1760.40</td>\n",
       "      <td>947.16</td>\n",
       "      <td>116.47</td>\n",
       "    </tr>\n",
       "    <tr>\n",
       "      <th>JBCHEPHARM.NS</th>\n",
       "      <td>373.40</td>\n",
       "      <td>799.65</td>\n",
       "      <td>426.25</td>\n",
       "      <td>114.15</td>\n",
       "    </tr>\n",
       "    <tr>\n",
       "      <th>IPCALAB.NS</th>\n",
       "      <td>941.08</td>\n",
       "      <td>2013.40</td>\n",
       "      <td>1072.32</td>\n",
       "      <td>113.95</td>\n",
       "    </tr>\n",
       "    <tr>\n",
       "      <th>AMBER.NS</th>\n",
       "      <td>838.33</td>\n",
       "      <td>1770.05</td>\n",
       "      <td>931.72</td>\n",
       "      <td>111.14</td>\n",
       "    </tr>\n",
       "    <tr>\n",
       "      <th>TATACONSUM.NS</th>\n",
       "      <td>260.38</td>\n",
       "      <td>548.40</td>\n",
       "      <td>288.02</td>\n",
       "      <td>110.61</td>\n",
       "    </tr>\n",
       "    <tr>\n",
       "      <th>ISEC.NS</th>\n",
       "      <td>226.91</td>\n",
       "      <td>473.55</td>\n",
       "      <td>246.64</td>\n",
       "      <td>108.70</td>\n",
       "    </tr>\n",
       "    <tr>\n",
       "      <th>TATAELXSI.NS</th>\n",
       "      <td>634.03</td>\n",
       "      <td>1289.95</td>\n",
       "      <td>655.92</td>\n",
       "      <td>103.45</td>\n",
       "    </tr>\n",
       "    <tr>\n",
       "      <th>TATACOMM.NS</th>\n",
       "      <td>425.81</td>\n",
       "      <td>863.10</td>\n",
       "      <td>437.29</td>\n",
       "      <td>102.70</td>\n",
       "    </tr>\n",
       "    <tr>\n",
       "      <th>IDEA.NS</th>\n",
       "      <td>5.55</td>\n",
       "      <td>11.15</td>\n",
       "      <td>5.60</td>\n",
       "      <td>100.90</td>\n",
       "    </tr>\n",
       "    <tr>\n",
       "      <th>INFIBEAM.NS</th>\n",
       "      <td>39.96</td>\n",
       "      <td>80.05</td>\n",
       "      <td>40.09</td>\n",
       "      <td>100.31</td>\n",
       "    </tr>\n",
       "    <tr>\n",
       "      <th>ASTRAZEN.NS</th>\n",
       "      <td>2044.58</td>\n",
       "      <td>4025.95</td>\n",
       "      <td>1981.37</td>\n",
       "      <td>96.91</td>\n",
       "    </tr>\n",
       "    <tr>\n",
       "      <th>FDC.NS</th>\n",
       "      <td>166.94</td>\n",
       "      <td>326.75</td>\n",
       "      <td>159.81</td>\n",
       "      <td>95.72</td>\n",
       "    </tr>\n",
       "    <tr>\n",
       "      <th>DIVISLAB.NS</th>\n",
       "      <td>1632.97</td>\n",
       "      <td>3146.65</td>\n",
       "      <td>1513.68</td>\n",
       "      <td>92.70</td>\n",
       "    </tr>\n",
       "    <tr>\n",
       "      <th>MUTHOOTFIN.NS</th>\n",
       "      <td>588.55</td>\n",
       "      <td>1128.50</td>\n",
       "      <td>539.95</td>\n",
       "      <td>91.74</td>\n",
       "    </tr>\n",
       "    <tr>\n",
       "      <th>COROMANDEL.NS</th>\n",
       "      <td>391.64</td>\n",
       "      <td>748.20</td>\n",
       "      <td>356.56</td>\n",
       "      <td>91.04</td>\n",
       "    </tr>\n",
       "    <tr>\n",
       "      <th>BAYERCROP.NS</th>\n",
       "      <td>3094.77</td>\n",
       "      <td>5902.95</td>\n",
       "      <td>2808.18</td>\n",
       "      <td>90.74</td>\n",
       "    </tr>\n",
       "    <tr>\n",
       "      <th>JUBLFOOD.NS</th>\n",
       "      <td>1220.89</td>\n",
       "      <td>2327.30</td>\n",
       "      <td>1106.41</td>\n",
       "      <td>90.62</td>\n",
       "    </tr>\n",
       "    <tr>\n",
       "      <th>APLAPOLLO.NS</th>\n",
       "      <td>1271.51</td>\n",
       "      <td>2421.30</td>\n",
       "      <td>1149.79</td>\n",
       "      <td>90.43</td>\n",
       "    </tr>\n",
       "    <tr>\n",
       "      <th>JINDALSTEL.NS</th>\n",
       "      <td>107.25</td>\n",
       "      <td>201.85</td>\n",
       "      <td>94.60</td>\n",
       "      <td>88.21</td>\n",
       "    </tr>\n",
       "    <tr>\n",
       "      <th>SEQUENT.NS</th>\n",
       "      <td>77.45</td>\n",
       "      <td>145.60</td>\n",
       "      <td>68.15</td>\n",
       "      <td>87.99</td>\n",
       "    </tr>\n",
       "    <tr>\n",
       "      <th>BIOCON.NS</th>\n",
       "      <td>232.20</td>\n",
       "      <td>433.10</td>\n",
       "      <td>200.90</td>\n",
       "      <td>86.52</td>\n",
       "    </tr>\n",
       "    <tr>\n",
       "      <th>FINEORG.NS</th>\n",
       "      <td>1530.91</td>\n",
       "      <td>2848.30</td>\n",
       "      <td>1317.39</td>\n",
       "      <td>86.05</td>\n",
       "    </tr>\n",
       "    <tr>\n",
       "      <th>TIINDIA.NS</th>\n",
       "      <td>329.75</td>\n",
       "      <td>602.70</td>\n",
       "      <td>272.95</td>\n",
       "      <td>82.77</td>\n",
       "    </tr>\n",
       "    <tr>\n",
       "      <th>NAUKRI.NS</th>\n",
       "      <td>1858.19</td>\n",
       "      <td>3384.85</td>\n",
       "      <td>1526.66</td>\n",
       "      <td>82.16</td>\n",
       "    </tr>\n",
       "    <tr>\n",
       "      <th>PERSISTENT.NS</th>\n",
       "      <td>559.10</td>\n",
       "      <td>1011.05</td>\n",
       "      <td>451.95</td>\n",
       "      <td>80.84</td>\n",
       "    </tr>\n",
       "    <tr>\n",
       "      <th>RALLIS.NS</th>\n",
       "      <td>164.49</td>\n",
       "      <td>295.70</td>\n",
       "      <td>131.21</td>\n",
       "      <td>79.77</td>\n",
       "    </tr>\n",
       "    <tr>\n",
       "      <th>APLLTD.NS</th>\n",
       "      <td>508.13</td>\n",
       "      <td>911.25</td>\n",
       "      <td>403.12</td>\n",
       "      <td>79.33</td>\n",
       "    </tr>\n",
       "    <tr>\n",
       "      <th>MINDTREE.NS</th>\n",
       "      <td>660.49</td>\n",
       "      <td>1183.80</td>\n",
       "      <td>523.31</td>\n",
       "      <td>79.23</td>\n",
       "    </tr>\n",
       "    <tr>\n",
       "      <th>BHARATRAS.NS</th>\n",
       "      <td>5171.18</td>\n",
       "      <td>9250.85</td>\n",
       "      <td>4079.67</td>\n",
       "      <td>78.89</td>\n",
       "    </tr>\n",
       "    <tr>\n",
       "      <th>EIDPARRY.NS</th>\n",
       "      <td>163.80</td>\n",
       "      <td>292.10</td>\n",
       "      <td>128.30</td>\n",
       "      <td>78.33</td>\n",
       "    </tr>\n",
       "    <tr>\n",
       "      <th>GARFIBRES.NS</th>\n",
       "      <td>1079.36</td>\n",
       "      <td>1924.55</td>\n",
       "      <td>845.19</td>\n",
       "      <td>78.30</td>\n",
       "    </tr>\n",
       "    <tr>\n",
       "      <th>BALKRISIND.NS</th>\n",
       "      <td>737.19</td>\n",
       "      <td>1302.30</td>\n",
       "      <td>565.11</td>\n",
       "      <td>76.66</td>\n",
       "    </tr>\n",
       "    <tr>\n",
       "      <th>ABBOTINDIA.NS</th>\n",
       "      <td>9597.44</td>\n",
       "      <td>16819.25</td>\n",
       "      <td>7221.81</td>\n",
       "      <td>75.25</td>\n",
       "    </tr>\n",
       "    <tr>\n",
       "      <th>ITI.NS</th>\n",
       "      <td>78.45</td>\n",
       "      <td>137.00</td>\n",
       "      <td>58.55</td>\n",
       "      <td>74.63</td>\n",
       "    </tr>\n",
       "    <tr>\n",
       "      <th>STAR.NS</th>\n",
       "      <td>394.55</td>\n",
       "      <td>684.65</td>\n",
       "      <td>290.10</td>\n",
       "      <td>73.53</td>\n",
       "    </tr>\n",
       "  </tbody>\n",
       "</table>\n",
       "</div>"
      ],
      "text/plain": [
       "               2019-09-12  2020-09-11   Change  % Change\n",
       "MOMENTUM_ATH                                            \n",
       "ADANIGREEN.NS       48.90      608.65   559.75   1144.68\n",
       "ALKYLAMINE.NS      781.90     3184.90  2403.00    307.33\n",
       "GMMPFAUDLR.NS     1462.51     5599.45  4136.94    282.87\n",
       "LAURUSLABS.NS      341.22     1257.75   916.53    268.60\n",
       "DIXON.NS          2524.36     9240.00  6715.64    266.03\n",
       "AFFLE.NS           857.75     2907.95  2050.20    239.02\n",
       "GRANULES.NS        103.37      344.30   240.93    233.06\n",
       "INDIAMART.NS      1611.50     4768.00  3156.50    195.87\n",
       "DEEPAKNTR.NS       270.43      733.15   462.72    171.11\n",
       "ESSELPACK.NS       105.53      281.45   175.92    166.71\n",
       "NAVINFLUOR.NS      738.59     1957.45  1218.86    165.02\n",
       "BSOFT.NS            70.89      166.20    95.31    134.45\n",
       "ESCORTS.NS         521.98     1198.60   676.62    129.63\n",
       "DHANUKA.NS         320.62      735.55   414.93    129.41\n",
       "POLYMED.NS         216.86      476.75   259.89    119.84\n",
       "VAIBHAVGBL.NS      813.24     1760.40   947.16    116.47\n",
       "JBCHEPHARM.NS      373.40      799.65   426.25    114.15\n",
       "IPCALAB.NS         941.08     2013.40  1072.32    113.95\n",
       "AMBER.NS           838.33     1770.05   931.72    111.14\n",
       "TATACONSUM.NS      260.38      548.40   288.02    110.61\n",
       "ISEC.NS            226.91      473.55   246.64    108.70\n",
       "TATAELXSI.NS       634.03     1289.95   655.92    103.45\n",
       "TATACOMM.NS        425.81      863.10   437.29    102.70\n",
       "IDEA.NS              5.55       11.15     5.60    100.90\n",
       "INFIBEAM.NS         39.96       80.05    40.09    100.31\n",
       "ASTRAZEN.NS       2044.58     4025.95  1981.37     96.91\n",
       "FDC.NS             166.94      326.75   159.81     95.72\n",
       "DIVISLAB.NS       1632.97     3146.65  1513.68     92.70\n",
       "MUTHOOTFIN.NS      588.55     1128.50   539.95     91.74\n",
       "COROMANDEL.NS      391.64      748.20   356.56     91.04\n",
       "BAYERCROP.NS      3094.77     5902.95  2808.18     90.74\n",
       "JUBLFOOD.NS       1220.89     2327.30  1106.41     90.62\n",
       "APLAPOLLO.NS      1271.51     2421.30  1149.79     90.43\n",
       "JINDALSTEL.NS      107.25      201.85    94.60     88.21\n",
       "SEQUENT.NS          77.45      145.60    68.15     87.99\n",
       "BIOCON.NS          232.20      433.10   200.90     86.52\n",
       "FINEORG.NS        1530.91     2848.30  1317.39     86.05\n",
       "TIINDIA.NS         329.75      602.70   272.95     82.77\n",
       "NAUKRI.NS         1858.19     3384.85  1526.66     82.16\n",
       "PERSISTENT.NS      559.10     1011.05   451.95     80.84\n",
       "RALLIS.NS          164.49      295.70   131.21     79.77\n",
       "APLLTD.NS          508.13      911.25   403.12     79.33\n",
       "MINDTREE.NS        660.49     1183.80   523.31     79.23\n",
       "BHARATRAS.NS      5171.18     9250.85  4079.67     78.89\n",
       "EIDPARRY.NS        163.80      292.10   128.30     78.33\n",
       "GARFIBRES.NS      1079.36     1924.55   845.19     78.30\n",
       "BALKRISIND.NS      737.19     1302.30   565.11     76.66\n",
       "ABBOTINDIA.NS     9597.44    16819.25  7221.81     75.25\n",
       "ITI.NS              78.45      137.00    58.55     74.63\n",
       "STAR.NS            394.55      684.65   290.10     73.53"
      ]
     },
     "execution_count": 52,
     "metadata": {},
     "output_type": "execute_result"
    }
   ],
   "source": [
    "final_df.round(2).head(50)"
   ]
  },
  {
   "cell_type": "code",
   "execution_count": 53,
   "metadata": {},
   "outputs": [],
   "source": [
    "filename = f'data/output/momentum_yearly_output_{eval_date}.xlsx'"
   ]
  },
  {
   "cell_type": "code",
   "execution_count": 54,
   "metadata": {},
   "outputs": [],
   "source": [
    "final_df.round(2).to_excel(filename)"
   ]
  },
  {
   "cell_type": "code",
   "execution_count": 55,
   "metadata": {},
   "outputs": [
    {
     "data": {
      "text/plain": [
       "'Done. Output file path and name --> data/output/momentum_yearly_output_2020-09-12.xlsx'"
      ]
     },
     "execution_count": 55,
     "metadata": {},
     "output_type": "execute_result"
    }
   ],
   "source": [
    "f\"Done. Output file path and name --> {filename}\""
   ]
  },
  {
   "cell_type": "code",
   "execution_count": null,
   "metadata": {},
   "outputs": [],
   "source": []
  }
 ],
 "metadata": {
  "kernelspec": {
   "display_name": "Python 3",
   "language": "python",
   "name": "python3"
  },
  "language_info": {
   "codemirror_mode": {
    "name": "ipython",
    "version": 3
   },
   "file_extension": ".py",
   "mimetype": "text/x-python",
   "name": "python",
   "nbconvert_exporter": "python",
   "pygments_lexer": "ipython3",
   "version": "3.8.3"
  }
 },
 "nbformat": 4,
 "nbformat_minor": 4
}
