{
 "cells": [
  {
   "cell_type": "code",
   "execution_count": 1,
   "metadata": {},
   "outputs": [],
   "source": [
    "import pandas as pd\n",
    "import datetime as dt"
   ]
  },
  {
   "cell_type": "code",
   "execution_count": 2,
   "metadata": {},
   "outputs": [],
   "source": [
    "f = lambda s: dt.datetime.strptime(s,'%d-%m-%Y %H:%M:%S')\n",
    "# df_bn5 = pd.read_csv(\"data/historical/BankNiftyFut-Sep-5min-20200908.csv\", sep=\"\\t\", parse_dates=['Date Time'], date_parser=f, encoding=\"utf_16_LE\") \n",
    "df_bn5 = pd.read_csv(\"data/historical/NiftyFut-Sep-5min-20200910.csv\", sep=\"\\t\", parse_dates=['Date Time'], encoding=\"utf_16_LE\") "
   ]
  },
  {
   "cell_type": "markdown",
   "metadata": {},
   "source": [
    "#### Remove last empty column and set date time as index"
   ]
  },
  {
   "cell_type": "code",
   "execution_count": 3,
   "metadata": {},
   "outputs": [],
   "source": [
    "df_bn5 = df_bn5[df_bn5.columns[:-1]]\n",
    "df_bn5.set_index('Date Time', inplace=True)"
   ]
  },
  {
   "cell_type": "markdown",
   "metadata": {},
   "source": [
    "## Input the evaluation date below"
   ]
  },
  {
   "cell_type": "code",
   "execution_count": 4,
   "metadata": {},
   "outputs": [],
   "source": [
    "eval_date = \"2020-09-10\""
   ]
  },
  {
   "cell_type": "markdown",
   "metadata": {},
   "source": [
    "#### Extract a separate dataframe for the evaluation date"
   ]
  },
  {
   "cell_type": "code",
   "execution_count": 5,
   "metadata": {},
   "outputs": [],
   "source": [
    "today_df_bn5 = df_bn5[eval_date]"
   ]
  },
  {
   "cell_type": "markdown",
   "metadata": {},
   "source": [
    "#### Apply rolling mean columns for data"
   ]
  },
  {
   "cell_type": "code",
   "execution_count": 6,
   "metadata": {},
   "outputs": [
    {
     "name": "stderr",
     "output_type": "stream",
     "text": [
      "<ipython-input-6-f2f66b587a2f>:1: SettingWithCopyWarning: \n",
      "A value is trying to be set on a copy of a slice from a DataFrame.\n",
      "Try using .loc[row_indexer,col_indexer] = value instead\n",
      "\n",
      "See the caveats in the documentation: https://pandas.pydata.org/pandas-docs/stable/user_guide/indexing.html#returning-a-view-versus-a-copy\n",
      "  today_df_bn5['SMA6'] = today_df_bn5['Close'].rolling(6).mean()\n",
      "<ipython-input-6-f2f66b587a2f>:2: SettingWithCopyWarning: \n",
      "A value is trying to be set on a copy of a slice from a DataFrame.\n",
      "Try using .loc[row_indexer,col_indexer] = value instead\n",
      "\n",
      "See the caveats in the documentation: https://pandas.pydata.org/pandas-docs/stable/user_guide/indexing.html#returning-a-view-versus-a-copy\n",
      "  today_df_bn5['SMA21'] = today_df_bn5['Close'].rolling(21).mean()\n"
     ]
    }
   ],
   "source": [
    "today_df_bn5['SMA6'] = today_df_bn5['Close'].rolling(6).mean()\n",
    "today_df_bn5['SMA21'] = today_df_bn5['Close'].rolling(21).mean()"
   ]
  },
  {
   "cell_type": "code",
   "execution_count": 7,
   "metadata": {},
   "outputs": [
    {
     "data": {
      "text/html": [
       "<div>\n",
       "<style scoped>\n",
       "    .dataframe tbody tr th:only-of-type {\n",
       "        vertical-align: middle;\n",
       "    }\n",
       "\n",
       "    .dataframe tbody tr th {\n",
       "        vertical-align: top;\n",
       "    }\n",
       "\n",
       "    .dataframe thead th {\n",
       "        text-align: right;\n",
       "    }\n",
       "</style>\n",
       "<table border=\"1\" class=\"dataframe\">\n",
       "  <thead>\n",
       "    <tr style=\"text-align: right;\">\n",
       "      <th></th>\n",
       "      <th>Open</th>\n",
       "      <th>Low</th>\n",
       "      <th>High</th>\n",
       "      <th>Close</th>\n",
       "      <th>Volume</th>\n",
       "      <th>SMA6</th>\n",
       "      <th>SMA21</th>\n",
       "    </tr>\n",
       "    <tr>\n",
       "      <th>Date Time</th>\n",
       "      <th></th>\n",
       "      <th></th>\n",
       "      <th></th>\n",
       "      <th></th>\n",
       "      <th></th>\n",
       "      <th></th>\n",
       "      <th></th>\n",
       "    </tr>\n",
       "  </thead>\n",
       "  <tbody>\n",
       "    <tr>\n",
       "      <th>2020-09-10 09:15:00</th>\n",
       "      <td>11341.15</td>\n",
       "      <td>11331.35</td>\n",
       "      <td>11359.95</td>\n",
       "      <td>11350.10</td>\n",
       "      <td>596028</td>\n",
       "      <td>NaN</td>\n",
       "      <td>NaN</td>\n",
       "    </tr>\n",
       "    <tr>\n",
       "      <th>2020-09-10 09:20:00</th>\n",
       "      <td>11350.85</td>\n",
       "      <td>11348.65</td>\n",
       "      <td>11358.55</td>\n",
       "      <td>11354.00</td>\n",
       "      <td>307350</td>\n",
       "      <td>NaN</td>\n",
       "      <td>NaN</td>\n",
       "    </tr>\n",
       "    <tr>\n",
       "      <th>2020-09-10 09:25:00</th>\n",
       "      <td>11353.95</td>\n",
       "      <td>11348.35</td>\n",
       "      <td>11358.60</td>\n",
       "      <td>11350.50</td>\n",
       "      <td>202050</td>\n",
       "      <td>NaN</td>\n",
       "      <td>NaN</td>\n",
       "    </tr>\n",
       "    <tr>\n",
       "      <th>2020-09-10 09:30:00</th>\n",
       "      <td>11350.95</td>\n",
       "      <td>11346.00</td>\n",
       "      <td>11356.70</td>\n",
       "      <td>11354.95</td>\n",
       "      <td>141075</td>\n",
       "      <td>NaN</td>\n",
       "      <td>NaN</td>\n",
       "    </tr>\n",
       "    <tr>\n",
       "      <th>2020-09-10 09:35:00</th>\n",
       "      <td>11354.50</td>\n",
       "      <td>11352.55</td>\n",
       "      <td>11366.10</td>\n",
       "      <td>11360.95</td>\n",
       "      <td>274800</td>\n",
       "      <td>NaN</td>\n",
       "      <td>NaN</td>\n",
       "    </tr>\n",
       "  </tbody>\n",
       "</table>\n",
       "</div>"
      ],
      "text/plain": [
       "                         Open       Low      High     Close  Volume  SMA6  \\\n",
       "Date Time                                                                   \n",
       "2020-09-10 09:15:00  11341.15  11331.35  11359.95  11350.10  596028   NaN   \n",
       "2020-09-10 09:20:00  11350.85  11348.65  11358.55  11354.00  307350   NaN   \n",
       "2020-09-10 09:25:00  11353.95  11348.35  11358.60  11350.50  202050   NaN   \n",
       "2020-09-10 09:30:00  11350.95  11346.00  11356.70  11354.95  141075   NaN   \n",
       "2020-09-10 09:35:00  11354.50  11352.55  11366.10  11360.95  274800   NaN   \n",
       "\n",
       "                     SMA21  \n",
       "Date Time                   \n",
       "2020-09-10 09:15:00    NaN  \n",
       "2020-09-10 09:20:00    NaN  \n",
       "2020-09-10 09:25:00    NaN  \n",
       "2020-09-10 09:30:00    NaN  \n",
       "2020-09-10 09:35:00    NaN  "
      ]
     },
     "execution_count": 7,
     "metadata": {},
     "output_type": "execute_result"
    }
   ],
   "source": [
    "today_df_bn5.head(5)"
   ]
  },
  {
   "cell_type": "markdown",
   "metadata": {},
   "source": [
    "### Strategy function"
   ]
  },
  {
   "cell_type": "code",
   "execution_count": 8,
   "metadata": {},
   "outputs": [],
   "source": [
    "def backtest_Intraday_5min_strategy(df):\n",
    "    SELL = False\n",
    "    BUY = False\n",
    "    SELL_PRICE = 0\n",
    "    BUY_PRICE = 0\n",
    "    GAIN_POINTS = 0\n",
    "    SELL_STOPLOSS = 0\n",
    "    BUY_STOPLOSS = 0\n",
    "    STOPLOSS = 25\n",
    "    SMA6_dead_band = 10\n",
    "    Total_Signals = 0\n",
    "    Total_Sell_Signal = 0\n",
    "    Total_Buy_Signal = 0\n",
    "    start_time = dt.datetime.strptime(\"09:20\", \"%H:%M\").time()\n",
    "    close_time = dt.datetime.strptime(\"15:15\", \"%H:%M\").time()\n",
    "    entry_close_time = dt.datetime.strptime(\"15:00\", \"%H:%M\").time()\n",
    "    print(\"Time\\t\\t\\t\", \"Close\\t\\t\", \"SMA6\\t\\t\", \"SMA21\\t\\t\", \"SIGNAL\\t\", \"TYPE\\t\\t\",  \"Points\\t\",)\n",
    "    \n",
    "    for row in df.itertuples():\n",
    "        SMA6_upper_band = row.SMA6 + SMA6_dead_band\n",
    "        SMA6_lower_band = row.SMA6 - SMA6_dead_band\n",
    "        \n",
    "        # SELL STOPLOSS\n",
    "        if row.Index.time() >= start_time and row.Index.time() <= close_time: \n",
    "            points = 0\n",
    "            if SELL and row.Close > SELL_STOPLOSS:\n",
    "                SELL = False\n",
    "                BUY = False\n",
    "                Total_Signals += 1\n",
    "                Total_Buy_Signal += 1\n",
    "                points = SELL_PRICE - row.Close\n",
    "                GAIN_POINTS = GAIN_POINTS + points\n",
    "                SELL_PRICE = 0\n",
    "                print(row.Index, \"\\t\",  row.Close, \"\\t\", round(row.SMA6,2),  \"\\t\", round(row.SMA21,2),  \"\\t\", \"BUY\\t\", \"SELL STOPLOSS\\t\", round(points,2))\n",
    "            \n",
    "            # BUY STOPLOSS\n",
    "            points = 0\n",
    "            if BUY and row.Close < BUY_STOPLOSS:\n",
    "                points = row.Close - BUY_PRICE\n",
    "                GAIN_POINTS = GAIN_POINTS + points\n",
    "                BUY_PRICE = 0\n",
    "                SELL = False\n",
    "                BUY = False\n",
    "                Total_Signals += 1\n",
    "                Total_Sell_Signal += 1\n",
    "                print(row.Index, \"\\t\",  row.Close, \"\\t\", round(row.SMA6,2),  \"\\t\", round(row.SMA21,2),  \"\\t\", \"SELL\\t\", \"BUY STOPLOSS\\t\", round(points,2))\n",
    "            \n",
    "            # SELL ENTRY\n",
    "            points = 0\n",
    "            if row.Close < SMA6_lower_band and \\\n",
    "                    row.Index.time() < entry_close_time and \\\n",
    "                    SELL is False:\n",
    "                SELL_PRICE = row.Close\n",
    "                SELL_STOPLOSS = SELL_PRICE + STOPLOSS\n",
    "                if BUY_PRICE > 0:\n",
    "                    points = SELL_PRICE - BUY_PRICE\n",
    "                    GAIN_POINTS = GAIN_POINTS + points\n",
    "                SELL = True\n",
    "                BUY = False\n",
    "                Total_Sell_Signal += 1\n",
    "                Total_Signals += 1\n",
    "                print(row.Index, \"\\t\",  row.Close, \"\\t\", round(row.SMA6,2),  \"\\t\", round(row.SMA21,2),  \"\\t\", \"SELL\\t\", \"SELL ENTRY\\t\", round(points,2))\n",
    "             \n",
    "            # BUY ENTRY\n",
    "            points = 0\n",
    "            if row.Close > SMA6_upper_band and \\\n",
    "                    row.Index.time() < entry_close_time and \\\n",
    "                    BUY is False:\n",
    "                BUY_PRICE = row.Close\n",
    "                BUY_STOPLOSS = BUY_PRICE - STOPLOSS\n",
    "                if SELL_PRICE > 0:\n",
    "                    points = SELL_PRICE - BUY_PRICE\n",
    "                    GAIN_POINTS = GAIN_POINTS + points\n",
    "                BUY = True\n",
    "                SELL = False\n",
    "                Total_Buy_Signal += 1\n",
    "                Total_Signals += 1\n",
    "                print(row.Index, \"\\t\", row.Close,  \"\\t\", round(row.SMA6,2),  \"\\t\", round(row.SMA21,2),  \"\\t\", \"BUY\\t\", \"BUY ENTRY\\t\", round(points,2))\n",
    "            \n",
    "            # DAY Close\n",
    "            points = 0    \n",
    "            if row.Index.time() >= close_time:\n",
    "                if SELL:\n",
    "                    SELL = False\n",
    "                    BUY = False\n",
    "                    Total_Signals += 1\n",
    "                    Total_Buy_Signal += 1\n",
    "                    points = SELL_PRICE - row.Close\n",
    "                    GAIN_POINTS = GAIN_POINTS + points\n",
    "                    SELL_PRICE = 0\n",
    "                    print(row.Index, \"\\t\",  row.Close, \"\\t\", round(row.SMA6,2),  \"\\t\", round(row.SMA21,2),  \"\\t\", \"BUY\\t\", \"BUY DAYCLOSE\\t\", round(points,2))\n",
    "\n",
    "                if BUY:\n",
    "                    SELL = False\n",
    "                    BUY = False\n",
    "                    Total_Signals += 1\n",
    "                    Total_Buy_Signal += 1\n",
    "                    points = row.Close - BUY_PRICE\n",
    "                    GAIN_POINTS = GAIN_POINTS + points\n",
    "                    SELL_PRICE = 0\n",
    "                    print(row.Index, \"\\t\",  row.Close, \"\\t\", round(row.SMA6,2),  \"\\t\", round(row.SMA21,2),  \"\\t\", \"SELL\\t\", \"SELL DAYCLOSE\\t\", round(points,2))\n",
    "                    \n",
    "                    \n",
    "    \n",
    "    print(\"\\n\\nTotal Signals:\\t\\t\", Total_Signals)\n",
    "    print(\"Total Sell Signals:\\t\", Total_Buy_Signal)\n",
    "    print(\"Total Buy Signals:\\t\", Total_Sell_Signal)\n",
    "    print(\"Total Points Gained:\\t\", round(GAIN_POINTS,2))"
   ]
  },
  {
   "cell_type": "code",
   "execution_count": 9,
   "metadata": {
    "scrolled": false
   },
   "outputs": [
    {
     "name": "stdout",
     "output_type": "stream",
     "text": [
      "Time\t\t\t Close\t\t SMA6\t\t SMA21\t\t SIGNAL\t TYPE\t\t Points\t\n",
      "2020-09-10 10:25:00 \t 11370.8 \t 11360.25 \t nan \t BUY\t BUY ENTRY\t 0\n",
      "2020-09-10 12:00:00 \t 11413.65 \t 11423.99 \t 11404.75 \t SELL\t SELL ENTRY\t 42.85\n",
      "2020-09-10 12:40:00 \t 11439.4 \t 11421.53 \t 11418.17 \t BUY\t SELL STOPLOSS\t -25.75\n",
      "2020-09-10 12:40:00 \t 11439.4 \t 11421.53 \t 11418.17 \t BUY\t BUY ENTRY\t 0\n",
      "2020-09-10 12:55:00 \t 11405.0 \t 11421.12 \t 11419.72 \t SELL\t BUY STOPLOSS\t -34.4\n",
      "2020-09-10 12:55:00 \t 11405.0 \t 11421.12 \t 11419.72 \t SELL\t SELL ENTRY\t 0\n",
      "2020-09-10 14:05:00 \t 11396.15 \t 11384.3 \t 11399.41 \t BUY\t BUY ENTRY\t 8.85\n",
      "2020-09-10 15:15:00 \t 11457.2 \t 11446.15 \t 11415.88 \t SELL\t SELL DAYCLOSE\t 61.05\n",
      "\n",
      "\n",
      "Total Signals:\t\t 8\n",
      "Total Sell Signals:\t 5\n",
      "Total Buy Signals:\t 3\n",
      "Total Points Gained:\t 52.6\n"
     ]
    }
   ],
   "source": [
    "backtest_Intraday_5min_strategy(today_df_bn5)"
   ]
  }
 ],
 "metadata": {
  "kernelspec": {
   "display_name": "Python 3",
   "language": "python",
   "name": "python3"
  },
  "language_info": {
   "codemirror_mode": {
    "name": "ipython",
    "version": 3
   },
   "file_extension": ".py",
   "mimetype": "text/x-python",
   "name": "python",
   "nbconvert_exporter": "python",
   "pygments_lexer": "ipython3",
   "version": "3.8.3"
  }
 },
 "nbformat": 4,
 "nbformat_minor": 4
}
