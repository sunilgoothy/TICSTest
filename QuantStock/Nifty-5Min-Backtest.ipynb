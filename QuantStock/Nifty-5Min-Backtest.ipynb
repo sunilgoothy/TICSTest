{
 "cells": [
  {
   "cell_type": "code",
   "execution_count": 1,
   "metadata": {},
   "outputs": [],
   "source": [
    "import pandas as pd\n",
    "import datetime as dt"
   ]
  },
  {
   "cell_type": "code",
   "execution_count": 2,
   "metadata": {},
   "outputs": [],
   "source": [
    "f = lambda s: dt.datetime.strptime(s,'%d-%m-%Y %H:%M:%S')\n",
    "# df_bn5 = pd.read_csv(\"data/historical/BankNiftyFut-Sep-5min-20200908.csv\", sep=\"\\t\", parse_dates=['Date Time'], date_parser=f, encoding=\"utf_16_LE\") \n",
    "df_bn5 = pd.read_csv(\"data/historical/NiftyFut-Sep-5min-20200908.csv\", sep=\"\\t\", parse_dates=['Date Time'], encoding=\"utf_16_LE\") "
   ]
  },
  {
   "cell_type": "markdown",
   "metadata": {},
   "source": [
    "#### Remove last empty column and set date time as index"
   ]
  },
  {
   "cell_type": "code",
   "execution_count": 3,
   "metadata": {},
   "outputs": [],
   "source": [
    "df_bn5 = df_bn5[df_bn5.columns[:-1]]\n",
    "df_bn5.set_index('Date Time', inplace=True)"
   ]
  },
  {
   "cell_type": "markdown",
   "metadata": {},
   "source": [
    "#### Apply rolling mean columns for data"
   ]
  },
  {
   "cell_type": "code",
   "execution_count": 4,
   "metadata": {},
   "outputs": [],
   "source": [
    "df_bn5['SMA6'] = df_bn5['Close'].rolling(6).mean()\n",
    "df_bn5['SMA21'] = df_bn5['Close'].rolling(21).mean()"
   ]
  },
  {
   "cell_type": "markdown",
   "metadata": {},
   "source": [
    "## Input the evaluation date below"
   ]
  },
  {
   "cell_type": "code",
   "execution_count": 5,
   "metadata": {},
   "outputs": [],
   "source": [
    "eval_date = \"2020-09-08\""
   ]
  },
  {
   "cell_type": "markdown",
   "metadata": {},
   "source": [
    "#### Extract a separate dataframe for the evaluation date"
   ]
  },
  {
   "cell_type": "code",
   "execution_count": 6,
   "metadata": {},
   "outputs": [],
   "source": [
    "today_df_bn5 = df_bn5[eval_date]"
   ]
  },
  {
   "cell_type": "code",
   "execution_count": 7,
   "metadata": {},
   "outputs": [
    {
     "data": {
      "text/html": [
       "<div>\n",
       "<style scoped>\n",
       "    .dataframe tbody tr th:only-of-type {\n",
       "        vertical-align: middle;\n",
       "    }\n",
       "\n",
       "    .dataframe tbody tr th {\n",
       "        vertical-align: top;\n",
       "    }\n",
       "\n",
       "    .dataframe thead th {\n",
       "        text-align: right;\n",
       "    }\n",
       "</style>\n",
       "<table border=\"1\" class=\"dataframe\">\n",
       "  <thead>\n",
       "    <tr style=\"text-align: right;\">\n",
       "      <th></th>\n",
       "      <th>Open</th>\n",
       "      <th>Low</th>\n",
       "      <th>High</th>\n",
       "      <th>Close</th>\n",
       "      <th>Volume</th>\n",
       "      <th>SMA6</th>\n",
       "      <th>SMA21</th>\n",
       "    </tr>\n",
       "    <tr>\n",
       "      <th>Date Time</th>\n",
       "      <th></th>\n",
       "      <th></th>\n",
       "      <th></th>\n",
       "      <th></th>\n",
       "      <th></th>\n",
       "      <th></th>\n",
       "      <th></th>\n",
       "    </tr>\n",
       "  </thead>\n",
       "  <tbody>\n",
       "    <tr>\n",
       "      <th>2020-09-08 09:15:00</th>\n",
       "      <td>11348.0</td>\n",
       "      <td>11332.05</td>\n",
       "      <td>11370.90</td>\n",
       "      <td>11348.30</td>\n",
       "      <td>412653</td>\n",
       "      <td>11376.758333</td>\n",
       "      <td>11346.145238</td>\n",
       "    </tr>\n",
       "    <tr>\n",
       "      <th>2020-09-08 09:20:00</th>\n",
       "      <td>11354.5</td>\n",
       "      <td>11348.95</td>\n",
       "      <td>11366.05</td>\n",
       "      <td>11359.65</td>\n",
       "      <td>254550</td>\n",
       "      <td>11375.691667</td>\n",
       "      <td>11346.759524</td>\n",
       "    </tr>\n",
       "    <tr>\n",
       "      <th>2020-09-08 09:25:00</th>\n",
       "      <td>11362.4</td>\n",
       "      <td>11350.50</td>\n",
       "      <td>11362.40</td>\n",
       "      <td>11354.70</td>\n",
       "      <td>119775</td>\n",
       "      <td>11371.491667</td>\n",
       "      <td>11347.400000</td>\n",
       "    </tr>\n",
       "    <tr>\n",
       "      <th>2020-09-08 09:30:01</th>\n",
       "      <td>11355.9</td>\n",
       "      <td>11341.25</td>\n",
       "      <td>11357.00</td>\n",
       "      <td>11344.90</td>\n",
       "      <td>158250</td>\n",
       "      <td>11364.141667</td>\n",
       "      <td>11346.442857</td>\n",
       "    </tr>\n",
       "    <tr>\n",
       "      <th>2020-09-08 09:35:00</th>\n",
       "      <td>11344.9</td>\n",
       "      <td>11342.00</td>\n",
       "      <td>11363.25</td>\n",
       "      <td>11360.10</td>\n",
       "      <td>146625</td>\n",
       "      <td>11359.600000</td>\n",
       "      <td>11346.507143</td>\n",
       "    </tr>\n",
       "  </tbody>\n",
       "</table>\n",
       "</div>"
      ],
      "text/plain": [
       "                        Open       Low      High     Close  Volume  \\\n",
       "Date Time                                                            \n",
       "2020-09-08 09:15:00  11348.0  11332.05  11370.90  11348.30  412653   \n",
       "2020-09-08 09:20:00  11354.5  11348.95  11366.05  11359.65  254550   \n",
       "2020-09-08 09:25:00  11362.4  11350.50  11362.40  11354.70  119775   \n",
       "2020-09-08 09:30:01  11355.9  11341.25  11357.00  11344.90  158250   \n",
       "2020-09-08 09:35:00  11344.9  11342.00  11363.25  11360.10  146625   \n",
       "\n",
       "                             SMA6         SMA21  \n",
       "Date Time                                        \n",
       "2020-09-08 09:15:00  11376.758333  11346.145238  \n",
       "2020-09-08 09:20:00  11375.691667  11346.759524  \n",
       "2020-09-08 09:25:00  11371.491667  11347.400000  \n",
       "2020-09-08 09:30:01  11364.141667  11346.442857  \n",
       "2020-09-08 09:35:00  11359.600000  11346.507143  "
      ]
     },
     "execution_count": 7,
     "metadata": {},
     "output_type": "execute_result"
    }
   ],
   "source": [
    "today_df_bn5.head(5)"
   ]
  },
  {
   "cell_type": "markdown",
   "metadata": {},
   "source": [
    "### Strategy function"
   ]
  },
  {
   "cell_type": "code",
   "execution_count": 10,
   "metadata": {},
   "outputs": [],
   "source": [
    "def backtest_Intraday_5min_strategy(df):\n",
    "    SELL = False\n",
    "    BUY = False\n",
    "    SELL_PRICE = 0\n",
    "    BUY_PRICE = 0\n",
    "    GAIN_POINTS = 0\n",
    "    SELL_STOPLOSS = 0\n",
    "    BUY_STOPLOSS = 0\n",
    "    STOPLOSS = 25\n",
    "    SMA6_dead_band = 15\n",
    "    Total_Signals = 0\n",
    "    Total_Sell_Signal = 0\n",
    "    Total_Buy_Signal = 0\n",
    "    start_time = dt.datetime.strptime(\"10:00\", \"%H:%M\").time()\n",
    "    close_time = dt.datetime.strptime(\"15:15\", \"%H:%M\").time()\n",
    "    entry_close_time = dt.datetime.strptime(\"15:00\", \"%H:%M\").time()\n",
    "    print(\"Time\\t\\t\\t\", \"Close\\t\\t\", \"SMA6\\t\\t\", \"SMA21\\t\\t\", \"SIGNAL\\t\", \"TYPE\\t\\t\",  \"Points\\t\",)\n",
    "    \n",
    "    for row in df.itertuples():\n",
    "        SMA6_upper_band = row.SMA6 + SMA6_dead_band\n",
    "        SMA6_lower_band = row.SMA6 - SMA6_dead_band\n",
    "        \n",
    "        # SELL STOPLOSS\n",
    "        if row.Index.time() >= start_time and row.Index.time() <= close_time: \n",
    "            points = 0\n",
    "            if SELL and row.Close > SELL_STOPLOSS:\n",
    "                SELL = False\n",
    "                BUY = False\n",
    "                Total_Signals += 1\n",
    "                Total_Buy_Signal += 1\n",
    "                points = SELL_PRICE - row.Close\n",
    "                GAIN_POINTS = GAIN_POINTS + points\n",
    "                SELL_PRICE = 0\n",
    "                print(row.Index, \"\\t\",  row.Close, \"\\t\", round(row.SMA6,2),  \"\\t\", round(row.SMA21,2),  \"\\t\", \"BUY\\t\", \"SELL STOPLOSS\\t\", round(points,2))\n",
    "            \n",
    "            # BUY STOPLOSS\n",
    "            points = 0\n",
    "            if BUY and row.Close < BUY_STOPLOSS:\n",
    "                points = row.Close - BUY_PRICE\n",
    "                GAIN_POINTS = GAIN_POINTS + points\n",
    "                BUY_PRICE = 0\n",
    "                SELL = False\n",
    "                BUY = False\n",
    "                Total_Signals += 1\n",
    "                Total_Sell_Signal += 1\n",
    "                print(row.Index, \"\\t\",  row.Close, \"\\t\", round(row.SMA6,2),  \"\\t\", round(row.SMA21,2),  \"\\t\", \"SELL\\t\", \"BUY STOPLOSS\\t\", round(points,2))\n",
    "            \n",
    "            # SELL ENTRY\n",
    "            points = 0\n",
    "            if row.Close < SMA6_lower_band and \\\n",
    "                    row.Index.time() < entry_close_time and \\\n",
    "                    SELL is False:\n",
    "                SELL_PRICE = row.Close\n",
    "                SELL_STOPLOSS = SELL_PRICE + STOPLOSS\n",
    "                if BUY_PRICE > 0:\n",
    "                    points = SELL_PRICE - BUY_PRICE\n",
    "                    GAIN_POINTS = GAIN_POINTS + points\n",
    "                SELL = True\n",
    "                BUY = False\n",
    "                Total_Sell_Signal += 1\n",
    "                Total_Signals += 1\n",
    "                print(row.Index, \"\\t\",  row.Close, \"\\t\", round(row.SMA6,2),  \"\\t\", round(row.SMA21,2),  \"\\t\", \"SELL\\t\", \"SELL ENTRY\\t\", round(points,2))\n",
    "             \n",
    "            # BUY ENTRY\n",
    "            points = 0\n",
    "            if row.Close > SMA6_upper_band and \\\n",
    "                    row.Index.time() < entry_close_time and \\\n",
    "                    BUY is False:\n",
    "                BUY_PRICE = row.Close\n",
    "                BUY_STOPLOSS = BUY_PRICE - STOPLOSS\n",
    "                if SELL_PRICE > 0:\n",
    "                    points = SELL_PRICE - BUY_PRICE\n",
    "                    GAIN_POINTS = GAIN_POINTS + points\n",
    "                BUY = True\n",
    "                SELL = False\n",
    "                Total_Buy_Signal += 1\n",
    "                Total_Signals += 1\n",
    "                print(row.Index, \"\\t\", row.Close,  \"\\t\", round(row.SMA6,2),  \"\\t\", round(row.SMA21,2),  \"\\t\", \"BUY\\t\", \"BUY ENTRY\\t\", round(points,2))\n",
    "            \n",
    "            # DAY Close\n",
    "            points = 0    \n",
    "            if row.Index.time() >= close_time:\n",
    "                if SELL:\n",
    "                    SELL = False\n",
    "                    BUY = False\n",
    "                    Total_Signals += 1\n",
    "                    Total_Buy_Signal += 1\n",
    "                    points = SELL_PRICE - row.Close\n",
    "                    GAIN_POINTS = GAIN_POINTS + points\n",
    "                    SELL_PRICE = 0\n",
    "                    print(row.Index, \"\\t\",  row.Close, \"\\t\", round(row.SMA6,2),  \"\\t\", round(row.SMA21,2),  \"\\t\", \"BUY\\t\", \"BUY DAYCLOSE\\t\", round(points,2))\n",
    "\n",
    "                if BUY:\n",
    "                    SELL = False\n",
    "                    BUY = False\n",
    "                    Total_Signals += 1\n",
    "                    Total_Buy_Signal += 1\n",
    "                    points = row.Close - BUY_PRICE\n",
    "                    GAIN_POINTS = GAIN_POINTS + points\n",
    "                    SELL_PRICE = 0\n",
    "                    print(row.Index, \"\\t\",  row.Close, \"\\t\", round(row.SMA6,2),  \"\\t\", round(row.SMA21,2),  \"\\t\", \"SELL\\t\", \"SELL DAYCLOSE\\t\", round(points,2))\n",
    "                    \n",
    "                    \n",
    "    \n",
    "    print(\"\\n\\nTotal Signals:\\t\\t\", Total_Signals)\n",
    "    print(\"Total Sell Signals:\\t\", Total_Buy_Signal)\n",
    "    print(\"Total Buy Signals:\\t\", Total_Sell_Signal)\n",
    "    print(\"Total Points Gained:\\t\", round(GAIN_POINTS,2))"
   ]
  },
  {
   "cell_type": "code",
   "execution_count": 11,
   "metadata": {
    "scrolled": false
   },
   "outputs": [
    {
     "name": "stdout",
     "output_type": "stream",
     "text": [
      "Time\t\t\t Close\t\t SMA6\t\t SMA21\t\t SIGNAL\t TYPE\t\t Points\t\n",
      "2020-09-08 10:25:00 \t 11401.5 \t 11385.22 \t 11371.95 \t BUY\t BUY ENTRY\t 0\n",
      "2020-09-08 13:45:00 \t 11397.2 \t 11414.47 \t 11422.41 \t SELL\t SELL ENTRY\t -4.3\n",
      "2020-09-08 15:15:00 \t 11317.6 \t 11329.72 \t 11375.63 \t BUY\t BUY DAYCLOSE\t 79.6\n",
      "\n",
      "\n",
      "Total Signals:\t\t 3\n",
      "Total Sell Signals:\t 2\n",
      "Total Buy Signals:\t 1\n",
      "Total Points Gained:\t 75.3\n"
     ]
    }
   ],
   "source": [
    "backtest_Intraday_5min_strategy(today_df_bn5)"
   ]
  },
  {
   "cell_type": "code",
   "execution_count": null,
   "metadata": {},
   "outputs": [],
   "source": []
  }
 ],
 "metadata": {
  "kernelspec": {
   "display_name": "Python 3",
   "language": "python",
   "name": "python3"
  },
  "language_info": {
   "codemirror_mode": {
    "name": "ipython",
    "version": 3
   },
   "file_extension": ".py",
   "mimetype": "text/x-python",
   "name": "python",
   "nbconvert_exporter": "python",
   "pygments_lexer": "ipython3",
   "version": "3.8.3"
  }
 },
 "nbformat": 4,
 "nbformat_minor": 4
}
