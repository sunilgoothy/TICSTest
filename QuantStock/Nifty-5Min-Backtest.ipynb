{
 "cells": [
  {
   "cell_type": "code",
   "execution_count": 91,
   "metadata": {},
   "outputs": [],
   "source": [
    "import pandas as pd\n",
    "import datetime as dt"
   ]
  },
  {
   "cell_type": "code",
   "execution_count": 92,
   "metadata": {},
   "outputs": [],
   "source": [
    "f = lambda s: dt.datetime.strptime(s,'%d-%m-%Y %H:%M:%S')\n",
    "# df_bn5 = pd.read_csv(\"data/historical/BankNiftyFut-Sep-5min-20200908.csv\", sep=\"\\t\", parse_dates=['Date Time'], date_parser=f, encoding=\"utf_16_LE\") \n",
    "df_bn5 = pd.read_csv(\"data/historical/NiftyFut-Sep-5min-20200911.csv\", sep=\"\\t\", parse_dates=['Date Time'], encoding=\"utf_16_LE\") "
   ]
  },
  {
   "cell_type": "markdown",
   "metadata": {},
   "source": [
    "#### Remove last empty column and set date time as index"
   ]
  },
  {
   "cell_type": "code",
   "execution_count": 93,
   "metadata": {},
   "outputs": [],
   "source": [
    "df_bn5 = df_bn5[df_bn5.columns[:-1]]\n",
    "df_bn5.set_index('Date Time', inplace=True)"
   ]
  },
  {
   "cell_type": "markdown",
   "metadata": {},
   "source": [
    "## Input the evaluation date below"
   ]
  },
  {
   "cell_type": "code",
   "execution_count": 94,
   "metadata": {},
   "outputs": [],
   "source": [
    "eval_date = \"2020-09-11\""
   ]
  },
  {
   "cell_type": "markdown",
   "metadata": {},
   "source": [
    "#### Extract a separate dataframe for the evaluation date"
   ]
  },
  {
   "cell_type": "code",
   "execution_count": 95,
   "metadata": {},
   "outputs": [],
   "source": [
    "today_df_bn5 = df_bn5[eval_date]"
   ]
  },
  {
   "cell_type": "markdown",
   "metadata": {},
   "source": [
    "#### Apply rolling mean columns for data"
   ]
  },
  {
   "cell_type": "code",
   "execution_count": 96,
   "metadata": {},
   "outputs": [
    {
     "name": "stderr",
     "output_type": "stream",
     "text": [
      "<ipython-input-96-f2f66b587a2f>:1: SettingWithCopyWarning: \n",
      "A value is trying to be set on a copy of a slice from a DataFrame.\n",
      "Try using .loc[row_indexer,col_indexer] = value instead\n",
      "\n",
      "See the caveats in the documentation: https://pandas.pydata.org/pandas-docs/stable/user_guide/indexing.html#returning-a-view-versus-a-copy\n",
      "  today_df_bn5['SMA6'] = today_df_bn5['Close'].rolling(6).mean()\n",
      "<ipython-input-96-f2f66b587a2f>:2: SettingWithCopyWarning: \n",
      "A value is trying to be set on a copy of a slice from a DataFrame.\n",
      "Try using .loc[row_indexer,col_indexer] = value instead\n",
      "\n",
      "See the caveats in the documentation: https://pandas.pydata.org/pandas-docs/stable/user_guide/indexing.html#returning-a-view-versus-a-copy\n",
      "  today_df_bn5['SMA21'] = today_df_bn5['Close'].rolling(21).mean()\n"
     ]
    }
   ],
   "source": [
    "today_df_bn5['SMA6'] = today_df_bn5['Close'].rolling(6).mean()\n",
    "today_df_bn5['SMA21'] = today_df_bn5['Close'].rolling(21).mean()"
   ]
  },
  {
   "cell_type": "code",
   "execution_count": 97,
   "metadata": {},
   "outputs": [
    {
     "data": {
      "text/html": [
       "<div>\n",
       "<style scoped>\n",
       "    .dataframe tbody tr th:only-of-type {\n",
       "        vertical-align: middle;\n",
       "    }\n",
       "\n",
       "    .dataframe tbody tr th {\n",
       "        vertical-align: top;\n",
       "    }\n",
       "\n",
       "    .dataframe thead th {\n",
       "        text-align: right;\n",
       "    }\n",
       "</style>\n",
       "<table border=\"1\" class=\"dataframe\">\n",
       "  <thead>\n",
       "    <tr style=\"text-align: right;\">\n",
       "      <th></th>\n",
       "      <th>Open</th>\n",
       "      <th>Low</th>\n",
       "      <th>High</th>\n",
       "      <th>Close</th>\n",
       "      <th>Volume</th>\n",
       "      <th>SMA6</th>\n",
       "      <th>SMA21</th>\n",
       "    </tr>\n",
       "    <tr>\n",
       "      <th>Date Time</th>\n",
       "      <th></th>\n",
       "      <th></th>\n",
       "      <th></th>\n",
       "      <th></th>\n",
       "      <th></th>\n",
       "      <th></th>\n",
       "      <th></th>\n",
       "    </tr>\n",
       "  </thead>\n",
       "  <tbody>\n",
       "    <tr>\n",
       "      <th>2020-09-11 09:15:00</th>\n",
       "      <td>11430.40</td>\n",
       "      <td>11422.00</td>\n",
       "      <td>11463.00</td>\n",
       "      <td>11460.30</td>\n",
       "      <td>458102</td>\n",
       "      <td>NaN</td>\n",
       "      <td>NaN</td>\n",
       "    </tr>\n",
       "    <tr>\n",
       "      <th>2020-09-11 09:20:00</th>\n",
       "      <td>11465.00</td>\n",
       "      <td>11461.00</td>\n",
       "      <td>11477.85</td>\n",
       "      <td>11473.50</td>\n",
       "      <td>340425</td>\n",
       "      <td>NaN</td>\n",
       "      <td>NaN</td>\n",
       "    </tr>\n",
       "    <tr>\n",
       "      <th>2020-09-11 09:25:00</th>\n",
       "      <td>11474.00</td>\n",
       "      <td>11470.05</td>\n",
       "      <td>11487.40</td>\n",
       "      <td>11484.00</td>\n",
       "      <td>264825</td>\n",
       "      <td>NaN</td>\n",
       "      <td>NaN</td>\n",
       "    </tr>\n",
       "    <tr>\n",
       "      <th>2020-09-11 09:30:00</th>\n",
       "      <td>11485.00</td>\n",
       "      <td>11470.10</td>\n",
       "      <td>11486.00</td>\n",
       "      <td>11474.00</td>\n",
       "      <td>276750</td>\n",
       "      <td>NaN</td>\n",
       "      <td>NaN</td>\n",
       "    </tr>\n",
       "    <tr>\n",
       "      <th>2020-09-11 09:35:00</th>\n",
       "      <td>11473.35</td>\n",
       "      <td>11453.95</td>\n",
       "      <td>11473.95</td>\n",
       "      <td>11455.85</td>\n",
       "      <td>253125</td>\n",
       "      <td>NaN</td>\n",
       "      <td>NaN</td>\n",
       "    </tr>\n",
       "  </tbody>\n",
       "</table>\n",
       "</div>"
      ],
      "text/plain": [
       "                         Open       Low      High     Close  Volume  SMA6  \\\n",
       "Date Time                                                                   \n",
       "2020-09-11 09:15:00  11430.40  11422.00  11463.00  11460.30  458102   NaN   \n",
       "2020-09-11 09:20:00  11465.00  11461.00  11477.85  11473.50  340425   NaN   \n",
       "2020-09-11 09:25:00  11474.00  11470.05  11487.40  11484.00  264825   NaN   \n",
       "2020-09-11 09:30:00  11485.00  11470.10  11486.00  11474.00  276750   NaN   \n",
       "2020-09-11 09:35:00  11473.35  11453.95  11473.95  11455.85  253125   NaN   \n",
       "\n",
       "                     SMA21  \n",
       "Date Time                   \n",
       "2020-09-11 09:15:00    NaN  \n",
       "2020-09-11 09:20:00    NaN  \n",
       "2020-09-11 09:25:00    NaN  \n",
       "2020-09-11 09:30:00    NaN  \n",
       "2020-09-11 09:35:00    NaN  "
      ]
     },
     "execution_count": 97,
     "metadata": {},
     "output_type": "execute_result"
    }
   ],
   "source": [
    "today_df_bn5.head(5)"
   ]
  },
  {
   "cell_type": "markdown",
   "metadata": {},
   "source": [
    "### Strategy function"
   ]
  },
  {
   "cell_type": "code",
   "execution_count": 98,
   "metadata": {},
   "outputs": [],
   "source": [
    "def backtest_Intraday_5min_strategy(df):\n",
    "    SELL = False\n",
    "    BUY = False\n",
    "    SELL_PRICE = 0\n",
    "    BUY_PRICE = 0\n",
    "    GAIN_POINTS = 0\n",
    "    SELL_STOPLOSS = 0\n",
    "    BUY_STOPLOSS = 0\n",
    "    STOPLOSS = 25\n",
    "    SMA6_dead_band = 10\n",
    "    Total_Signals = 0\n",
    "    Total_Sell_Signal = 0\n",
    "    Total_Buy_Signal = 0\n",
    "    start_time = dt.datetime.strptime(\"10:00\", \"%H:%M\").time()\n",
    "    close_time = dt.datetime.strptime(\"15:15\", \"%H:%M\").time()\n",
    "    entry_close_time = dt.datetime.strptime(\"15:00\", \"%H:%M\").time()\n",
    "    print(\"Time\\t\\t\\t\", \"Close\\t\\t\", \"SMA6\\t\\t\", \"SMA21\\t\\t\", \"SIGNAL\\t\", \"TYPE\\t\\t\",  \"Points\\t\",)\n",
    "    \n",
    "    for row in df.itertuples():\n",
    "        SMA6_upper_band = row.SMA6 + SMA6_dead_band\n",
    "        SMA6_lower_band = row.SMA6 - SMA6_dead_band\n",
    "        \n",
    "        # SELL STOPLOSS\n",
    "        if row.Index.time() >= start_time and row.Index.time() <= close_time: \n",
    "            points = 0\n",
    "            if SELL and row.Close > SELL_STOPLOSS:\n",
    "                SELL = False\n",
    "                BUY = False\n",
    "                Total_Signals += 1\n",
    "                Total_Buy_Signal += 1\n",
    "                points = SELL_PRICE - row.Close\n",
    "                GAIN_POINTS = GAIN_POINTS + points\n",
    "                SELL_PRICE = 0\n",
    "                print(row.Index, \"\\t\",  row.Close, \"\\t\", round(row.SMA6,2),  \"\\t\", round(row.SMA21,2),  \"\\t\", \"BUY\\t\", \"SELL STOPLOSS\\t\", round(points,2))\n",
    "            \n",
    "            # BUY STOPLOSS\n",
    "            points = 0\n",
    "            if BUY and row.Close < BUY_STOPLOSS:\n",
    "                points = row.Close - BUY_PRICE\n",
    "                GAIN_POINTS = GAIN_POINTS + points\n",
    "                BUY_PRICE = 0\n",
    "                SELL = False\n",
    "                BUY = False\n",
    "                Total_Signals += 1\n",
    "                Total_Sell_Signal += 1\n",
    "                print(row.Index, \"\\t\",  row.Close, \"\\t\", round(row.SMA6,2),  \"\\t\", round(row.SMA21,2),  \"\\t\", \"SELL\\t\", \"BUY STOPLOSS\\t\", round(points,2))\n",
    "            \n",
    "            # SELL ENTRY\n",
    "            points = 0\n",
    "            if row.Close < SMA6_lower_band and \\\n",
    "                    row.Index.time() < entry_close_time and \\\n",
    "                    SELL is False:\n",
    "                SELL_PRICE = row.Close\n",
    "                SELL_STOPLOSS = SELL_PRICE + STOPLOSS\n",
    "                if BUY_PRICE > 0:\n",
    "                    points = SELL_PRICE - BUY_PRICE\n",
    "                    GAIN_POINTS = GAIN_POINTS + points\n",
    "                SELL = True\n",
    "                BUY = False\n",
    "                Total_Sell_Signal += 1\n",
    "                Total_Signals += 1\n",
    "                print(row.Index, \"\\t\",  row.Close, \"\\t\", round(row.SMA6,2),  \"\\t\", round(row.SMA21,2),  \"\\t\", \"SELL\\t\", \"SELL ENTRY\\t\", round(points,2))\n",
    "             \n",
    "            # BUY ENTRY\n",
    "            points = 0\n",
    "            if row.Close > SMA6_upper_band and \\\n",
    "                    row.Index.time() < entry_close_time and \\\n",
    "                    BUY is False:\n",
    "                BUY_PRICE = row.Close\n",
    "                BUY_STOPLOSS = BUY_PRICE - STOPLOSS\n",
    "                if SELL_PRICE > 0:\n",
    "                    points = SELL_PRICE - BUY_PRICE\n",
    "                    GAIN_POINTS = GAIN_POINTS + points\n",
    "                BUY = True\n",
    "                SELL = False\n",
    "                Total_Buy_Signal += 1\n",
    "                Total_Signals += 1\n",
    "                print(row.Index, \"\\t\", row.Close,  \"\\t\", round(row.SMA6,2),  \"\\t\", round(row.SMA21,2),  \"\\t\", \"BUY\\t\", \"BUY ENTRY\\t\", round(points,2))\n",
    "            \n",
    "            # DAY Close\n",
    "            points = 0    \n",
    "            if row.Index.time() >= close_time:\n",
    "                if SELL:\n",
    "                    SELL = False\n",
    "                    BUY = False\n",
    "                    Total_Signals += 1\n",
    "                    Total_Buy_Signal += 1\n",
    "                    points = SELL_PRICE - row.Close\n",
    "                    GAIN_POINTS = GAIN_POINTS + points\n",
    "                    SELL_PRICE = 0\n",
    "                    print(row.Index, \"\\t\",  row.Close, \"\\t\", round(row.SMA6,2),  \"\\t\", round(row.SMA21,2),  \"\\t\", \"BUY\\t\", \"BUY DAYCLOSE\\t\", round(points,2))\n",
    "\n",
    "                if BUY:\n",
    "                    SELL = False\n",
    "                    BUY = False\n",
    "                    Total_Signals += 1\n",
    "                    Total_Buy_Signal += 1\n",
    "                    points = row.Close - BUY_PRICE\n",
    "                    GAIN_POINTS = GAIN_POINTS + points\n",
    "                    SELL_PRICE = 0\n",
    "                    print(row.Index, \"\\t\",  row.Close, \"\\t\", round(row.SMA6,2),  \"\\t\", round(row.SMA21,2),  \"\\t\", \"SELL\\t\", \"SELL DAYCLOSE\\t\", round(points,2))\n",
    "                    \n",
    "                    \n",
    "    \n",
    "    print(\"\\n\\nTotal Signals:\\t\\t\", Total_Signals)\n",
    "    print(\"Total Sell Signals:\\t\", Total_Buy_Signal)\n",
    "    print(\"Total Buy Signals:\\t\", Total_Sell_Signal)\n",
    "    print(\"Total Points Gained:\\t\", round(GAIN_POINTS,2))"
   ]
  },
  {
   "cell_type": "code",
   "execution_count": 99,
   "metadata": {
    "scrolled": false
   },
   "outputs": [
    {
     "name": "stdout",
     "output_type": "stream",
     "text": [
      "Time\t\t\t Close\t\t SMA6\t\t SMA21\t\t SIGNAL\t TYPE\t\t Points\t\n",
      "2020-09-11 10:55:00 \t 11475.75 \t 11456.92 \t 11454.73 \t BUY\t BUY ENTRY\t 0\n",
      "2020-09-11 11:30:02 \t 11449.0 \t 11456.75 \t 11453.12 \t SELL\t BUY STOPLOSS\t -26.75\n",
      "2020-09-11 12:10:00 \t 11458.0 \t 11446.07 \t 11453.12 \t BUY\t BUY ENTRY\t 0\n",
      "2020-09-11 13:05:07 \t 11443.55 \t 11458.57 \t 11452.5 \t SELL\t SELL ENTRY\t -14.45\n",
      "2020-09-11 14:05:00 \t 11454.0 \t 11443.0 \t 11446.28 \t BUY\t BUY ENTRY\t -10.45\n",
      "\n",
      "\n",
      "Total Signals:\t\t 5\n",
      "Total Sell Signals:\t 3\n",
      "Total Buy Signals:\t 2\n",
      "Total Points Gained:\t -51.65\n"
     ]
    }
   ],
   "source": [
    "backtest_Intraday_5min_strategy(today_df_bn5)"
   ]
  }
 ],
 "metadata": {
  "kernelspec": {
   "display_name": "Python 3",
   "language": "python",
   "name": "python3"
  },
  "language_info": {
   "codemirror_mode": {
    "name": "ipython",
    "version": 3
   },
   "file_extension": ".py",
   "mimetype": "text/x-python",
   "name": "python",
   "nbconvert_exporter": "python",
   "pygments_lexer": "ipython3",
   "version": "3.8.3"
  }
 },
 "nbformat": 4,
 "nbformat_minor": 4
}
