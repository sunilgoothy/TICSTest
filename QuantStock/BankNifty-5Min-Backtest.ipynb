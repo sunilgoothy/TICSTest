{
 "cells": [
  {
   "cell_type": "code",
   "execution_count": 1,
   "metadata": {},
   "outputs": [],
   "source": [
    "import pandas as pd"
   ]
  },
  {
   "cell_type": "code",
   "execution_count": 7,
   "metadata": {},
   "outputs": [],
   "source": [
    "df_bn5 = pd.read_csv(\"data/historical/BankNiftyFut-Sep-5min.csv\", sep=\"\\t\", parse_dates=['Date Time'], encoding=\"utf_16_LE\") "
   ]
  },
  {
   "cell_type": "markdown",
   "metadata": {},
   "source": [
    "#### Remove last empty column and set date time as index"
   ]
  },
  {
   "cell_type": "code",
   "execution_count": 8,
   "metadata": {},
   "outputs": [],
   "source": [
    "df_bn5 = df_bn5[df_bn5.columns[:-1]]\n",
    "df_bn5.set_index('Date Time', inplace=True)"
   ]
  },
  {
   "cell_type": "markdown",
   "metadata": {},
   "source": [
    "#### Apply rolling mean columns for data"
   ]
  },
  {
   "cell_type": "code",
   "execution_count": 15,
   "metadata": {},
   "outputs": [],
   "source": [
    "df_bn5['SMA6'] = df_bn5['Close'].rolling(6).mean()\n",
    "df_bn5['SMA21'] = df_bn5['Close'].rolling(21).mean()"
   ]
  },
  {
   "cell_type": "code",
   "execution_count": 16,
   "metadata": {},
   "outputs": [
    {
     "data": {
      "text/html": [
       "<div>\n",
       "<style scoped>\n",
       "    .dataframe tbody tr th:only-of-type {\n",
       "        vertical-align: middle;\n",
       "    }\n",
       "\n",
       "    .dataframe tbody tr th {\n",
       "        vertical-align: top;\n",
       "    }\n",
       "\n",
       "    .dataframe thead th {\n",
       "        text-align: right;\n",
       "    }\n",
       "</style>\n",
       "<table border=\"1\" class=\"dataframe\">\n",
       "  <thead>\n",
       "    <tr style=\"text-align: right;\">\n",
       "      <th></th>\n",
       "      <th>Open</th>\n",
       "      <th>Low</th>\n",
       "      <th>High</th>\n",
       "      <th>Close</th>\n",
       "      <th>Volume</th>\n",
       "      <th>SMA6</th>\n",
       "      <th>SMA21</th>\n",
       "    </tr>\n",
       "    <tr>\n",
       "      <th>Date Time</th>\n",
       "      <th></th>\n",
       "      <th></th>\n",
       "      <th></th>\n",
       "      <th></th>\n",
       "      <th></th>\n",
       "      <th></th>\n",
       "      <th></th>\n",
       "    </tr>\n",
       "  </thead>\n",
       "  <tbody>\n",
       "    <tr>\n",
       "      <th>2020-09-03 09:15:00</th>\n",
       "      <td>23938.80</td>\n",
       "      <td>23800.05</td>\n",
       "      <td>24079.80</td>\n",
       "      <td>23912.05</td>\n",
       "      <td>360576</td>\n",
       "      <td>23920.891667</td>\n",
       "      <td>23864.230952</td>\n",
       "    </tr>\n",
       "    <tr>\n",
       "      <th>2020-09-03 09:20:00</th>\n",
       "      <td>23924.00</td>\n",
       "      <td>23845.75</td>\n",
       "      <td>23924.00</td>\n",
       "      <td>23861.95</td>\n",
       "      <td>169050</td>\n",
       "      <td>23909.550000</td>\n",
       "      <td>23873.328571</td>\n",
       "    </tr>\n",
       "    <tr>\n",
       "      <th>2020-09-03 09:25:00</th>\n",
       "      <td>23860.60</td>\n",
       "      <td>23840.00</td>\n",
       "      <td>23895.40</td>\n",
       "      <td>23863.40</td>\n",
       "      <td>89575</td>\n",
       "      <td>23902.825000</td>\n",
       "      <td>23883.814286</td>\n",
       "    </tr>\n",
       "    <tr>\n",
       "      <th>2020-09-03 09:30:00</th>\n",
       "      <td>23863.40</td>\n",
       "      <td>23815.00</td>\n",
       "      <td>23870.10</td>\n",
       "      <td>23855.10</td>\n",
       "      <td>99700</td>\n",
       "      <td>23891.366667</td>\n",
       "      <td>23892.178571</td>\n",
       "    </tr>\n",
       "    <tr>\n",
       "      <th>2020-09-03 09:35:00</th>\n",
       "      <td>23858.00</td>\n",
       "      <td>23850.50</td>\n",
       "      <td>23906.70</td>\n",
       "      <td>23875.00</td>\n",
       "      <td>89075</td>\n",
       "      <td>23881.375000</td>\n",
       "      <td>23899.369048</td>\n",
       "    </tr>\n",
       "    <tr>\n",
       "      <th>...</th>\n",
       "      <td>...</td>\n",
       "      <td>...</td>\n",
       "      <td>...</td>\n",
       "      <td>...</td>\n",
       "      <td>...</td>\n",
       "      <td>...</td>\n",
       "      <td>...</td>\n",
       "    </tr>\n",
       "    <tr>\n",
       "      <th>2020-09-03 15:10:00</th>\n",
       "      <td>23599.00</td>\n",
       "      <td>23510.00</td>\n",
       "      <td>23605.00</td>\n",
       "      <td>23516.00</td>\n",
       "      <td>166925</td>\n",
       "      <td>23618.466667</td>\n",
       "      <td>23693.414286</td>\n",
       "    </tr>\n",
       "    <tr>\n",
       "      <th>2020-09-03 15:15:00</th>\n",
       "      <td>23514.00</td>\n",
       "      <td>23452.95</td>\n",
       "      <td>23520.25</td>\n",
       "      <td>23517.80</td>\n",
       "      <td>236325</td>\n",
       "      <td>23586.400000</td>\n",
       "      <td>23684.390476</td>\n",
       "    </tr>\n",
       "    <tr>\n",
       "      <th>2020-09-03 15:20:00</th>\n",
       "      <td>23517.00</td>\n",
       "      <td>23515.05</td>\n",
       "      <td>23580.00</td>\n",
       "      <td>23561.80</td>\n",
       "      <td>156375</td>\n",
       "      <td>23566.266667</td>\n",
       "      <td>23678.280952</td>\n",
       "    </tr>\n",
       "    <tr>\n",
       "      <th>2020-09-03 15:25:00</th>\n",
       "      <td>23563.05</td>\n",
       "      <td>23563.05</td>\n",
       "      <td>23586.10</td>\n",
       "      <td>23580.00</td>\n",
       "      <td>126050</td>\n",
       "      <td>23562.100000</td>\n",
       "      <td>23671.376190</td>\n",
       "    </tr>\n",
       "    <tr>\n",
       "      <th>2020-09-03 15:30:00</th>\n",
       "      <td>23579.95</td>\n",
       "      <td>23579.95</td>\n",
       "      <td>23579.95</td>\n",
       "      <td>23579.95</td>\n",
       "      <td>25</td>\n",
       "      <td>23557.925000</td>\n",
       "      <td>23664.626190</td>\n",
       "    </tr>\n",
       "  </tbody>\n",
       "</table>\n",
       "<p>76 rows × 7 columns</p>\n",
       "</div>"
      ],
      "text/plain": [
       "                         Open       Low      High     Close  Volume  \\\n",
       "Date Time                                                             \n",
       "2020-09-03 09:15:00  23938.80  23800.05  24079.80  23912.05  360576   \n",
       "2020-09-03 09:20:00  23924.00  23845.75  23924.00  23861.95  169050   \n",
       "2020-09-03 09:25:00  23860.60  23840.00  23895.40  23863.40   89575   \n",
       "2020-09-03 09:30:00  23863.40  23815.00  23870.10  23855.10   99700   \n",
       "2020-09-03 09:35:00  23858.00  23850.50  23906.70  23875.00   89075   \n",
       "...                       ...       ...       ...       ...     ...   \n",
       "2020-09-03 15:10:00  23599.00  23510.00  23605.00  23516.00  166925   \n",
       "2020-09-03 15:15:00  23514.00  23452.95  23520.25  23517.80  236325   \n",
       "2020-09-03 15:20:00  23517.00  23515.05  23580.00  23561.80  156375   \n",
       "2020-09-03 15:25:00  23563.05  23563.05  23586.10  23580.00  126050   \n",
       "2020-09-03 15:30:00  23579.95  23579.95  23579.95  23579.95      25   \n",
       "\n",
       "                             SMA6         SMA21  \n",
       "Date Time                                        \n",
       "2020-09-03 09:15:00  23920.891667  23864.230952  \n",
       "2020-09-03 09:20:00  23909.550000  23873.328571  \n",
       "2020-09-03 09:25:00  23902.825000  23883.814286  \n",
       "2020-09-03 09:30:00  23891.366667  23892.178571  \n",
       "2020-09-03 09:35:00  23881.375000  23899.369048  \n",
       "...                           ...           ...  \n",
       "2020-09-03 15:10:00  23618.466667  23693.414286  \n",
       "2020-09-03 15:15:00  23586.400000  23684.390476  \n",
       "2020-09-03 15:20:00  23566.266667  23678.280952  \n",
       "2020-09-03 15:25:00  23562.100000  23671.376190  \n",
       "2020-09-03 15:30:00  23557.925000  23664.626190  \n",
       "\n",
       "[76 rows x 7 columns]"
      ]
     },
     "execution_count": 16,
     "metadata": {},
     "output_type": "execute_result"
    }
   ],
   "source": [
    "df_bn5.loc['2020-09-03']"
   ]
  },
  {
   "cell_type": "code",
   "execution_count": 11,
   "metadata": {},
   "outputs": [
    {
     "data": {
      "text/html": [
       "<div>\n",
       "<style scoped>\n",
       "    .dataframe tbody tr th:only-of-type {\n",
       "        vertical-align: middle;\n",
       "    }\n",
       "\n",
       "    .dataframe tbody tr th {\n",
       "        vertical-align: top;\n",
       "    }\n",
       "\n",
       "    .dataframe thead th {\n",
       "        text-align: right;\n",
       "    }\n",
       "</style>\n",
       "<table border=\"1\" class=\"dataframe\">\n",
       "  <thead>\n",
       "    <tr style=\"text-align: right;\">\n",
       "      <th></th>\n",
       "      <th>Open</th>\n",
       "      <th>Low</th>\n",
       "      <th>High</th>\n",
       "      <th>Close</th>\n",
       "      <th>Volume</th>\n",
       "    </tr>\n",
       "    <tr>\n",
       "      <th>Date Time</th>\n",
       "      <th></th>\n",
       "      <th></th>\n",
       "      <th></th>\n",
       "      <th></th>\n",
       "      <th></th>\n",
       "    </tr>\n",
       "  </thead>\n",
       "  <tbody>\n",
       "    <tr>\n",
       "      <th>2020-08-21 09:15:00</th>\n",
       "      <td>22254.05</td>\n",
       "      <td>22131.80</td>\n",
       "      <td>22254.05</td>\n",
       "      <td>22184.05</td>\n",
       "      <td>16526</td>\n",
       "    </tr>\n",
       "    <tr>\n",
       "      <th>2020-08-21 09:20:00</th>\n",
       "      <td>22185.35</td>\n",
       "      <td>22185.35</td>\n",
       "      <td>22241.15</td>\n",
       "      <td>22240.30</td>\n",
       "      <td>16100</td>\n",
       "    </tr>\n",
       "    <tr>\n",
       "      <th>2020-08-21 09:25:00</th>\n",
       "      <td>22235.90</td>\n",
       "      <td>22221.85</td>\n",
       "      <td>22261.90</td>\n",
       "      <td>22255.55</td>\n",
       "      <td>12800</td>\n",
       "    </tr>\n",
       "    <tr>\n",
       "      <th>2020-08-21 09:30:00</th>\n",
       "      <td>22258.10</td>\n",
       "      <td>22256.40</td>\n",
       "      <td>22298.40</td>\n",
       "      <td>22275.90</td>\n",
       "      <td>12025</td>\n",
       "    </tr>\n",
       "    <tr>\n",
       "      <th>2020-08-21 09:35:00</th>\n",
       "      <td>22273.95</td>\n",
       "      <td>22256.45</td>\n",
       "      <td>22278.75</td>\n",
       "      <td>22269.00</td>\n",
       "      <td>9800</td>\n",
       "    </tr>\n",
       "  </tbody>\n",
       "</table>\n",
       "</div>"
      ],
      "text/plain": [
       "                         Open       Low      High     Close  Volume\n",
       "Date Time                                                          \n",
       "2020-08-21 09:15:00  22254.05  22131.80  22254.05  22184.05   16526\n",
       "2020-08-21 09:20:00  22185.35  22185.35  22241.15  22240.30   16100\n",
       "2020-08-21 09:25:00  22235.90  22221.85  22261.90  22255.55   12800\n",
       "2020-08-21 09:30:00  22258.10  22256.40  22298.40  22275.90   12025\n",
       "2020-08-21 09:35:00  22273.95  22256.45  22278.75  22269.00    9800"
      ]
     },
     "execution_count": 11,
     "metadata": {},
     "output_type": "execute_result"
    }
   ],
   "source": [
    "df_bn5.head(5)"
   ]
  },
  {
   "cell_type": "code",
   "execution_count": null,
   "metadata": {},
   "outputs": [],
   "source": []
  },
  {
   "cell_type": "markdown",
   "metadata": {},
   "source": [
    "## Input the evaluation date below (1st friday of every month)"
   ]
  },
  {
   "cell_type": "code",
   "execution_count": null,
   "metadata": {},
   "outputs": [],
   "source": [
    "eval_date = \"2020-05-08\""
   ]
  },
  {
   "cell_type": "markdown",
   "metadata": {},
   "source": [
    "### Fetch last year data"
   ]
  },
  {
   "cell_type": "markdown",
   "metadata": {},
   "source": [
    "#### [Below data fetch will throw error if there is no trading day between start and end dates]"
   ]
  },
  {
   "cell_type": "code",
   "execution_count": null,
   "metadata": {},
   "outputs": [],
   "source": [
    "start_date=eval_date\n",
    "end_date = (pd.to_datetime(start_date) + pd.DateOffset(days=1)).strftime('%Y-%m-%d')\n",
    "data = yf.download(momentum_stock_list, start = start_date, end=end_date)"
   ]
  },
  {
   "cell_type": "code",
   "execution_count": null,
   "metadata": {},
   "outputs": [],
   "source": [
    "this_year_close = pd.DataFrame(data.iloc[0]['Adj Close'])"
   ]
  },
  {
   "cell_type": "code",
   "execution_count": null,
   "metadata": {},
   "outputs": [],
   "source": [
    "this_year_close"
   ]
  },
  {
   "cell_type": "code",
   "execution_count": null,
   "metadata": {},
   "outputs": [],
   "source": [
    "start_date=(pd.to_datetime(eval_date) - pd.DateOffset(years=1)).strftime('%Y-%m-%d')\n",
    "end_date = (pd.to_datetime(start_date) + pd.DateOffset(days=1)).strftime('%Y-%m-%d')"
   ]
  },
  {
   "cell_type": "code",
   "execution_count": null,
   "metadata": {},
   "outputs": [],
   "source": [
    "start_date"
   ]
  },
  {
   "cell_type": "code",
   "execution_count": null,
   "metadata": {},
   "outputs": [],
   "source": [
    "end_date"
   ]
  },
  {
   "cell_type": "markdown",
   "metadata": {},
   "source": [
    "### Fetch last year data"
   ]
  },
  {
   "cell_type": "markdown",
   "metadata": {},
   "source": [
    "#### [Below data fetch will throw error if there is no trading day between start and end dates]"
   ]
  },
  {
   "cell_type": "code",
   "execution_count": null,
   "metadata": {},
   "outputs": [],
   "source": [
    "data = yf.download(momentum_stock_list, start = start_date, end=end_date)"
   ]
  },
  {
   "cell_type": "code",
   "execution_count": null,
   "metadata": {},
   "outputs": [],
   "source": [
    "last_year_close = pd.DataFrame(data.iloc[0]['Adj Close'])"
   ]
  },
  {
   "cell_type": "code",
   "execution_count": null,
   "metadata": {},
   "outputs": [],
   "source": [
    "last_year_close"
   ]
  },
  {
   "cell_type": "code",
   "execution_count": null,
   "metadata": {},
   "outputs": [],
   "source": [
    "final_df = last_year_close.join(this_year_close)"
   ]
  },
  {
   "cell_type": "code",
   "execution_count": null,
   "metadata": {
    "scrolled": false
   },
   "outputs": [],
   "source": [
    "final_df"
   ]
  },
  {
   "cell_type": "code",
   "execution_count": null,
   "metadata": {},
   "outputs": [],
   "source": [
    "final_df.rename(columns =lambda t: t.strftime('%Y-%m-%d'), inplace=True)"
   ]
  },
  {
   "cell_type": "markdown",
   "metadata": {},
   "source": [
    "## Calculate Momentum"
   ]
  },
  {
   "cell_type": "code",
   "execution_count": null,
   "metadata": {
    "scrolled": true
   },
   "outputs": [],
   "source": [
    "last_year_date = final_df.columns[0]\n",
    "this_year_date = final_df.columns[1]\n",
    "final_df['Change'] = final_df[this_year_date] - final_df[last_year_date]"
   ]
  },
  {
   "cell_type": "code",
   "execution_count": null,
   "metadata": {},
   "outputs": [],
   "source": [
    "final_df['% Change'] = (final_df['Change'] / final_df[last_year_date])*100"
   ]
  },
  {
   "cell_type": "markdown",
   "metadata": {},
   "source": [
    "## Final Output"
   ]
  },
  {
   "cell_type": "code",
   "execution_count": null,
   "metadata": {},
   "outputs": [],
   "source": [
    "final_df.sort_values(by=['% Change'], ascending=False, inplace=True)"
   ]
  },
  {
   "cell_type": "code",
   "execution_count": null,
   "metadata": {},
   "outputs": [],
   "source": [
    "final_df.rename_axis('MOMENTUM_ATH', inplace=True)\n",
    "final_df.rename_axis('', axis='columns', inplace=True)"
   ]
  },
  {
   "cell_type": "code",
   "execution_count": null,
   "metadata": {},
   "outputs": [],
   "source": [
    "final_df.round(2).head(50)"
   ]
  },
  {
   "cell_type": "code",
   "execution_count": null,
   "metadata": {},
   "outputs": [],
   "source": [
    "filename = f'data/output/momentum_ath_output_{eval_date}.xlsx'"
   ]
  },
  {
   "cell_type": "code",
   "execution_count": null,
   "metadata": {},
   "outputs": [],
   "source": [
    "final_df.round(2).to_excel(filename)"
   ]
  },
  {
   "cell_type": "code",
   "execution_count": null,
   "metadata": {},
   "outputs": [],
   "source": [
    "f\"Done. Output file path and name --> {filename}\""
   ]
  },
  {
   "cell_type": "code",
   "execution_count": null,
   "metadata": {},
   "outputs": [],
   "source": []
  },
  {
   "cell_type": "code",
   "execution_count": null,
   "metadata": {},
   "outputs": [],
   "source": []
  }
 ],
 "metadata": {
  "kernelspec": {
   "display_name": "Python 3",
   "language": "python",
   "name": "python3"
  },
  "language_info": {
   "codemirror_mode": {
    "name": "ipython",
    "version": 3
   },
   "file_extension": ".py",
   "mimetype": "text/x-python",
   "name": "python",
   "nbconvert_exporter": "python",
   "pygments_lexer": "ipython3",
   "version": "3.8.3"
  }
 },
 "nbformat": 4,
 "nbformat_minor": 4
}
