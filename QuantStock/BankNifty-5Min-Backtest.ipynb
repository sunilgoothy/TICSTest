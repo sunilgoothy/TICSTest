{
 "cells": [
  {
   "cell_type": "code",
   "execution_count": 1,
   "metadata": {},
   "outputs": [],
   "source": [
    "import pandas as pd\n",
    "import datetime as dt"
   ]
  },
  {
   "cell_type": "code",
   "execution_count": 2,
   "metadata": {},
   "outputs": [],
   "source": [
    "f = lambda s: dt.datetime.strptime(s,'%d-%m-%Y %H:%M:%S')\n",
    "df_bn5 = pd.read_csv(\"data/historical/BankNiftyFut-Sep-5min-2.csv\", sep=\"\\t\", parse_dates=['Date Time'], date_parser=f, encoding=\"utf_16_LE\") "
   ]
  },
  {
   "cell_type": "markdown",
   "metadata": {},
   "source": [
    "#### Remove last empty column and set date time as index"
   ]
  },
  {
   "cell_type": "code",
   "execution_count": 3,
   "metadata": {},
   "outputs": [],
   "source": [
    "df_bn5 = df_bn5[df_bn5.columns[:-1]]\n",
    "df_bn5.set_index('Date Time', inplace=True)"
   ]
  },
  {
   "cell_type": "markdown",
   "metadata": {},
   "source": [
    "#### Apply rolling mean columns for data"
   ]
  },
  {
   "cell_type": "code",
   "execution_count": 4,
   "metadata": {},
   "outputs": [],
   "source": [
    "df_bn5['SMA6'] = df_bn5['Close'].rolling(6).mean()\n",
    "df_bn5['SMA21'] = df_bn5['Close'].rolling(21).mean()"
   ]
  },
  {
   "cell_type": "markdown",
   "metadata": {},
   "source": [
    "## Input the evaluation date below"
   ]
  },
  {
   "cell_type": "code",
   "execution_count": 205,
   "metadata": {},
   "outputs": [],
   "source": [
    "eval_date = \"2020-09-07\""
   ]
  },
  {
   "cell_type": "markdown",
   "metadata": {},
   "source": [
    "#### Extract a separate dataframe for the evaluation date"
   ]
  },
  {
   "cell_type": "code",
   "execution_count": 206,
   "metadata": {},
   "outputs": [],
   "source": [
    "today_df_bn5 = df_bn5[eval_date]"
   ]
  },
  {
   "cell_type": "code",
   "execution_count": 207,
   "metadata": {},
   "outputs": [
    {
     "data": {
      "text/html": [
       "<div>\n",
       "<style scoped>\n",
       "    .dataframe tbody tr th:only-of-type {\n",
       "        vertical-align: middle;\n",
       "    }\n",
       "\n",
       "    .dataframe tbody tr th {\n",
       "        vertical-align: top;\n",
       "    }\n",
       "\n",
       "    .dataframe thead th {\n",
       "        text-align: right;\n",
       "    }\n",
       "</style>\n",
       "<table border=\"1\" class=\"dataframe\">\n",
       "  <thead>\n",
       "    <tr style=\"text-align: right;\">\n",
       "      <th></th>\n",
       "      <th>Open</th>\n",
       "      <th>Low</th>\n",
       "      <th>High</th>\n",
       "      <th>Close</th>\n",
       "      <th>Volume</th>\n",
       "      <th>SMA6</th>\n",
       "      <th>SMA21</th>\n",
       "    </tr>\n",
       "    <tr>\n",
       "      <th>Date Time</th>\n",
       "      <th></th>\n",
       "      <th></th>\n",
       "      <th></th>\n",
       "      <th></th>\n",
       "      <th></th>\n",
       "      <th></th>\n",
       "      <th></th>\n",
       "    </tr>\n",
       "  </thead>\n",
       "  <tbody>\n",
       "    <tr>\n",
       "      <th>2020-09-07 09:15:00</th>\n",
       "      <td>23016.35</td>\n",
       "      <td>22758.00</td>\n",
       "      <td>23062.80</td>\n",
       "      <td>23003.00</td>\n",
       "      <td>370002</td>\n",
       "      <td>23063.208333</td>\n",
       "      <td>23094.071429</td>\n",
       "    </tr>\n",
       "    <tr>\n",
       "      <th>2020-09-07 09:20:00</th>\n",
       "      <td>23018.30</td>\n",
       "      <td>22913.00</td>\n",
       "      <td>23026.85</td>\n",
       "      <td>22924.15</td>\n",
       "      <td>197250</td>\n",
       "      <td>23038.658333</td>\n",
       "      <td>23076.219048</td>\n",
       "    </tr>\n",
       "    <tr>\n",
       "      <th>2020-09-07 09:25:00</th>\n",
       "      <td>22910.55</td>\n",
       "      <td>22892.80</td>\n",
       "      <td>22950.00</td>\n",
       "      <td>22915.75</td>\n",
       "      <td>155200</td>\n",
       "      <td>23013.158333</td>\n",
       "      <td>23059.364286</td>\n",
       "    </tr>\n",
       "    <tr>\n",
       "      <th>2020-09-07 09:30:00</th>\n",
       "      <td>22908.55</td>\n",
       "      <td>22840.05</td>\n",
       "      <td>22908.55</td>\n",
       "      <td>22860.00</td>\n",
       "      <td>156275</td>\n",
       "      <td>22978.158333</td>\n",
       "      <td>23042.273810</td>\n",
       "    </tr>\n",
       "    <tr>\n",
       "      <th>2020-09-07 09:35:00</th>\n",
       "      <td>22856.95</td>\n",
       "      <td>22809.75</td>\n",
       "      <td>22890.00</td>\n",
       "      <td>22882.90</td>\n",
       "      <td>155575</td>\n",
       "      <td>22944.966667</td>\n",
       "      <td>23028.040476</td>\n",
       "    </tr>\n",
       "  </tbody>\n",
       "</table>\n",
       "</div>"
      ],
      "text/plain": [
       "                         Open       Low      High     Close  Volume  \\\n",
       "Date Time                                                             \n",
       "2020-09-07 09:15:00  23016.35  22758.00  23062.80  23003.00  370002   \n",
       "2020-09-07 09:20:00  23018.30  22913.00  23026.85  22924.15  197250   \n",
       "2020-09-07 09:25:00  22910.55  22892.80  22950.00  22915.75  155200   \n",
       "2020-09-07 09:30:00  22908.55  22840.05  22908.55  22860.00  156275   \n",
       "2020-09-07 09:35:00  22856.95  22809.75  22890.00  22882.90  155575   \n",
       "\n",
       "                             SMA6         SMA21  \n",
       "Date Time                                        \n",
       "2020-09-07 09:15:00  23063.208333  23094.071429  \n",
       "2020-09-07 09:20:00  23038.658333  23076.219048  \n",
       "2020-09-07 09:25:00  23013.158333  23059.364286  \n",
       "2020-09-07 09:30:00  22978.158333  23042.273810  \n",
       "2020-09-07 09:35:00  22944.966667  23028.040476  "
      ]
     },
     "execution_count": 207,
     "metadata": {},
     "output_type": "execute_result"
    }
   ],
   "source": [
    "today_df_bn5.head(5)"
   ]
  },
  {
   "cell_type": "markdown",
   "metadata": {},
   "source": [
    "### Strategy function"
   ]
  },
  {
   "cell_type": "code",
   "execution_count": 208,
   "metadata": {},
   "outputs": [],
   "source": [
    "def backtest_Intraday_5min_strategy(df):\n",
    "    SELL = False\n",
    "    BUY = False\n",
    "    SELL_PRICE = 0\n",
    "    BUY_PRICE = 0\n",
    "    GAIN_POINTS = 0\n",
    "    SELL_STOPLOSS = 0\n",
    "    BUY_STOPLOSS = 0\n",
    "    STOPLOSS = 100\n",
    "    SMA6_dead_band = 50\n",
    "    Total_Signals = 0\n",
    "    Total_Sell_Signal = 0\n",
    "    Total_Buy_Signal = 0\n",
    "    start_time = dt.datetime.strptime(\"10:00\", \"%H:%M\").time()\n",
    "    close_time = dt.datetime.strptime(\"15:15\", \"%H:%M\").time()\n",
    "    entry_close_time = dt.datetime.strptime(\"15:00\", \"%H:%M\").time()\n",
    "    print(\"Time\\t\\t\\t\", \"Close\\t\\t\", \"SMA6\\t\\t\", \"SMA21\\t\\t\", \"SIGNAL\\t\", \"TYPE\")\n",
    "    \n",
    "    for row in df.itertuples():\n",
    "        \n",
    "        if row.Index.time() >= start_time and row.Index.time() <= close_time:\n",
    "            SMA6_upper_band = row.SMA6 + SMA6_dead_band\n",
    "            SMA6_lower_band = row.SMA6 - SMA6_dead_band\n",
    "            \n",
    "            if SELL and row.Close > SELL_STOPLOSS:\n",
    "                SELL = False\n",
    "                BUY = False\n",
    "                Total_Signals += 1\n",
    "                Total_Buy_Signal += 1\n",
    "                points = SELL_PRICE - SELL_STOPLOSS\n",
    "                GAIN_POINTS = GAIN_POINTS + points\n",
    "                SELL_PRICE = 0\n",
    "                print(row.Index, \"\\t\",  row.Close, \"\\t\", round(row.SMA6,2),  \"\\t\", round(row.SMA21,2),  \"\\t\", \"BUY\\t\", \"SELL_STOPLOSS\")\n",
    "                \n",
    "            if BUY and row.Close < BUY_STOPLOSS:\n",
    "                points = BUY_STOPLOSS - BUY_PRICE\n",
    "                GAIN_POINTS = GAIN_POINTS + points\n",
    "                BUY_PRICE = 0\n",
    "                SELL = False\n",
    "                BUY = False\n",
    "                Total_Signals += 1\n",
    "                Total_Sell_Signal += 1\n",
    "                print(row.Index, \"\\t\",  row.Close, \"\\t\", round(row.SMA6,2),  \"\\t\", round(row.SMA21,2),  \"\\t\", \"SELL\\t\", \"BUY_STOPLOSS\")\n",
    "    \n",
    "            if row.Close < SMA6_lower_band and \\\n",
    "                    row.Index.time() < entry_close_time and \\\n",
    "                    SELL is False:\n",
    "                SELL_PRICE = row.Close\n",
    "                SELL_STOPLOSS = SELL_PRICE + STOPLOSS\n",
    "                if BUY_PRICE > 0:\n",
    "                    points = SELL_PRICE - BUY_PRICE\n",
    "                    GAIN_POINTS = GAIN_POINTS + points\n",
    "                SELL = True\n",
    "                BUY = False\n",
    "                Total_Sell_Signal += 1\n",
    "                Total_Signals += 1\n",
    "                print(row.Index, \"\\t\",  row.Close, \"\\t\", round(row.SMA6,2),  \"\\t\", round(row.SMA21,2),  \"\\t\", \"SELL\\t\", \"SELL ENTRY\")\n",
    "                \n",
    "            if row.Close > SMA6_upper_band and \\\n",
    "                    row.Index.time() < entry_close_time and \\\n",
    "                    BUY is False:\n",
    "                BUY_PRICE = row.Close\n",
    "                BUY_STOPLOSS = BUY_PRICE - STOPLOSS\n",
    "                if SELL_PRICE > 0:\n",
    "                    points = SELL_PRICE - BUY_PRICE\n",
    "                    GAIN_POINTS = GAIN_POINTS + points\n",
    "                BUY = True\n",
    "                SELL = False\n",
    "                Total_Buy_Signal += 1\n",
    "                Total_Signals += 1\n",
    "                print(row.Index, \"\\t\", row.Close,  \"\\t\", round(row.SMA6,2),  \"\\t\", round(row.SMA21,2),  \"\\t\", \"BUY\\t\", \"BUY ENTRY\")\n",
    "            \n",
    "            if row.Index.time() >= close_time:\n",
    "                if SELL:\n",
    "                    SELL = False\n",
    "                    BUY = False\n",
    "                    Total_Signals += 1\n",
    "                    Total_Buy_Signal += 1\n",
    "                    points = SELL_PRICE - row.Close\n",
    "                    GAIN_POINTS = GAIN_POINTS + points\n",
    "                    SELL_PRICE = 0\n",
    "                    print(row.Index, \"\\t\",  row.Close, \"\\t\", round(row.SMA6,2),  \"\\t\", round(row.SMA21,2),  \"\\t\", \"BUY\\t\", \"BUY_DAYCLOSE\")\n",
    "\n",
    "                if BUY:\n",
    "                    SELL = False\n",
    "                    BUY = False\n",
    "                    Total_Signals += 1\n",
    "                    Total_Buy_Signal += 1\n",
    "                    points = row.Close - BUY_PRICE\n",
    "                    GAIN_POINTS = GAIN_POINTS + points\n",
    "                    SELL_PRICE = 0\n",
    "                    print(row.Index, \"\\t\",  row.Close, \"\\t\", round(row.SMA6,2),  \"\\t\", round(row.SMA21,2),  \"\\t\", \"SELL\\t\", \"SELL_DAYCLOSE\")\n",
    "                    \n",
    "                    \n",
    "    \n",
    "    print(\"\\n\\nTotal Signals:\", Total_Signals)\n",
    "    print(\"Total Sell Signals:\", Total_Buy_Signal)\n",
    "    print(\"Total Buy Signals:\", Total_Sell_Signal)\n",
    "    print(\"Total Points Gained:\", GAIN_POINTS)"
   ]
  },
  {
   "cell_type": "code",
   "execution_count": 209,
   "metadata": {
    "scrolled": false
   },
   "outputs": [
    {
     "name": "stdout",
     "output_type": "stream",
     "text": [
      "Time\t\t\t Close\t\t SMA6\t\t SMA21\t\t SIGNAL\t TYPE\n",
      "2020-09-07 10:05:00 \t 23081.45 \t 23022.58 \t 22999.15 \t BUY\t BUY ENTRY\n",
      "2020-09-07 10:45:01 \t 22953.5 \t 23015.58 \t 23002.91 \t SELL\t BUY_STOPLOSS\n",
      "2020-09-07 10:45:01 \t 22953.5 \t 23015.58 \t 23002.91 \t SELL\t SELL ENTRY\n",
      "2020-09-07 11:15:00 \t 23043.0 \t 22984.07 \t 23004.6 \t BUY\t BUY ENTRY\n",
      "2020-09-07 14:25:00 \t 22945.05 \t 23001.95 \t 22997.38 \t SELL\t SELL ENTRY\n",
      "2020-09-07 15:15:00 \t 23030.0 \t 22920.6 \t 22939.05 \t BUY\t BUY_DAYCLOSE\n",
      "\n",
      "\n",
      "Total Signals: 6\n",
      "Total Sell Signals: 3\n",
      "Total Buy Signals: 3\n",
      "Total Points Gained: -372.40000000000146\n"
     ]
    }
   ],
   "source": [
    "backtest_Intraday_5min_strategy(today_df_bn5)"
   ]
  },
  {
   "cell_type": "code",
   "execution_count": null,
   "metadata": {},
   "outputs": [],
   "source": []
  }
 ],
 "metadata": {
  "kernelspec": {
   "display_name": "Python 3",
   "language": "python",
   "name": "python3"
  },
  "language_info": {
   "codemirror_mode": {
    "name": "ipython",
    "version": 3
   },
   "file_extension": ".py",
   "mimetype": "text/x-python",
   "name": "python",
   "nbconvert_exporter": "python",
   "pygments_lexer": "ipython3",
   "version": "3.8.3"
  }
 },
 "nbformat": 4,
 "nbformat_minor": 4
}
