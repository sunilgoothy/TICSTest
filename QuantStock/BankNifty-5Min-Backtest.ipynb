{
 "cells": [
  {
   "cell_type": "code",
   "execution_count": 1,
   "metadata": {},
   "outputs": [],
   "source": [
    "import pandas as pd\n",
    "import datetime as dt"
   ]
  },
  {
   "cell_type": "code",
   "execution_count": 2,
   "metadata": {},
   "outputs": [],
   "source": [
    "f = lambda s: dt.datetime.strptime(s,'%d-%m-%Y %H:%M:%S')\n",
    "df_bn5 = pd.read_csv(\"data/historical/BankNiftyFut-Sep-5min-2.csv\", sep=\"\\t\", parse_dates=['Date Time'], date_parser=f, encoding=\"utf_16_LE\") "
   ]
  },
  {
   "cell_type": "markdown",
   "metadata": {},
   "source": [
    "#### Remove last empty column and set date time as index"
   ]
  },
  {
   "cell_type": "code",
   "execution_count": 3,
   "metadata": {},
   "outputs": [],
   "source": [
    "df_bn5 = df_bn5[df_bn5.columns[:-1]]\n",
    "df_bn5.set_index('Date Time', inplace=True)"
   ]
  },
  {
   "cell_type": "markdown",
   "metadata": {},
   "source": [
    "#### Apply rolling mean columns for data"
   ]
  },
  {
   "cell_type": "code",
   "execution_count": 4,
   "metadata": {},
   "outputs": [],
   "source": [
    "df_bn5['SMA6'] = df_bn5['Close'].rolling(6).mean()\n",
    "df_bn5['SMA21'] = df_bn5['Close'].rolling(21).mean()"
   ]
  },
  {
   "cell_type": "markdown",
   "metadata": {},
   "source": [
    "## Input the evaluation date below"
   ]
  },
  {
   "cell_type": "code",
   "execution_count": 39,
   "metadata": {},
   "outputs": [],
   "source": [
    "eval_date = \"2020-08-28\""
   ]
  },
  {
   "cell_type": "markdown",
   "metadata": {},
   "source": [
    "#### Extract a separate dataframe for the evaluation date"
   ]
  },
  {
   "cell_type": "code",
   "execution_count": 40,
   "metadata": {},
   "outputs": [],
   "source": [
    "today_df_bn5 = df_bn5[eval_date]"
   ]
  },
  {
   "cell_type": "code",
   "execution_count": 41,
   "metadata": {},
   "outputs": [
    {
     "data": {
      "text/html": [
       "<div>\n",
       "<style scoped>\n",
       "    .dataframe tbody tr th:only-of-type {\n",
       "        vertical-align: middle;\n",
       "    }\n",
       "\n",
       "    .dataframe tbody tr th {\n",
       "        vertical-align: top;\n",
       "    }\n",
       "\n",
       "    .dataframe thead th {\n",
       "        text-align: right;\n",
       "    }\n",
       "</style>\n",
       "<table border=\"1\" class=\"dataframe\">\n",
       "  <thead>\n",
       "    <tr style=\"text-align: right;\">\n",
       "      <th></th>\n",
       "      <th>Open</th>\n",
       "      <th>Low</th>\n",
       "      <th>High</th>\n",
       "      <th>Close</th>\n",
       "      <th>Volume</th>\n",
       "      <th>SMA6</th>\n",
       "      <th>SMA21</th>\n",
       "    </tr>\n",
       "    <tr>\n",
       "      <th>Date Time</th>\n",
       "      <th></th>\n",
       "      <th></th>\n",
       "      <th></th>\n",
       "      <th></th>\n",
       "      <th></th>\n",
       "      <th></th>\n",
       "      <th></th>\n",
       "    </tr>\n",
       "  </thead>\n",
       "  <tbody>\n",
       "    <tr>\n",
       "      <th>2020-08-28 09:15:00</th>\n",
       "      <td>23679.90</td>\n",
       "      <td>23601.50</td>\n",
       "      <td>23795.00</td>\n",
       "      <td>23795.00</td>\n",
       "      <td>335203</td>\n",
       "      <td>23631.233333</td>\n",
       "      <td>23625.642857</td>\n",
       "    </tr>\n",
       "    <tr>\n",
       "      <th>2020-08-28 09:20:00</th>\n",
       "      <td>23797.00</td>\n",
       "      <td>23797.00</td>\n",
       "      <td>23828.55</td>\n",
       "      <td>23822.55</td>\n",
       "      <td>203275</td>\n",
       "      <td>23670.175000</td>\n",
       "      <td>23636.233333</td>\n",
       "    </tr>\n",
       "    <tr>\n",
       "      <th>2020-08-28 09:25:00</th>\n",
       "      <td>23823.55</td>\n",
       "      <td>23810.00</td>\n",
       "      <td>23850.00</td>\n",
       "      <td>23847.00</td>\n",
       "      <td>140175</td>\n",
       "      <td>23712.175000</td>\n",
       "      <td>23646.804762</td>\n",
       "    </tr>\n",
       "    <tr>\n",
       "      <th>2020-08-28 09:30:00</th>\n",
       "      <td>23847.00</td>\n",
       "      <td>23844.40</td>\n",
       "      <td>23885.00</td>\n",
       "      <td>23860.90</td>\n",
       "      <td>169025</td>\n",
       "      <td>23757.658333</td>\n",
       "      <td>23658.338095</td>\n",
       "    </tr>\n",
       "    <tr>\n",
       "      <th>2020-08-28 09:35:00</th>\n",
       "      <td>23857.75</td>\n",
       "      <td>23845.05</td>\n",
       "      <td>23886.85</td>\n",
       "      <td>23882.45</td>\n",
       "      <td>95700</td>\n",
       "      <td>23802.491667</td>\n",
       "      <td>23670.930952</td>\n",
       "    </tr>\n",
       "  </tbody>\n",
       "</table>\n",
       "</div>"
      ],
      "text/plain": [
       "                         Open       Low      High     Close  Volume  \\\n",
       "Date Time                                                             \n",
       "2020-08-28 09:15:00  23679.90  23601.50  23795.00  23795.00  335203   \n",
       "2020-08-28 09:20:00  23797.00  23797.00  23828.55  23822.55  203275   \n",
       "2020-08-28 09:25:00  23823.55  23810.00  23850.00  23847.00  140175   \n",
       "2020-08-28 09:30:00  23847.00  23844.40  23885.00  23860.90  169025   \n",
       "2020-08-28 09:35:00  23857.75  23845.05  23886.85  23882.45   95700   \n",
       "\n",
       "                             SMA6         SMA21  \n",
       "Date Time                                        \n",
       "2020-08-28 09:15:00  23631.233333  23625.642857  \n",
       "2020-08-28 09:20:00  23670.175000  23636.233333  \n",
       "2020-08-28 09:25:00  23712.175000  23646.804762  \n",
       "2020-08-28 09:30:00  23757.658333  23658.338095  \n",
       "2020-08-28 09:35:00  23802.491667  23670.930952  "
      ]
     },
     "execution_count": 41,
     "metadata": {},
     "output_type": "execute_result"
    }
   ],
   "source": [
    "today_df_bn5.head(5)"
   ]
  },
  {
   "cell_type": "markdown",
   "metadata": {},
   "source": [
    "### Strategy function"
   ]
  },
  {
   "cell_type": "code",
   "execution_count": 42,
   "metadata": {},
   "outputs": [],
   "source": [
    "def backtest_Intraday_5min_strategy(df):\n",
    "    SELL = False\n",
    "    BUY = False\n",
    "    SELL_PRICE = 0\n",
    "    BUY_PRICE = 0\n",
    "    GAIN_POINTS = 0\n",
    "    SELL_STOPLOSS = 0\n",
    "    BUY_STOPLOSS = 0\n",
    "    STOPLOSS = 100\n",
    "    SMA6_dead_band = 50\n",
    "    Total_Signals = 0\n",
    "    Total_Sell_Signal = 0\n",
    "    Total_Buy_Signal = 0\n",
    "    start_time = dt.datetime.strptime(\"10:00\", \"%H:%M\").time()\n",
    "    close_time = dt.datetime.strptime(\"15:15\", \"%H:%M\").time()\n",
    "    entry_close_time = dt.datetime.strptime(\"15:00\", \"%H:%M\").time()\n",
    "    print(\"Time\\t\\t\\t\", \"Close\\t\\t\", \"SMA6\\t\\t\", \"SMA21\\t\\t\", \"SIGNAL\\t\", \"TYPE\\t\\t\",  \"Points\\t\",)\n",
    "    \n",
    "    for row in df.itertuples():\n",
    "        SMA6_upper_band = row.SMA6 + SMA6_dead_band\n",
    "        SMA6_lower_band = row.SMA6 - SMA6_dead_band\n",
    "        \n",
    "        # SELL STOPLOSS\n",
    "        if row.Index.time() >= start_time and row.Index.time() <= close_time: \n",
    "            points = 0\n",
    "            if SELL and row.Close > SELL_STOPLOSS:\n",
    "                SELL = False\n",
    "                BUY = False\n",
    "                Total_Signals += 1\n",
    "                Total_Buy_Signal += 1\n",
    "                points = SELL_PRICE - row.Close\n",
    "                GAIN_POINTS = GAIN_POINTS + points\n",
    "                SELL_PRICE = 0\n",
    "                print(row.Index, \"\\t\",  row.Close, \"\\t\", round(row.SMA6,2),  \"\\t\", round(row.SMA21,2),  \"\\t\", \"BUY\\t\", \"SELL STOPLOSS\\t\", round(points,2))\n",
    "            \n",
    "            # BUY STOPLOSS\n",
    "            points = 0\n",
    "            if BUY and row.Close < BUY_STOPLOSS:\n",
    "                points = row.Close - BUY_PRICE\n",
    "                GAIN_POINTS = GAIN_POINTS + points\n",
    "                BUY_PRICE = 0\n",
    "                SELL = False\n",
    "                BUY = False\n",
    "                Total_Signals += 1\n",
    "                Total_Sell_Signal += 1\n",
    "                print(row.Index, \"\\t\",  row.Close, \"\\t\", round(row.SMA6,2),  \"\\t\", round(row.SMA21,2),  \"\\t\", \"SELL\\t\", \"BUY STOPLOSS\\t\", round(points,2))\n",
    "            \n",
    "            # SELL ENTRY\n",
    "            points = 0\n",
    "            if row.Close < SMA6_lower_band and \\\n",
    "                    row.Index.time() < entry_close_time and \\\n",
    "                    SELL is False:\n",
    "                SELL_PRICE = row.Close\n",
    "                SELL_STOPLOSS = SELL_PRICE + STOPLOSS\n",
    "                if BUY_PRICE > 0:\n",
    "                    points = SELL_PRICE - BUY_PRICE\n",
    "                    GAIN_POINTS = GAIN_POINTS + points\n",
    "                SELL = True\n",
    "                BUY = False\n",
    "                Total_Sell_Signal += 1\n",
    "                Total_Signals += 1\n",
    "                print(row.Index, \"\\t\",  row.Close, \"\\t\", round(row.SMA6,2),  \"\\t\", round(row.SMA21,2),  \"\\t\", \"SELL\\t\", \"SELL ENTRY\\t\", round(points,2))\n",
    "             \n",
    "            # BUY ENTRY\n",
    "            points = 0\n",
    "            if row.Close > SMA6_upper_band and \\\n",
    "                    row.Index.time() < entry_close_time and \\\n",
    "                    BUY is False:\n",
    "                BUY_PRICE = row.Close\n",
    "                BUY_STOPLOSS = BUY_PRICE - STOPLOSS\n",
    "                if SELL_PRICE > 0:\n",
    "                    points = SELL_PRICE - BUY_PRICE\n",
    "                    GAIN_POINTS = GAIN_POINTS + points\n",
    "                BUY = True\n",
    "                SELL = False\n",
    "                Total_Buy_Signal += 1\n",
    "                Total_Signals += 1\n",
    "                print(row.Index, \"\\t\", row.Close,  \"\\t\", round(row.SMA6,2),  \"\\t\", round(row.SMA21,2),  \"\\t\", \"BUY\\t\", \"BUY ENTRY\\t\", round(points,2))\n",
    "            \n",
    "            # DAY Close\n",
    "            points = 0    \n",
    "            if row.Index.time() >= close_time:\n",
    "                if SELL:\n",
    "                    SELL = False\n",
    "                    BUY = False\n",
    "                    Total_Signals += 1\n",
    "                    Total_Buy_Signal += 1\n",
    "                    points = SELL_PRICE - row.Close\n",
    "                    GAIN_POINTS = GAIN_POINTS + points\n",
    "                    SELL_PRICE = 0\n",
    "                    print(row.Index, \"\\t\",  row.Close, \"\\t\", round(row.SMA6,2),  \"\\t\", round(row.SMA21,2),  \"\\t\", \"BUY\\t\", \"BUY DAYCLOSE\\t\", round(points,2))\n",
    "\n",
    "                if BUY:\n",
    "                    SELL = False\n",
    "                    BUY = False\n",
    "                    Total_Signals += 1\n",
    "                    Total_Buy_Signal += 1\n",
    "                    points = row.Close - BUY_PRICE\n",
    "                    GAIN_POINTS = GAIN_POINTS + points\n",
    "                    SELL_PRICE = 0\n",
    "                    print(row.Index, \"\\t\",  row.Close, \"\\t\", round(row.SMA6,2),  \"\\t\", round(row.SMA21,2),  \"\\t\", \"SELL\\t\", \"SELL DAYCLOSE\\t\", round(points,2))\n",
    "                    \n",
    "                    \n",
    "    \n",
    "    print(\"\\n\\nTotal Signals:\\t\\t\", Total_Signals)\n",
    "    print(\"Total Sell Signals:\\t\", Total_Buy_Signal)\n",
    "    print(\"Total Buy Signals:\\t\", Total_Sell_Signal)\n",
    "    print(\"Total Points Gained:\\t\", round(GAIN_POINTS,2))"
   ]
  },
  {
   "cell_type": "code",
   "execution_count": 43,
   "metadata": {
    "scrolled": false
   },
   "outputs": [
    {
     "name": "stdout",
     "output_type": "stream",
     "text": [
      "Time\t\t\t Close\t\t SMA6\t\t SMA21\t\t SIGNAL\t TYPE\t\t Points\t\n",
      "2020-08-28 10:30:00 \t 24105.0 \t 23950.96 \t 23827.08 \t BUY\t BUY ENTRY\t 0\n",
      "2020-08-28 12:20:00 \t 24303.05 \t 24361.45 \t 24267.7 \t SELL\t SELL ENTRY\t 198.05\n",
      "2020-08-28 13:35:00 \t 24324.9 \t 24271.33 \t 24289.94 \t BUY\t BUY ENTRY\t -21.85\n",
      "2020-08-28 15:15:00 \t 24549.35 \t 24478.71 \t 24401.21 \t SELL\t SELL DAYCLOSE\t 224.45\n",
      "\n",
      "\n",
      "Total Signals:\t\t 4\n",
      "Total Sell Signals:\t 3\n",
      "Total Buy Signals:\t 1\n",
      "Total Points Gained:\t 400.65\n"
     ]
    }
   ],
   "source": [
    "backtest_Intraday_5min_strategy(today_df_bn5)"
   ]
  },
  {
   "cell_type": "code",
   "execution_count": null,
   "metadata": {},
   "outputs": [],
   "source": []
  }
 ],
 "metadata": {
  "kernelspec": {
   "display_name": "Python 3",
   "language": "python",
   "name": "python3"
  },
  "language_info": {
   "codemirror_mode": {
    "name": "ipython",
    "version": 3
   },
   "file_extension": ".py",
   "mimetype": "text/x-python",
   "name": "python",
   "nbconvert_exporter": "python",
   "pygments_lexer": "ipython3",
   "version": "3.8.3"
  }
 },
 "nbformat": 4,
 "nbformat_minor": 4
}
