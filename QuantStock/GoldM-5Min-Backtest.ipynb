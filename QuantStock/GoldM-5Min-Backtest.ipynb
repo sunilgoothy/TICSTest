{
 "cells": [
  {
   "cell_type": "code",
   "execution_count": 1,
   "metadata": {},
   "outputs": [],
   "source": [
    "import pandas as pd\n",
    "import datetime as dt"
   ]
  },
  {
   "cell_type": "code",
   "execution_count": 2,
   "metadata": {},
   "outputs": [],
   "source": [
    "f = lambda s: dt.datetime.strptime(s,'%d-%m-%Y %H:%M:%S')\n",
    "# df_bn5 = pd.read_csv(\"data/historical/GoldM-Oct-5min-20200908.csv\", sep=\"\\t\", parse_dates=['Date Time'], date_parser=f, encoding=\"utf_16_LE\") \n",
    "df_bn5 = pd.read_csv(\"data/historical/GoldM-Oct-5min-20200908.csv\", sep=\"\\t\", parse_dates=['Date Time'], encoding=\"utf_16_LE\") "
   ]
  },
  {
   "cell_type": "markdown",
   "metadata": {},
   "source": [
    "#### Remove last empty column and set date time as index"
   ]
  },
  {
   "cell_type": "code",
   "execution_count": 3,
   "metadata": {},
   "outputs": [],
   "source": [
    "df_bn5 = df_bn5[df_bn5.columns[:-1]]\n",
    "df_bn5.set_index('Date Time', inplace=True)"
   ]
  },
  {
   "cell_type": "markdown",
   "metadata": {},
   "source": [
    "#### Apply rolling mean columns for data"
   ]
  },
  {
   "cell_type": "code",
   "execution_count": 4,
   "metadata": {},
   "outputs": [],
   "source": [
    "df_bn5['SMA6'] = df_bn5['Close'].rolling(6).mean()\n",
    "df_bn5['SMA21'] = df_bn5['Close'].rolling(21).mean()"
   ]
  },
  {
   "cell_type": "markdown",
   "metadata": {},
   "source": [
    "## Input the evaluation date below"
   ]
  },
  {
   "cell_type": "code",
   "execution_count": 5,
   "metadata": {},
   "outputs": [],
   "source": [
    "eval_date = \"2020-09-08\""
   ]
  },
  {
   "cell_type": "markdown",
   "metadata": {},
   "source": [
    "#### Extract a separate dataframe for the evaluation date"
   ]
  },
  {
   "cell_type": "code",
   "execution_count": 6,
   "metadata": {},
   "outputs": [],
   "source": [
    "today_df_bn5 = df_bn5[eval_date]"
   ]
  },
  {
   "cell_type": "code",
   "execution_count": 7,
   "metadata": {},
   "outputs": [
    {
     "data": {
      "text/html": [
       "<div>\n",
       "<style scoped>\n",
       "    .dataframe tbody tr th:only-of-type {\n",
       "        vertical-align: middle;\n",
       "    }\n",
       "\n",
       "    .dataframe tbody tr th {\n",
       "        vertical-align: top;\n",
       "    }\n",
       "\n",
       "    .dataframe thead th {\n",
       "        text-align: right;\n",
       "    }\n",
       "</style>\n",
       "<table border=\"1\" class=\"dataframe\">\n",
       "  <thead>\n",
       "    <tr style=\"text-align: right;\">\n",
       "      <th></th>\n",
       "      <th>Open</th>\n",
       "      <th>Low</th>\n",
       "      <th>High</th>\n",
       "      <th>Close</th>\n",
       "      <th>Volume</th>\n",
       "      <th>SMA6</th>\n",
       "      <th>SMA21</th>\n",
       "    </tr>\n",
       "    <tr>\n",
       "      <th>Date Time</th>\n",
       "      <th></th>\n",
       "      <th></th>\n",
       "      <th></th>\n",
       "      <th></th>\n",
       "      <th></th>\n",
       "      <th></th>\n",
       "      <th></th>\n",
       "    </tr>\n",
       "  </thead>\n",
       "  <tbody>\n",
       "    <tr>\n",
       "      <th>2020-09-08 09:00:05</th>\n",
       "      <td>51000</td>\n",
       "      <td>50810</td>\n",
       "      <td>51000</td>\n",
       "      <td>50906</td>\n",
       "      <td>387</td>\n",
       "      <td>51103.000000</td>\n",
       "      <td>51008.857143</td>\n",
       "    </tr>\n",
       "    <tr>\n",
       "      <th>2020-09-08 09:05:00</th>\n",
       "      <td>50908</td>\n",
       "      <td>50898</td>\n",
       "      <td>50931</td>\n",
       "      <td>50925</td>\n",
       "      <td>235</td>\n",
       "      <td>51067.833333</td>\n",
       "      <td>51007.190476</td>\n",
       "    </tr>\n",
       "    <tr>\n",
       "      <th>2020-09-08 09:10:10</th>\n",
       "      <td>50921</td>\n",
       "      <td>50914</td>\n",
       "      <td>50930</td>\n",
       "      <td>50922</td>\n",
       "      <td>169</td>\n",
       "      <td>51031.500000</td>\n",
       "      <td>51006.380952</td>\n",
       "    </tr>\n",
       "    <tr>\n",
       "      <th>2020-09-08 09:15:02</th>\n",
       "      <td>50922</td>\n",
       "      <td>50916</td>\n",
       "      <td>50931</td>\n",
       "      <td>50920</td>\n",
       "      <td>101</td>\n",
       "      <td>50992.166667</td>\n",
       "      <td>51004.952381</td>\n",
       "    </tr>\n",
       "    <tr>\n",
       "      <th>2020-09-08 09:20:04</th>\n",
       "      <td>50923</td>\n",
       "      <td>50915</td>\n",
       "      <td>50925</td>\n",
       "      <td>50917</td>\n",
       "      <td>70</td>\n",
       "      <td>50953.333333</td>\n",
       "      <td>51003.380952</td>\n",
       "    </tr>\n",
       "  </tbody>\n",
       "</table>\n",
       "</div>"
      ],
      "text/plain": [
       "                      Open    Low   High  Close  Volume          SMA6  \\\n",
       "Date Time                                                               \n",
       "2020-09-08 09:00:05  51000  50810  51000  50906     387  51103.000000   \n",
       "2020-09-08 09:05:00  50908  50898  50931  50925     235  51067.833333   \n",
       "2020-09-08 09:10:10  50921  50914  50930  50922     169  51031.500000   \n",
       "2020-09-08 09:15:02  50922  50916  50931  50920     101  50992.166667   \n",
       "2020-09-08 09:20:04  50923  50915  50925  50917      70  50953.333333   \n",
       "\n",
       "                            SMA21  \n",
       "Date Time                          \n",
       "2020-09-08 09:00:05  51008.857143  \n",
       "2020-09-08 09:05:00  51007.190476  \n",
       "2020-09-08 09:10:10  51006.380952  \n",
       "2020-09-08 09:15:02  51004.952381  \n",
       "2020-09-08 09:20:04  51003.380952  "
      ]
     },
     "execution_count": 7,
     "metadata": {},
     "output_type": "execute_result"
    }
   ],
   "source": [
    "today_df_bn5.head(5)"
   ]
  },
  {
   "cell_type": "markdown",
   "metadata": {},
   "source": [
    "### Strategy function"
   ]
  },
  {
   "cell_type": "code",
   "execution_count": 12,
   "metadata": {},
   "outputs": [],
   "source": [
    "def backtest_Intraday_5min_strategy(df):\n",
    "    #Parameters\n",
    "    STOPLOSS = 100\n",
    "    SMA6_dead_band = 30\n",
    "    \n",
    "    #Other Variables\n",
    "    SELL = False\n",
    "    BUY = False\n",
    "    SELL_PRICE = 0\n",
    "    BUY_PRICE = 0\n",
    "    GAIN_POINTS = 0\n",
    "    SELL_STOPLOSS = 0\n",
    "    BUY_STOPLOSS = 0\n",
    "    Total_Signals = 0\n",
    "    Total_Sell_Signal = 0\n",
    "    Total_Buy_Signal = 0\n",
    "    start_time = dt.datetime.strptime(\"09:30\", \"%H:%M\").time()\n",
    "    close_time = dt.datetime.strptime(\"23:15\", \"%H:%M\").time()\n",
    "    entry_close_time = dt.datetime.strptime(\"23:00\", \"%H:%M\").time()\n",
    "    print(\"Time\\t\\t\\t\", \"Close\\t\\t\", \"SMA6\\t\\t\", \"SMA21\\t\\t\", \"SIGNAL\\t\", \"TYPE\\t\\t\",  \"Points\\t\",)\n",
    "    \n",
    "    for row in df.itertuples():\n",
    "        SMA6_upper_band = row.SMA6 + SMA6_dead_band\n",
    "        SMA6_lower_band = row.SMA6 - SMA6_dead_band\n",
    "        \n",
    "        # SELL STOPLOSS\n",
    "        if row.Index.time() >= start_time and row.Index.time() <= close_time: \n",
    "            points = 0\n",
    "            if SELL and row.Close > SELL_STOPLOSS:\n",
    "                SELL = False\n",
    "                BUY = False\n",
    "                Total_Signals += 1\n",
    "                Total_Buy_Signal += 1\n",
    "                points = SELL_PRICE - row.Close\n",
    "                GAIN_POINTS = GAIN_POINTS + points\n",
    "                SELL_PRICE = 0\n",
    "                print(row.Index, \"\\t\",  row.Close, \"\\t\", round(row.SMA6,2),  \"\\t\", round(row.SMA21,2),  \"\\t\", \"BUY\\t\", \"SELL STOPLOSS\\t\", round(points,2))\n",
    "            \n",
    "            # BUY STOPLOSS\n",
    "            points = 0\n",
    "            if BUY and row.Close < BUY_STOPLOSS:\n",
    "                points = row.Close - BUY_PRICE\n",
    "                GAIN_POINTS = GAIN_POINTS + points\n",
    "                BUY_PRICE = 0\n",
    "                SELL = False\n",
    "                BUY = False\n",
    "                Total_Signals += 1\n",
    "                Total_Sell_Signal += 1\n",
    "                print(row.Index, \"\\t\",  row.Close, \"\\t\", round(row.SMA6,2),  \"\\t\", round(row.SMA21,2),  \"\\t\", \"SELL\\t\", \"BUY STOPLOSS\\t\", round(points,2))\n",
    "            \n",
    "            # SELL ENTRY\n",
    "            points = 0\n",
    "            if row.Close < SMA6_lower_band and \\\n",
    "                    row.Index.time() < entry_close_time and \\\n",
    "                    SELL is False:\n",
    "                SELL_PRICE = row.Close\n",
    "                SELL_STOPLOSS = SELL_PRICE + STOPLOSS\n",
    "                if BUY_PRICE > 0:\n",
    "                    points = SELL_PRICE - BUY_PRICE\n",
    "                    GAIN_POINTS = GAIN_POINTS + points\n",
    "                SELL = True\n",
    "                BUY = False\n",
    "                Total_Sell_Signal += 1\n",
    "                Total_Signals += 1\n",
    "                print(row.Index, \"\\t\",  row.Close, \"\\t\", round(row.SMA6,2),  \"\\t\", round(row.SMA21,2),  \"\\t\", \"SELL\\t\", \"SELL ENTRY\\t\", round(points,2))\n",
    "             \n",
    "            # BUY ENTRY\n",
    "            points = 0\n",
    "            if row.Close > SMA6_upper_band and \\\n",
    "                    row.Index.time() < entry_close_time and \\\n",
    "                    BUY is False:\n",
    "                BUY_PRICE = row.Close\n",
    "                BUY_STOPLOSS = BUY_PRICE - STOPLOSS\n",
    "                if SELL_PRICE > 0:\n",
    "                    points = SELL_PRICE - BUY_PRICE\n",
    "                    GAIN_POINTS = GAIN_POINTS + points\n",
    "                BUY = True\n",
    "                SELL = False\n",
    "                Total_Buy_Signal += 1\n",
    "                Total_Signals += 1\n",
    "                print(row.Index, \"\\t\", row.Close,  \"\\t\", round(row.SMA6,2),  \"\\t\", round(row.SMA21,2),  \"\\t\", \"BUY\\t\", \"BUY ENTRY\\t\", round(points,2))\n",
    "            \n",
    "            # DAY Close\n",
    "            points = 0    \n",
    "            if row.Index.time() >= close_time:\n",
    "                if SELL:\n",
    "                    SELL = False\n",
    "                    BUY = False\n",
    "                    Total_Signals += 1\n",
    "                    Total_Buy_Signal += 1\n",
    "                    points = SELL_PRICE - row.Close\n",
    "                    GAIN_POINTS = GAIN_POINTS + points\n",
    "                    SELL_PRICE = 0\n",
    "                    print(row.Index, \"\\t\",  row.Close, \"\\t\", round(row.SMA6,2),  \"\\t\", round(row.SMA21,2),  \"\\t\", \"BUY\\t\", \"BUY DAYCLOSE\\t\", round(points,2))\n",
    "\n",
    "                if BUY:\n",
    "                    SELL = False\n",
    "                    BUY = False\n",
    "                    Total_Signals += 1\n",
    "                    Total_Buy_Signal += 1\n",
    "                    points = row.Close - BUY_PRICE\n",
    "                    GAIN_POINTS = GAIN_POINTS + points\n",
    "                    SELL_PRICE = 0\n",
    "                    print(row.Index, \"\\t\",  row.Close, \"\\t\", round(row.SMA6,2),  \"\\t\", round(row.SMA21,2),  \"\\t\", \"SELL\\t\", \"SELL DAYCLOSE\\t\", round(points,2))\n",
    "                    \n",
    "                    \n",
    "    \n",
    "    print(\"\\n\\nTotal Signals:\\t\\t\", Total_Signals)\n",
    "    print(\"Total Sell Signals:\\t\", Total_Buy_Signal)\n",
    "    print(\"Total Buy Signals:\\t\", Total_Sell_Signal)\n",
    "    print(\"Total Points Gained:\\t\", round(GAIN_POINTS,2))"
   ]
  },
  {
   "cell_type": "code",
   "execution_count": 13,
   "metadata": {
    "scrolled": false
   },
   "outputs": [
    {
     "name": "stdout",
     "output_type": "stream",
     "text": [
      "Time\t\t\t Close\t\t SMA6\t\t SMA21\t\t SIGNAL\t TYPE\t\t Points\t\n",
      "2020-09-08 11:15:04 \t 50999 \t 50960.33 \t 50940.48 \t BUY\t BUY ENTRY\t 0\n",
      "2020-09-08 14:20:10 \t 51020 \t 51051.5 \t 51063.1 \t SELL\t SELL ENTRY\t 21\n",
      "2020-09-08 17:30:01 \t 50935 \t 50877.0 \t 50906.43 \t BUY\t BUY ENTRY\t 85\n",
      "2020-09-08 18:05:18 \t 50911 \t 50941.17 \t 50913.62 \t SELL\t SELL ENTRY\t -24\n",
      "2020-09-08 19:35:04 \t 50842 \t 50807.67 \t 50870.9 \t BUY\t BUY ENTRY\t 69\n",
      "\n",
      "\n",
      "Total Signals:\t\t 5\n",
      "Total Sell Signals:\t 3\n",
      "Total Buy Signals:\t 2\n",
      "Total Points Gained:\t 151\n"
     ]
    }
   ],
   "source": [
    "backtest_Intraday_5min_strategy(today_df_bn5)"
   ]
  },
  {
   "cell_type": "code",
   "execution_count": null,
   "metadata": {},
   "outputs": [],
   "source": []
  }
 ],
 "metadata": {
  "kernelspec": {
   "display_name": "Python 3",
   "language": "python",
   "name": "python3"
  },
  "language_info": {
   "codemirror_mode": {
    "name": "ipython",
    "version": 3
   },
   "file_extension": ".py",
   "mimetype": "text/x-python",
   "name": "python",
   "nbconvert_exporter": "python",
   "pygments_lexer": "ipython3",
   "version": "3.8.3"
  }
 },
 "nbformat": 4,
 "nbformat_minor": 4
}
