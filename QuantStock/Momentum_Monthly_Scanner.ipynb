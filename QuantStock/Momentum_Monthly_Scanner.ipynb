{
 "cells": [
  {
   "cell_type": "markdown",
   "metadata": {},
   "source": [
    "# Monthly Momentun Scanner Executed Weekly"
   ]
  },
  {
   "cell_type": "code",
   "execution_count": 92,
   "metadata": {},
   "outputs": [],
   "source": [
    "import yfinance as yf\n",
    "import pandas as pd\n",
    "from openpyxl import load_workbook\n",
    "from stock_config import nifty50_stock_list as stock_list"
   ]
  },
  {
   "cell_type": "markdown",
   "metadata": {},
   "source": [
    "## Input the evaluation date below (Every Friday)"
   ]
  },
  {
   "cell_type": "code",
   "execution_count": 93,
   "metadata": {},
   "outputs": [],
   "source": [
    "eval_date = \"2020-09-18\""
   ]
  },
  {
   "cell_type": "markdown",
   "metadata": {},
   "source": [
    "#### Function to check valid trading day. If open price is not returned then next date is checked until valid date is found"
   ]
  },
  {
   "cell_type": "code",
   "execution_count": 94,
   "metadata": {},
   "outputs": [],
   "source": [
    "def get_valid_date(start_date, end_date):\n",
    "    valid = False\n",
    "    while not valid:\n",
    "        valid_check_data = yf.download('RELIANCE.NS', start = start_date, end=end_date)\n",
    "        try:\n",
    "            open_price = valid_check_data.iloc[0]['Open']\n",
    "            valid = True\n",
    "        except:\n",
    "            start_date = (pd.to_datetime(start_date) + pd.DateOffset(days=1)).strftime('%Y-%m-%d')\n",
    "            end_date = (pd.to_datetime(end_date) + pd.DateOffset(days=1)).strftime('%Y-%m-%d')\n",
    "            valid = False\n",
    "    return start_date, end_date"
   ]
  },
  {
   "cell_type": "markdown",
   "metadata": {},
   "source": [
    "#### Get valid start and end dates for this year"
   ]
  },
  {
   "cell_type": "code",
   "execution_count": 95,
   "metadata": {},
   "outputs": [
    {
     "name": "stdout",
     "output_type": "stream",
     "text": [
      "[*********************100%***********************]  1 of 1 completed\n"
     ]
    }
   ],
   "source": [
    "start_date=eval_date\n",
    "end_date = (pd.to_datetime(start_date) + pd.DateOffset(days=1)).strftime('%Y-%m-%d')\n",
    "start_date, end_date = get_valid_date(start_date, end_date)"
   ]
  },
  {
   "cell_type": "code",
   "execution_count": 96,
   "metadata": {},
   "outputs": [
    {
     "data": {
      "text/plain": [
       "'2020-09-18'"
      ]
     },
     "execution_count": 96,
     "metadata": {},
     "output_type": "execute_result"
    }
   ],
   "source": [
    "start_date"
   ]
  },
  {
   "cell_type": "code",
   "execution_count": 97,
   "metadata": {},
   "outputs": [
    {
     "data": {
      "text/plain": [
       "'2020-09-19'"
      ]
     },
     "execution_count": 97,
     "metadata": {},
     "output_type": "execute_result"
    }
   ],
   "source": [
    "end_date"
   ]
  },
  {
   "cell_type": "markdown",
   "metadata": {},
   "source": [
    "### Fetch this year data"
   ]
  },
  {
   "cell_type": "markdown",
   "metadata": {},
   "source": [
    "#### [Below data fetch will throw error if there is no trading day between start and end dates]"
   ]
  },
  {
   "cell_type": "code",
   "execution_count": 98,
   "metadata": {},
   "outputs": [
    {
     "name": "stdout",
     "output_type": "stream",
     "text": [
      "[*********************100%***********************]  50 of 50 completed\n"
     ]
    }
   ],
   "source": [
    "data = yf.download(stock_list, start = start_date, end=end_date)"
   ]
  },
  {
   "cell_type": "code",
   "execution_count": 99,
   "metadata": {},
   "outputs": [],
   "source": [
    "this_month_close = pd.DataFrame(data.iloc[0]['Adj Close'])"
   ]
  },
  {
   "cell_type": "code",
   "execution_count": 100,
   "metadata": {},
   "outputs": [],
   "source": [
    "# this_month_close"
   ]
  },
  {
   "cell_type": "markdown",
   "metadata": {},
   "source": [
    "#### Calculate dates for last week"
   ]
  },
  {
   "cell_type": "code",
   "execution_count": 101,
   "metadata": {},
   "outputs": [],
   "source": [
    "start_date=(pd.to_datetime(eval_date) - pd.DateOffset(months=1)).strftime('%Y-%m-%d')\n",
    "end_date = (pd.to_datetime(start_date) + pd.DateOffset(days=1)).strftime('%Y-%m-%d')"
   ]
  },
  {
   "cell_type": "markdown",
   "metadata": {},
   "source": [
    "#### Get valid start and end dates for last year"
   ]
  },
  {
   "cell_type": "code",
   "execution_count": 102,
   "metadata": {},
   "outputs": [
    {
     "name": "stdout",
     "output_type": "stream",
     "text": [
      "[*********************100%***********************]  1 of 1 completed\n"
     ]
    }
   ],
   "source": [
    "start_date, end_date = get_valid_date(start_date, end_date)"
   ]
  },
  {
   "cell_type": "code",
   "execution_count": 103,
   "metadata": {},
   "outputs": [
    {
     "data": {
      "text/plain": [
       "'2020-08-18'"
      ]
     },
     "execution_count": 103,
     "metadata": {},
     "output_type": "execute_result"
    }
   ],
   "source": [
    "start_date"
   ]
  },
  {
   "cell_type": "code",
   "execution_count": 104,
   "metadata": {},
   "outputs": [
    {
     "data": {
      "text/plain": [
       "'2020-08-19'"
      ]
     },
     "execution_count": 104,
     "metadata": {},
     "output_type": "execute_result"
    }
   ],
   "source": [
    "end_date"
   ]
  },
  {
   "cell_type": "markdown",
   "metadata": {},
   "source": [
    "### Fetch last year data"
   ]
  },
  {
   "cell_type": "markdown",
   "metadata": {},
   "source": [
    "#### [Below data fetch will throw error if there is no trading day between start and end dates]"
   ]
  },
  {
   "cell_type": "code",
   "execution_count": 105,
   "metadata": {},
   "outputs": [
    {
     "name": "stdout",
     "output_type": "stream",
     "text": [
      "[*********************100%***********************]  50 of 50 completed\n"
     ]
    }
   ],
   "source": [
    "data = yf.download(stock_list, start = start_date, end=end_date)"
   ]
  },
  {
   "cell_type": "code",
   "execution_count": 106,
   "metadata": {},
   "outputs": [],
   "source": [
    "last_month_close = pd.DataFrame(data.iloc[0]['Adj Close'])"
   ]
  },
  {
   "cell_type": "code",
   "execution_count": 107,
   "metadata": {},
   "outputs": [],
   "source": [
    "# last_month_close"
   ]
  },
  {
   "cell_type": "code",
   "execution_count": 108,
   "metadata": {},
   "outputs": [],
   "source": [
    "final_df = last_month_close.join(this_month_close)"
   ]
  },
  {
   "cell_type": "code",
   "execution_count": 109,
   "metadata": {
    "scrolled": false
   },
   "outputs": [
    {
     "data": {
      "text/html": [
       "<div>\n",
       "<style scoped>\n",
       "    .dataframe tbody tr th:only-of-type {\n",
       "        vertical-align: middle;\n",
       "    }\n",
       "\n",
       "    .dataframe tbody tr th {\n",
       "        vertical-align: top;\n",
       "    }\n",
       "\n",
       "    .dataframe thead th {\n",
       "        text-align: right;\n",
       "    }\n",
       "</style>\n",
       "<table border=\"1\" class=\"dataframe\">\n",
       "  <thead>\n",
       "    <tr style=\"text-align: right;\">\n",
       "      <th></th>\n",
       "      <th>2020-08-18</th>\n",
       "      <th>2020-09-18</th>\n",
       "    </tr>\n",
       "  </thead>\n",
       "  <tbody>\n",
       "    <tr>\n",
       "      <th>ADANIPORTS.NS</th>\n",
       "      <td>357.450012</td>\n",
       "      <td>357.850006</td>\n",
       "    </tr>\n",
       "    <tr>\n",
       "      <th>ASIANPAINT.NS</th>\n",
       "      <td>1874.099976</td>\n",
       "      <td>2028.400024</td>\n",
       "    </tr>\n",
       "    <tr>\n",
       "      <th>AXISBANK.NS</th>\n",
       "      <td>445.799988</td>\n",
       "      <td>443.350006</td>\n",
       "    </tr>\n",
       "    <tr>\n",
       "      <th>BAJAJ-AUTO.NS</th>\n",
       "      <td>3104.800049</td>\n",
       "      <td>3050.949951</td>\n",
       "    </tr>\n",
       "    <tr>\n",
       "      <th>BAJAJFINSV.NS</th>\n",
       "      <td>6343.049805</td>\n",
       "      <td>5888.450195</td>\n",
       "    </tr>\n",
       "    <tr>\n",
       "      <th>BAJFINANCE.NS</th>\n",
       "      <td>3419.899902</td>\n",
       "      <td>3474.800049</td>\n",
       "    </tr>\n",
       "    <tr>\n",
       "      <th>BHARTIARTL.NS</th>\n",
       "      <td>526.299988</td>\n",
       "      <td>494.549988</td>\n",
       "    </tr>\n",
       "    <tr>\n",
       "      <th>BPCL.NS</th>\n",
       "      <td>402.299988</td>\n",
       "      <td>412.049988</td>\n",
       "    </tr>\n",
       "    <tr>\n",
       "      <th>BRITANNIA.NS</th>\n",
       "      <td>3830.928467</td>\n",
       "      <td>3797.500000</td>\n",
       "    </tr>\n",
       "    <tr>\n",
       "      <th>CIPLA.NS</th>\n",
       "      <td>764.849976</td>\n",
       "      <td>806.250000</td>\n",
       "    </tr>\n",
       "    <tr>\n",
       "      <th>COALINDIA.NS</th>\n",
       "      <td>136.649994</td>\n",
       "      <td>123.650002</td>\n",
       "    </tr>\n",
       "    <tr>\n",
       "      <th>DRREDDY.NS</th>\n",
       "      <td>4520.399902</td>\n",
       "      <td>5333.350098</td>\n",
       "    </tr>\n",
       "    <tr>\n",
       "      <th>EICHERMOT.NS</th>\n",
       "      <td>2140.469971</td>\n",
       "      <td>2152.949951</td>\n",
       "    </tr>\n",
       "    <tr>\n",
       "      <th>GAIL.NS</th>\n",
       "      <td>96.949997</td>\n",
       "      <td>92.099998</td>\n",
       "    </tr>\n",
       "    <tr>\n",
       "      <th>GRASIM.NS</th>\n",
       "      <td>663.139465</td>\n",
       "      <td>745.000000</td>\n",
       "    </tr>\n",
       "    <tr>\n",
       "      <th>HCLTECH.NS</th>\n",
       "      <td>712.469971</td>\n",
       "      <td>810.599976</td>\n",
       "    </tr>\n",
       "    <tr>\n",
       "      <th>HDFC.NS</th>\n",
       "      <td>1820.699951</td>\n",
       "      <td>1724.000000</td>\n",
       "    </tr>\n",
       "    <tr>\n",
       "      <th>HDFCBANK.NS</th>\n",
       "      <td>1056.500000</td>\n",
       "      <td>1057.300049</td>\n",
       "    </tr>\n",
       "    <tr>\n",
       "      <th>HDFCLIFE.NS</th>\n",
       "      <td>597.599976</td>\n",
       "      <td>585.099976</td>\n",
       "    </tr>\n",
       "    <tr>\n",
       "      <th>HEROMOTOCO.NS</th>\n",
       "      <td>2924.149902</td>\n",
       "      <td>3112.649902</td>\n",
       "    </tr>\n",
       "    <tr>\n",
       "      <th>HINDALCO.NS</th>\n",
       "      <td>195.001022</td>\n",
       "      <td>179.500000</td>\n",
       "    </tr>\n",
       "    <tr>\n",
       "      <th>HINDUNILVR.NS</th>\n",
       "      <td>2214.350098</td>\n",
       "      <td>2098.699951</td>\n",
       "    </tr>\n",
       "    <tr>\n",
       "      <th>ICICIBANK.NS</th>\n",
       "      <td>369.549988</td>\n",
       "      <td>369.549988</td>\n",
       "    </tr>\n",
       "    <tr>\n",
       "      <th>INDUSINDBK.NS</th>\n",
       "      <td>521.599976</td>\n",
       "      <td>613.200012</td>\n",
       "    </tr>\n",
       "    <tr>\n",
       "      <th>INFRATEL.NS</th>\n",
       "      <td>200.550003</td>\n",
       "      <td>199.350006</td>\n",
       "    </tr>\n",
       "    <tr>\n",
       "      <th>INFY.NS</th>\n",
       "      <td>967.549988</td>\n",
       "      <td>1002.150024</td>\n",
       "    </tr>\n",
       "    <tr>\n",
       "      <th>IOC.NS</th>\n",
       "      <td>87.000000</td>\n",
       "      <td>80.699997</td>\n",
       "    </tr>\n",
       "    <tr>\n",
       "      <th>ITC.NS</th>\n",
       "      <td>198.550003</td>\n",
       "      <td>179.100006</td>\n",
       "    </tr>\n",
       "    <tr>\n",
       "      <th>JSWSTEEL.NS</th>\n",
       "      <td>277.149994</td>\n",
       "      <td>287.700012</td>\n",
       "    </tr>\n",
       "    <tr>\n",
       "      <th>KOTAKBANK.NS</th>\n",
       "      <td>1369.349976</td>\n",
       "      <td>1277.099976</td>\n",
       "    </tr>\n",
       "    <tr>\n",
       "      <th>LT.NS</th>\n",
       "      <td>1004.549988</td>\n",
       "      <td>900.700012</td>\n",
       "    </tr>\n",
       "    <tr>\n",
       "      <th>M&amp;M.NS</th>\n",
       "      <td>622.650024</td>\n",
       "      <td>654.150024</td>\n",
       "    </tr>\n",
       "    <tr>\n",
       "      <th>MARUTI.NS</th>\n",
       "      <td>6893.100098</td>\n",
       "      <td>6964.750000</td>\n",
       "    </tr>\n",
       "    <tr>\n",
       "      <th>NESTLEIND.NS</th>\n",
       "      <td>16554.599609</td>\n",
       "      <td>16087.049805</td>\n",
       "    </tr>\n",
       "    <tr>\n",
       "      <th>NTPC.NS</th>\n",
       "      <td>92.285103</td>\n",
       "      <td>90.550003</td>\n",
       "    </tr>\n",
       "    <tr>\n",
       "      <th>ONGC.NS</th>\n",
       "      <td>80.650002</td>\n",
       "      <td>74.300003</td>\n",
       "    </tr>\n",
       "    <tr>\n",
       "      <th>POWERGRID.NS</th>\n",
       "      <td>173.769348</td>\n",
       "      <td>171.899994</td>\n",
       "    </tr>\n",
       "    <tr>\n",
       "      <th>RELIANCE.NS</th>\n",
       "      <td>2118.550049</td>\n",
       "      <td>2305.699951</td>\n",
       "    </tr>\n",
       "    <tr>\n",
       "      <th>SBIN.NS</th>\n",
       "      <td>195.100006</td>\n",
       "      <td>192.600006</td>\n",
       "    </tr>\n",
       "    <tr>\n",
       "      <th>SHREECEM.NS</th>\n",
       "      <td>21914.300781</td>\n",
       "      <td>19520.949219</td>\n",
       "    </tr>\n",
       "    <tr>\n",
       "      <th>SUNPHARMA.NS</th>\n",
       "      <td>525.000000</td>\n",
       "      <td>523.349976</td>\n",
       "    </tr>\n",
       "    <tr>\n",
       "      <th>TATAMOTORS.NS</th>\n",
       "      <td>125.599998</td>\n",
       "      <td>147.899994</td>\n",
       "    </tr>\n",
       "    <tr>\n",
       "      <th>TATASTEEL.NS</th>\n",
       "      <td>434.500000</td>\n",
       "      <td>395.500000</td>\n",
       "    </tr>\n",
       "    <tr>\n",
       "      <th>TCS.NS</th>\n",
       "      <td>2269.750000</td>\n",
       "      <td>2449.899902</td>\n",
       "    </tr>\n",
       "    <tr>\n",
       "      <th>TECHM.NS</th>\n",
       "      <td>713.049988</td>\n",
       "      <td>804.650024</td>\n",
       "    </tr>\n",
       "    <tr>\n",
       "      <th>TITAN.NS</th>\n",
       "      <td>1145.550049</td>\n",
       "      <td>1163.599976</td>\n",
       "    </tr>\n",
       "    <tr>\n",
       "      <th>ULTRACEMCO.NS</th>\n",
       "      <td>4168.950195</td>\n",
       "      <td>4002.600098</td>\n",
       "    </tr>\n",
       "    <tr>\n",
       "      <th>UPL.NS</th>\n",
       "      <td>494.149994</td>\n",
       "      <td>537.299988</td>\n",
       "    </tr>\n",
       "    <tr>\n",
       "      <th>WIPRO.NS</th>\n",
       "      <td>282.700012</td>\n",
       "      <td>316.500000</td>\n",
       "    </tr>\n",
       "    <tr>\n",
       "      <th>ZEEL.NS</th>\n",
       "      <td>173.714447</td>\n",
       "      <td>220.300003</td>\n",
       "    </tr>\n",
       "  </tbody>\n",
       "</table>\n",
       "</div>"
      ],
      "text/plain": [
       "                 2020-08-18    2020-09-18\n",
       "ADANIPORTS.NS    357.450012    357.850006\n",
       "ASIANPAINT.NS   1874.099976   2028.400024\n",
       "AXISBANK.NS      445.799988    443.350006\n",
       "BAJAJ-AUTO.NS   3104.800049   3050.949951\n",
       "BAJAJFINSV.NS   6343.049805   5888.450195\n",
       "BAJFINANCE.NS   3419.899902   3474.800049\n",
       "BHARTIARTL.NS    526.299988    494.549988\n",
       "BPCL.NS          402.299988    412.049988\n",
       "BRITANNIA.NS    3830.928467   3797.500000\n",
       "CIPLA.NS         764.849976    806.250000\n",
       "COALINDIA.NS     136.649994    123.650002\n",
       "DRREDDY.NS      4520.399902   5333.350098\n",
       "EICHERMOT.NS    2140.469971   2152.949951\n",
       "GAIL.NS           96.949997     92.099998\n",
       "GRASIM.NS        663.139465    745.000000\n",
       "HCLTECH.NS       712.469971    810.599976\n",
       "HDFC.NS         1820.699951   1724.000000\n",
       "HDFCBANK.NS     1056.500000   1057.300049\n",
       "HDFCLIFE.NS      597.599976    585.099976\n",
       "HEROMOTOCO.NS   2924.149902   3112.649902\n",
       "HINDALCO.NS      195.001022    179.500000\n",
       "HINDUNILVR.NS   2214.350098   2098.699951\n",
       "ICICIBANK.NS     369.549988    369.549988\n",
       "INDUSINDBK.NS    521.599976    613.200012\n",
       "INFRATEL.NS      200.550003    199.350006\n",
       "INFY.NS          967.549988   1002.150024\n",
       "IOC.NS            87.000000     80.699997\n",
       "ITC.NS           198.550003    179.100006\n",
       "JSWSTEEL.NS      277.149994    287.700012\n",
       "KOTAKBANK.NS    1369.349976   1277.099976\n",
       "LT.NS           1004.549988    900.700012\n",
       "M&M.NS           622.650024    654.150024\n",
       "MARUTI.NS       6893.100098   6964.750000\n",
       "NESTLEIND.NS   16554.599609  16087.049805\n",
       "NTPC.NS           92.285103     90.550003\n",
       "ONGC.NS           80.650002     74.300003\n",
       "POWERGRID.NS     173.769348    171.899994\n",
       "RELIANCE.NS     2118.550049   2305.699951\n",
       "SBIN.NS          195.100006    192.600006\n",
       "SHREECEM.NS    21914.300781  19520.949219\n",
       "SUNPHARMA.NS     525.000000    523.349976\n",
       "TATAMOTORS.NS    125.599998    147.899994\n",
       "TATASTEEL.NS     434.500000    395.500000\n",
       "TCS.NS          2269.750000   2449.899902\n",
       "TECHM.NS         713.049988    804.650024\n",
       "TITAN.NS        1145.550049   1163.599976\n",
       "ULTRACEMCO.NS   4168.950195   4002.600098\n",
       "UPL.NS           494.149994    537.299988\n",
       "WIPRO.NS         282.700012    316.500000\n",
       "ZEEL.NS          173.714447    220.300003"
      ]
     },
     "execution_count": 109,
     "metadata": {},
     "output_type": "execute_result"
    }
   ],
   "source": [
    "final_df"
   ]
  },
  {
   "cell_type": "code",
   "execution_count": 110,
   "metadata": {},
   "outputs": [],
   "source": [
    "final_df.rename(columns =lambda t: t.strftime('%Y-%m-%d'), inplace=True)"
   ]
  },
  {
   "cell_type": "markdown",
   "metadata": {},
   "source": [
    "## Calculate Momentum"
   ]
  },
  {
   "cell_type": "code",
   "execution_count": 111,
   "metadata": {
    "scrolled": true
   },
   "outputs": [],
   "source": [
    "last_month_date = final_df.columns[0]\n",
    "this_month_date = final_df.columns[1]\n",
    "final_df['Change'] = final_df[this_month_date] - final_df[last_month_date]"
   ]
  },
  {
   "cell_type": "code",
   "execution_count": 112,
   "metadata": {},
   "outputs": [],
   "source": [
    "final_df['% Change'] = (final_df['Change'] / final_df[last_month_date])*100"
   ]
  },
  {
   "cell_type": "markdown",
   "metadata": {},
   "source": [
    "## Final Output"
   ]
  },
  {
   "cell_type": "code",
   "execution_count": 113,
   "metadata": {},
   "outputs": [],
   "source": [
    "final_df.sort_values(by=['% Change'], ascending=False, inplace=True)"
   ]
  },
  {
   "cell_type": "code",
   "execution_count": 114,
   "metadata": {},
   "outputs": [],
   "source": [
    "final_df.rename_axis('MOMENTUM_ATH', inplace=True)\n",
    "final_df.rename_axis('', axis='columns', inplace=True)"
   ]
  },
  {
   "cell_type": "code",
   "execution_count": 115,
   "metadata": {},
   "outputs": [
    {
     "data": {
      "text/html": [
       "<div>\n",
       "<style scoped>\n",
       "    .dataframe tbody tr th:only-of-type {\n",
       "        vertical-align: middle;\n",
       "    }\n",
       "\n",
       "    .dataframe tbody tr th {\n",
       "        vertical-align: top;\n",
       "    }\n",
       "\n",
       "    .dataframe thead th {\n",
       "        text-align: right;\n",
       "    }\n",
       "</style>\n",
       "<table border=\"1\" class=\"dataframe\">\n",
       "  <thead>\n",
       "    <tr style=\"text-align: right;\">\n",
       "      <th></th>\n",
       "      <th>2020-08-18</th>\n",
       "      <th>2020-09-18</th>\n",
       "      <th>Change</th>\n",
       "      <th>% Change</th>\n",
       "    </tr>\n",
       "    <tr>\n",
       "      <th>MOMENTUM_ATH</th>\n",
       "      <th></th>\n",
       "      <th></th>\n",
       "      <th></th>\n",
       "      <th></th>\n",
       "    </tr>\n",
       "  </thead>\n",
       "  <tbody>\n",
       "    <tr>\n",
       "      <th>ZEEL.NS</th>\n",
       "      <td>173.71</td>\n",
       "      <td>220.30</td>\n",
       "      <td>46.59</td>\n",
       "      <td>26.82</td>\n",
       "    </tr>\n",
       "    <tr>\n",
       "      <th>DRREDDY.NS</th>\n",
       "      <td>4520.40</td>\n",
       "      <td>5333.35</td>\n",
       "      <td>812.95</td>\n",
       "      <td>17.98</td>\n",
       "    </tr>\n",
       "    <tr>\n",
       "      <th>TATAMOTORS.NS</th>\n",
       "      <td>125.60</td>\n",
       "      <td>147.90</td>\n",
       "      <td>22.30</td>\n",
       "      <td>17.75</td>\n",
       "    </tr>\n",
       "    <tr>\n",
       "      <th>INDUSINDBK.NS</th>\n",
       "      <td>521.60</td>\n",
       "      <td>613.20</td>\n",
       "      <td>91.60</td>\n",
       "      <td>17.56</td>\n",
       "    </tr>\n",
       "    <tr>\n",
       "      <th>HCLTECH.NS</th>\n",
       "      <td>712.47</td>\n",
       "      <td>810.60</td>\n",
       "      <td>98.13</td>\n",
       "      <td>13.77</td>\n",
       "    </tr>\n",
       "    <tr>\n",
       "      <th>TECHM.NS</th>\n",
       "      <td>713.05</td>\n",
       "      <td>804.65</td>\n",
       "      <td>91.60</td>\n",
       "      <td>12.85</td>\n",
       "    </tr>\n",
       "    <tr>\n",
       "      <th>GRASIM.NS</th>\n",
       "      <td>663.14</td>\n",
       "      <td>745.00</td>\n",
       "      <td>81.86</td>\n",
       "      <td>12.34</td>\n",
       "    </tr>\n",
       "    <tr>\n",
       "      <th>WIPRO.NS</th>\n",
       "      <td>282.70</td>\n",
       "      <td>316.50</td>\n",
       "      <td>33.80</td>\n",
       "      <td>11.96</td>\n",
       "    </tr>\n",
       "    <tr>\n",
       "      <th>RELIANCE.NS</th>\n",
       "      <td>2118.55</td>\n",
       "      <td>2305.70</td>\n",
       "      <td>187.15</td>\n",
       "      <td>8.83</td>\n",
       "    </tr>\n",
       "    <tr>\n",
       "      <th>UPL.NS</th>\n",
       "      <td>494.15</td>\n",
       "      <td>537.30</td>\n",
       "      <td>43.15</td>\n",
       "      <td>8.73</td>\n",
       "    </tr>\n",
       "    <tr>\n",
       "      <th>ASIANPAINT.NS</th>\n",
       "      <td>1874.10</td>\n",
       "      <td>2028.40</td>\n",
       "      <td>154.30</td>\n",
       "      <td>8.23</td>\n",
       "    </tr>\n",
       "    <tr>\n",
       "      <th>TCS.NS</th>\n",
       "      <td>2269.75</td>\n",
       "      <td>2449.90</td>\n",
       "      <td>180.15</td>\n",
       "      <td>7.94</td>\n",
       "    </tr>\n",
       "    <tr>\n",
       "      <th>HEROMOTOCO.NS</th>\n",
       "      <td>2924.15</td>\n",
       "      <td>3112.65</td>\n",
       "      <td>188.50</td>\n",
       "      <td>6.45</td>\n",
       "    </tr>\n",
       "    <tr>\n",
       "      <th>CIPLA.NS</th>\n",
       "      <td>764.85</td>\n",
       "      <td>806.25</td>\n",
       "      <td>41.40</td>\n",
       "      <td>5.41</td>\n",
       "    </tr>\n",
       "    <tr>\n",
       "      <th>M&amp;M.NS</th>\n",
       "      <td>622.65</td>\n",
       "      <td>654.15</td>\n",
       "      <td>31.50</td>\n",
       "      <td>5.06</td>\n",
       "    </tr>\n",
       "    <tr>\n",
       "      <th>JSWSTEEL.NS</th>\n",
       "      <td>277.15</td>\n",
       "      <td>287.70</td>\n",
       "      <td>10.55</td>\n",
       "      <td>3.81</td>\n",
       "    </tr>\n",
       "    <tr>\n",
       "      <th>INFY.NS</th>\n",
       "      <td>967.55</td>\n",
       "      <td>1002.15</td>\n",
       "      <td>34.60</td>\n",
       "      <td>3.58</td>\n",
       "    </tr>\n",
       "    <tr>\n",
       "      <th>BPCL.NS</th>\n",
       "      <td>402.30</td>\n",
       "      <td>412.05</td>\n",
       "      <td>9.75</td>\n",
       "      <td>2.42</td>\n",
       "    </tr>\n",
       "    <tr>\n",
       "      <th>BAJFINANCE.NS</th>\n",
       "      <td>3419.90</td>\n",
       "      <td>3474.80</td>\n",
       "      <td>54.90</td>\n",
       "      <td>1.61</td>\n",
       "    </tr>\n",
       "    <tr>\n",
       "      <th>TITAN.NS</th>\n",
       "      <td>1145.55</td>\n",
       "      <td>1163.60</td>\n",
       "      <td>18.05</td>\n",
       "      <td>1.58</td>\n",
       "    </tr>\n",
       "    <tr>\n",
       "      <th>MARUTI.NS</th>\n",
       "      <td>6893.10</td>\n",
       "      <td>6964.75</td>\n",
       "      <td>71.65</td>\n",
       "      <td>1.04</td>\n",
       "    </tr>\n",
       "    <tr>\n",
       "      <th>EICHERMOT.NS</th>\n",
       "      <td>2140.47</td>\n",
       "      <td>2152.95</td>\n",
       "      <td>12.48</td>\n",
       "      <td>0.58</td>\n",
       "    </tr>\n",
       "    <tr>\n",
       "      <th>ADANIPORTS.NS</th>\n",
       "      <td>357.45</td>\n",
       "      <td>357.85</td>\n",
       "      <td>0.40</td>\n",
       "      <td>0.11</td>\n",
       "    </tr>\n",
       "    <tr>\n",
       "      <th>HDFCBANK.NS</th>\n",
       "      <td>1056.50</td>\n",
       "      <td>1057.30</td>\n",
       "      <td>0.80</td>\n",
       "      <td>0.08</td>\n",
       "    </tr>\n",
       "    <tr>\n",
       "      <th>ICICIBANK.NS</th>\n",
       "      <td>369.55</td>\n",
       "      <td>369.55</td>\n",
       "      <td>0.00</td>\n",
       "      <td>0.00</td>\n",
       "    </tr>\n",
       "    <tr>\n",
       "      <th>SUNPHARMA.NS</th>\n",
       "      <td>525.00</td>\n",
       "      <td>523.35</td>\n",
       "      <td>-1.65</td>\n",
       "      <td>-0.31</td>\n",
       "    </tr>\n",
       "    <tr>\n",
       "      <th>AXISBANK.NS</th>\n",
       "      <td>445.80</td>\n",
       "      <td>443.35</td>\n",
       "      <td>-2.45</td>\n",
       "      <td>-0.55</td>\n",
       "    </tr>\n",
       "    <tr>\n",
       "      <th>INFRATEL.NS</th>\n",
       "      <td>200.55</td>\n",
       "      <td>199.35</td>\n",
       "      <td>-1.20</td>\n",
       "      <td>-0.60</td>\n",
       "    </tr>\n",
       "    <tr>\n",
       "      <th>BRITANNIA.NS</th>\n",
       "      <td>3830.93</td>\n",
       "      <td>3797.50</td>\n",
       "      <td>-33.43</td>\n",
       "      <td>-0.87</td>\n",
       "    </tr>\n",
       "    <tr>\n",
       "      <th>POWERGRID.NS</th>\n",
       "      <td>173.77</td>\n",
       "      <td>171.90</td>\n",
       "      <td>-1.87</td>\n",
       "      <td>-1.08</td>\n",
       "    </tr>\n",
       "    <tr>\n",
       "      <th>SBIN.NS</th>\n",
       "      <td>195.10</td>\n",
       "      <td>192.60</td>\n",
       "      <td>-2.50</td>\n",
       "      <td>-1.28</td>\n",
       "    </tr>\n",
       "    <tr>\n",
       "      <th>BAJAJ-AUTO.NS</th>\n",
       "      <td>3104.80</td>\n",
       "      <td>3050.95</td>\n",
       "      <td>-53.85</td>\n",
       "      <td>-1.73</td>\n",
       "    </tr>\n",
       "    <tr>\n",
       "      <th>NTPC.NS</th>\n",
       "      <td>92.29</td>\n",
       "      <td>90.55</td>\n",
       "      <td>-1.74</td>\n",
       "      <td>-1.88</td>\n",
       "    </tr>\n",
       "    <tr>\n",
       "      <th>HDFCLIFE.NS</th>\n",
       "      <td>597.60</td>\n",
       "      <td>585.10</td>\n",
       "      <td>-12.50</td>\n",
       "      <td>-2.09</td>\n",
       "    </tr>\n",
       "    <tr>\n",
       "      <th>NESTLEIND.NS</th>\n",
       "      <td>16554.60</td>\n",
       "      <td>16087.05</td>\n",
       "      <td>-467.55</td>\n",
       "      <td>-2.82</td>\n",
       "    </tr>\n",
       "    <tr>\n",
       "      <th>ULTRACEMCO.NS</th>\n",
       "      <td>4168.95</td>\n",
       "      <td>4002.60</td>\n",
       "      <td>-166.35</td>\n",
       "      <td>-3.99</td>\n",
       "    </tr>\n",
       "    <tr>\n",
       "      <th>GAIL.NS</th>\n",
       "      <td>96.95</td>\n",
       "      <td>92.10</td>\n",
       "      <td>-4.85</td>\n",
       "      <td>-5.00</td>\n",
       "    </tr>\n",
       "    <tr>\n",
       "      <th>HINDUNILVR.NS</th>\n",
       "      <td>2214.35</td>\n",
       "      <td>2098.70</td>\n",
       "      <td>-115.65</td>\n",
       "      <td>-5.22</td>\n",
       "    </tr>\n",
       "    <tr>\n",
       "      <th>HDFC.NS</th>\n",
       "      <td>1820.70</td>\n",
       "      <td>1724.00</td>\n",
       "      <td>-96.70</td>\n",
       "      <td>-5.31</td>\n",
       "    </tr>\n",
       "    <tr>\n",
       "      <th>BHARTIARTL.NS</th>\n",
       "      <td>526.30</td>\n",
       "      <td>494.55</td>\n",
       "      <td>-31.75</td>\n",
       "      <td>-6.03</td>\n",
       "    </tr>\n",
       "    <tr>\n",
       "      <th>KOTAKBANK.NS</th>\n",
       "      <td>1369.35</td>\n",
       "      <td>1277.10</td>\n",
       "      <td>-92.25</td>\n",
       "      <td>-6.74</td>\n",
       "    </tr>\n",
       "    <tr>\n",
       "      <th>BAJAJFINSV.NS</th>\n",
       "      <td>6343.05</td>\n",
       "      <td>5888.45</td>\n",
       "      <td>-454.60</td>\n",
       "      <td>-7.17</td>\n",
       "    </tr>\n",
       "    <tr>\n",
       "      <th>IOC.NS</th>\n",
       "      <td>87.00</td>\n",
       "      <td>80.70</td>\n",
       "      <td>-6.30</td>\n",
       "      <td>-7.24</td>\n",
       "    </tr>\n",
       "    <tr>\n",
       "      <th>ONGC.NS</th>\n",
       "      <td>80.65</td>\n",
       "      <td>74.30</td>\n",
       "      <td>-6.35</td>\n",
       "      <td>-7.87</td>\n",
       "    </tr>\n",
       "    <tr>\n",
       "      <th>HINDALCO.NS</th>\n",
       "      <td>195.00</td>\n",
       "      <td>179.50</td>\n",
       "      <td>-15.50</td>\n",
       "      <td>-7.95</td>\n",
       "    </tr>\n",
       "    <tr>\n",
       "      <th>TATASTEEL.NS</th>\n",
       "      <td>434.50</td>\n",
       "      <td>395.50</td>\n",
       "      <td>-39.00</td>\n",
       "      <td>-8.98</td>\n",
       "    </tr>\n",
       "    <tr>\n",
       "      <th>COALINDIA.NS</th>\n",
       "      <td>136.65</td>\n",
       "      <td>123.65</td>\n",
       "      <td>-13.00</td>\n",
       "      <td>-9.51</td>\n",
       "    </tr>\n",
       "    <tr>\n",
       "      <th>ITC.NS</th>\n",
       "      <td>198.55</td>\n",
       "      <td>179.10</td>\n",
       "      <td>-19.45</td>\n",
       "      <td>-9.80</td>\n",
       "    </tr>\n",
       "    <tr>\n",
       "      <th>LT.NS</th>\n",
       "      <td>1004.55</td>\n",
       "      <td>900.70</td>\n",
       "      <td>-103.85</td>\n",
       "      <td>-10.34</td>\n",
       "    </tr>\n",
       "    <tr>\n",
       "      <th>SHREECEM.NS</th>\n",
       "      <td>21914.30</td>\n",
       "      <td>19520.95</td>\n",
       "      <td>-2393.35</td>\n",
       "      <td>-10.92</td>\n",
       "    </tr>\n",
       "  </tbody>\n",
       "</table>\n",
       "</div>"
      ],
      "text/plain": [
       "               2020-08-18  2020-09-18   Change  % Change\n",
       "MOMENTUM_ATH                                            \n",
       "ZEEL.NS            173.71      220.30    46.59     26.82\n",
       "DRREDDY.NS        4520.40     5333.35   812.95     17.98\n",
       "TATAMOTORS.NS      125.60      147.90    22.30     17.75\n",
       "INDUSINDBK.NS      521.60      613.20    91.60     17.56\n",
       "HCLTECH.NS         712.47      810.60    98.13     13.77\n",
       "TECHM.NS           713.05      804.65    91.60     12.85\n",
       "GRASIM.NS          663.14      745.00    81.86     12.34\n",
       "WIPRO.NS           282.70      316.50    33.80     11.96\n",
       "RELIANCE.NS       2118.55     2305.70   187.15      8.83\n",
       "UPL.NS             494.15      537.30    43.15      8.73\n",
       "ASIANPAINT.NS     1874.10     2028.40   154.30      8.23\n",
       "TCS.NS            2269.75     2449.90   180.15      7.94\n",
       "HEROMOTOCO.NS     2924.15     3112.65   188.50      6.45\n",
       "CIPLA.NS           764.85      806.25    41.40      5.41\n",
       "M&M.NS             622.65      654.15    31.50      5.06\n",
       "JSWSTEEL.NS        277.15      287.70    10.55      3.81\n",
       "INFY.NS            967.55     1002.15    34.60      3.58\n",
       "BPCL.NS            402.30      412.05     9.75      2.42\n",
       "BAJFINANCE.NS     3419.90     3474.80    54.90      1.61\n",
       "TITAN.NS          1145.55     1163.60    18.05      1.58\n",
       "MARUTI.NS         6893.10     6964.75    71.65      1.04\n",
       "EICHERMOT.NS      2140.47     2152.95    12.48      0.58\n",
       "ADANIPORTS.NS      357.45      357.85     0.40      0.11\n",
       "HDFCBANK.NS       1056.50     1057.30     0.80      0.08\n",
       "ICICIBANK.NS       369.55      369.55     0.00      0.00\n",
       "SUNPHARMA.NS       525.00      523.35    -1.65     -0.31\n",
       "AXISBANK.NS        445.80      443.35    -2.45     -0.55\n",
       "INFRATEL.NS        200.55      199.35    -1.20     -0.60\n",
       "BRITANNIA.NS      3830.93     3797.50   -33.43     -0.87\n",
       "POWERGRID.NS       173.77      171.90    -1.87     -1.08\n",
       "SBIN.NS            195.10      192.60    -2.50     -1.28\n",
       "BAJAJ-AUTO.NS     3104.80     3050.95   -53.85     -1.73\n",
       "NTPC.NS             92.29       90.55    -1.74     -1.88\n",
       "HDFCLIFE.NS        597.60      585.10   -12.50     -2.09\n",
       "NESTLEIND.NS     16554.60    16087.05  -467.55     -2.82\n",
       "ULTRACEMCO.NS     4168.95     4002.60  -166.35     -3.99\n",
       "GAIL.NS             96.95       92.10    -4.85     -5.00\n",
       "HINDUNILVR.NS     2214.35     2098.70  -115.65     -5.22\n",
       "HDFC.NS           1820.70     1724.00   -96.70     -5.31\n",
       "BHARTIARTL.NS      526.30      494.55   -31.75     -6.03\n",
       "KOTAKBANK.NS      1369.35     1277.10   -92.25     -6.74\n",
       "BAJAJFINSV.NS     6343.05     5888.45  -454.60     -7.17\n",
       "IOC.NS              87.00       80.70    -6.30     -7.24\n",
       "ONGC.NS             80.65       74.30    -6.35     -7.87\n",
       "HINDALCO.NS        195.00      179.50   -15.50     -7.95\n",
       "TATASTEEL.NS       434.50      395.50   -39.00     -8.98\n",
       "COALINDIA.NS       136.65      123.65   -13.00     -9.51\n",
       "ITC.NS             198.55      179.10   -19.45     -9.80\n",
       "LT.NS             1004.55      900.70  -103.85    -10.34\n",
       "SHREECEM.NS      21914.30    19520.95 -2393.35    -10.92"
      ]
     },
     "execution_count": 115,
     "metadata": {},
     "output_type": "execute_result"
    }
   ],
   "source": [
    "final_df.round(2).head(50)"
   ]
  },
  {
   "cell_type": "markdown",
   "metadata": {},
   "source": [
    "### Create an empty excel file as below filename before running below code"
   ]
  },
  {
   "cell_type": "code",
   "execution_count": 116,
   "metadata": {},
   "outputs": [],
   "source": [
    "filename = f'data/output/momentum_monthlay_output.xlsx'\n",
    "book = load_workbook(filename)\n",
    "writer = pd.ExcelWriter(filename, engine = 'openpyxl')\n",
    "writer.book = book"
   ]
  },
  {
   "cell_type": "code",
   "execution_count": 117,
   "metadata": {},
   "outputs": [],
   "source": [
    "final_df.round(2).to_excel(writer, sheet_name=eval_date)\n",
    "writer.save()\n",
    "writer.close()"
   ]
  },
  {
   "cell_type": "code",
   "execution_count": 118,
   "metadata": {},
   "outputs": [
    {
     "data": {
      "text/plain": [
       "'Done. Output file path and name --> data/output/momentum_monthly_output.xlsx'"
      ]
     },
     "execution_count": 118,
     "metadata": {},
     "output_type": "execute_result"
    }
   ],
   "source": [
    "f\"Done. Output file path and name --> {filename}\""
   ]
  },
  {
   "cell_type": "code",
   "execution_count": null,
   "metadata": {},
   "outputs": [],
   "source": []
  }
 ],
 "metadata": {
  "kernelspec": {
   "display_name": "Python 3",
   "language": "python",
   "name": "python3"
  },
  "language_info": {
   "codemirror_mode": {
    "name": "ipython",
    "version": 3
   },
   "file_extension": ".py",
   "mimetype": "text/x-python",
   "name": "python",
   "nbconvert_exporter": "python",
   "pygments_lexer": "ipython3",
   "version": "3.8.3"
  }
 },
 "nbformat": 4,
 "nbformat_minor": 4
}
