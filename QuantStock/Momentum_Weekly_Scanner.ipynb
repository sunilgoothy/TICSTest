{
 "cells": [
  {
   "cell_type": "markdown",
   "metadata": {},
   "source": [
    "# Weekly Momentun Scanner Executed Weekly"
   ]
  },
  {
   "cell_type": "code",
   "execution_count": 196,
   "metadata": {},
   "outputs": [],
   "source": [
    "import yfinance as yf\n",
    "import pandas as pd\n",
    "from openpyxl import load_workbook\n",
    "from stock_config import nifty50_stock_list, nifty500_stock_list, momentum_stock_list, nse_fno_stock_list, sample_stock_list"
   ]
  },
  {
   "cell_type": "markdown",
   "metadata": {},
   "source": [
    "## Input the evaluation date below (Every Friday date), stock universe and output filename"
   ]
  },
  {
   "cell_type": "code",
   "execution_count": 197,
   "metadata": {},
   "outputs": [],
   "source": [
    "eval_date = \"2020-11-27\""
   ]
  },
  {
   "cell_type": "code",
   "execution_count": 198,
   "metadata": {},
   "outputs": [],
   "source": [
    "stock_list = nifty500_stock_list"
   ]
  },
  {
   "cell_type": "code",
   "execution_count": 199,
   "metadata": {},
   "outputs": [
    {
     "output_type": "stream",
     "name": "stdout",
     "text": [
      "Total stocks in the list 493\n"
     ]
    }
   ],
   "source": [
    "print(f\"Total stocks in the list {len(stock_list)}\")"
   ]
  },
  {
   "cell_type": "code",
   "execution_count": 200,
   "metadata": {},
   "outputs": [],
   "source": [
    "filename = r'data/output/momentum_weekly_n500_output.xlsx'"
   ]
  },
  {
   "cell_type": "markdown",
   "metadata": {},
   "source": [
    "#### Function to check valid trading day. If open price is not returned then PREVIOUS date is checked until valid date is found.\n",
    "##### End date is valid date + 1. Used to get LTP for desired date using yfinance."
   ]
  },
  {
   "cell_type": "code",
   "execution_count": 201,
   "metadata": {},
   "outputs": [],
   "source": [
    "def get_valid_date(start_date, end_date):\n",
    "    valid = False\n",
    "    while not valid:\n",
    "        valid_check_data = yf.download('RELIANCE.NS', start = start_date, end=end_date)\n",
    "        try:\n",
    "            open_price = valid_check_data.iloc[0]['Open']\n",
    "            valid = True\n",
    "        except:\n",
    "            start_date = (pd.to_datetime(start_date) - pd.DateOffset(days=1)).strftime('%Y-%m-%d')\n",
    "            end_date = (pd.to_datetime(start_date) + pd.DateOffset(days=1)).strftime('%Y-%m-%d')\n",
    "            valid = False\n",
    "    return start_date, end_date"
   ]
  },
  {
   "cell_type": "markdown",
   "metadata": {},
   "source": [
    "#### Get valid start and end dates for this week"
   ]
  },
  {
   "cell_type": "code",
   "execution_count": 202,
   "metadata": {},
   "outputs": [
    {
     "output_type": "stream",
     "name": "stdout",
     "text": [
      "[*********************100%***********************]  1 of 1 completed\n"
     ]
    }
   ],
   "source": [
    "start_date=eval_date\n",
    "end_date = (pd.to_datetime(start_date) + pd.DateOffset(days=1)).strftime('%Y-%m-%d')\n",
    "start_date, end_date = get_valid_date(start_date, end_date)"
   ]
  },
  {
   "cell_type": "code",
   "execution_count": 203,
   "metadata": {},
   "outputs": [
    {
     "output_type": "execute_result",
     "data": {
      "text/plain": [
       "'2020-11-27'"
      ]
     },
     "metadata": {},
     "execution_count": 203
    }
   ],
   "source": [
    "start_date"
   ]
  },
  {
   "cell_type": "code",
   "execution_count": 204,
   "metadata": {},
   "outputs": [
    {
     "output_type": "execute_result",
     "data": {
      "text/plain": [
       "'2020-11-28'"
      ]
     },
     "metadata": {},
     "execution_count": 204
    }
   ],
   "source": [
    "end_date"
   ]
  },
  {
   "cell_type": "markdown",
   "metadata": {},
   "source": [
    "### Fetch this week data"
   ]
  },
  {
   "cell_type": "markdown",
   "metadata": {},
   "source": [
    "#### [Below data fetch will throw error if there is no trading day or if the scrip doesnt have ltp (not listed) between start and end dates]"
   ]
  },
  {
   "cell_type": "code",
   "execution_count": 205,
   "metadata": {},
   "outputs": [
    {
     "output_type": "stream",
     "name": "stdout",
     "text": [
      "[*********************100%***********************]  493 of 493 completed\n",
      "\n",
      "1 Failed download:\n",
      "- HEXAWARE.NS: No data found for this date range, symbol may be delisted\n"
     ]
    }
   ],
   "source": [
    "data = yf.download(stock_list, start = start_date, end=end_date)"
   ]
  },
  {
   "cell_type": "code",
   "execution_count": 206,
   "metadata": {},
   "outputs": [],
   "source": [
    "this_week_close = pd.DataFrame(data.iloc[0]['Adj Close'])"
   ]
  },
  {
   "cell_type": "code",
   "execution_count": 207,
   "metadata": {},
   "outputs": [],
   "source": [
    "#this_week_close"
   ]
  },
  {
   "cell_type": "markdown",
   "metadata": {},
   "source": [
    "#### Calculate dates for last week"
   ]
  },
  {
   "cell_type": "code",
   "execution_count": 208,
   "metadata": {},
   "outputs": [],
   "source": [
    "start_date=(pd.to_datetime(eval_date) - pd.DateOffset(days=7)).strftime('%Y-%m-%d')\n",
    "end_date = (pd.to_datetime(start_date) + pd.DateOffset(days=1)).strftime('%Y-%m-%d')"
   ]
  },
  {
   "cell_type": "markdown",
   "metadata": {},
   "source": [
    "#### Get valid start and end dates for last week"
   ]
  },
  {
   "cell_type": "code",
   "execution_count": 209,
   "metadata": {},
   "outputs": [
    {
     "output_type": "stream",
     "name": "stdout",
     "text": [
      "[*********************100%***********************]  1 of 1 completed\n"
     ]
    }
   ],
   "source": [
    "start_date, end_date = get_valid_date(start_date, end_date)"
   ]
  },
  {
   "cell_type": "code",
   "execution_count": 210,
   "metadata": {},
   "outputs": [
    {
     "output_type": "execute_result",
     "data": {
      "text/plain": [
       "'2020-11-20'"
      ]
     },
     "metadata": {},
     "execution_count": 210
    }
   ],
   "source": [
    "start_date"
   ]
  },
  {
   "cell_type": "code",
   "execution_count": 211,
   "metadata": {},
   "outputs": [
    {
     "output_type": "execute_result",
     "data": {
      "text/plain": [
       "'2020-11-21'"
      ]
     },
     "metadata": {},
     "execution_count": 211
    }
   ],
   "source": [
    "end_date"
   ]
  },
  {
   "cell_type": "markdown",
   "metadata": {},
   "source": [
    "### Fetch last week data"
   ]
  },
  {
   "cell_type": "markdown",
   "metadata": {},
   "source": [
    "#### [Below data fetch will throw error if there is no trading day between start and end dates]"
   ]
  },
  {
   "cell_type": "code",
   "execution_count": 212,
   "metadata": {},
   "outputs": [
    {
     "output_type": "stream",
     "name": "stdout",
     "text": [
      "[*********************100%***********************]  493 of 493 completed\n",
      "\n",
      "1 Failed download:\n",
      "- HEXAWARE.NS: No data found for this date range, symbol may be delisted\n"
     ]
    }
   ],
   "source": [
    "data = yf.download(stock_list, start = start_date, end=end_date)"
   ]
  },
  {
   "cell_type": "code",
   "execution_count": 213,
   "metadata": {},
   "outputs": [],
   "source": [
    "last_week_close = pd.DataFrame(data.iloc[0]['Adj Close'])"
   ]
  },
  {
   "cell_type": "code",
   "execution_count": 214,
   "metadata": {},
   "outputs": [],
   "source": [
    "#last_week_close"
   ]
  },
  {
   "cell_type": "code",
   "execution_count": 215,
   "metadata": {},
   "outputs": [],
   "source": [
    "final_df = last_week_close.join(this_week_close)"
   ]
  },
  {
   "cell_type": "code",
   "execution_count": 216,
   "metadata": {
    "scrolled": false
   },
   "outputs": [
    {
     "output_type": "execute_result",
     "data": {
      "text/plain": [
       "                 2020-11-20    2020-11-27\n",
       "3MINDIA.NS     21784.800781  21866.900391\n",
       "AARTIIND.NS     1122.800049   1155.300049\n",
       "AAVAS.NS        1493.300049   1607.699951\n",
       "ABB.NS          1116.050049   1073.750000\n",
       "ABBOTINDIA.NS  15344.500000  15399.000000\n",
       "...                     ...           ...\n",
       "WIPRO.NS         346.299988    350.500000\n",
       "WOCKPHARMA.NS    393.299988    452.850006\n",
       "ZEEL.NS          185.500000    192.750000\n",
       "ZENSARTECH.NS    208.750000    227.699997\n",
       "ZYDUSWELL.NS    1824.949951   1864.150024\n",
       "\n",
       "[493 rows x 2 columns]"
      ],
      "text/html": "<div>\n<style scoped>\n    .dataframe tbody tr th:only-of-type {\n        vertical-align: middle;\n    }\n\n    .dataframe tbody tr th {\n        vertical-align: top;\n    }\n\n    .dataframe thead th {\n        text-align: right;\n    }\n</style>\n<table border=\"1\" class=\"dataframe\">\n  <thead>\n    <tr style=\"text-align: right;\">\n      <th></th>\n      <th>2020-11-20</th>\n      <th>2020-11-27</th>\n    </tr>\n  </thead>\n  <tbody>\n    <tr>\n      <th>3MINDIA.NS</th>\n      <td>21784.800781</td>\n      <td>21866.900391</td>\n    </tr>\n    <tr>\n      <th>AARTIIND.NS</th>\n      <td>1122.800049</td>\n      <td>1155.300049</td>\n    </tr>\n    <tr>\n      <th>AAVAS.NS</th>\n      <td>1493.300049</td>\n      <td>1607.699951</td>\n    </tr>\n    <tr>\n      <th>ABB.NS</th>\n      <td>1116.050049</td>\n      <td>1073.750000</td>\n    </tr>\n    <tr>\n      <th>ABBOTINDIA.NS</th>\n      <td>15344.500000</td>\n      <td>15399.000000</td>\n    </tr>\n    <tr>\n      <th>...</th>\n      <td>...</td>\n      <td>...</td>\n    </tr>\n    <tr>\n      <th>WIPRO.NS</th>\n      <td>346.299988</td>\n      <td>350.500000</td>\n    </tr>\n    <tr>\n      <th>WOCKPHARMA.NS</th>\n      <td>393.299988</td>\n      <td>452.850006</td>\n    </tr>\n    <tr>\n      <th>ZEEL.NS</th>\n      <td>185.500000</td>\n      <td>192.750000</td>\n    </tr>\n    <tr>\n      <th>ZENSARTECH.NS</th>\n      <td>208.750000</td>\n      <td>227.699997</td>\n    </tr>\n    <tr>\n      <th>ZYDUSWELL.NS</th>\n      <td>1824.949951</td>\n      <td>1864.150024</td>\n    </tr>\n  </tbody>\n</table>\n<p>493 rows × 2 columns</p>\n</div>"
     },
     "metadata": {},
     "execution_count": 216
    }
   ],
   "source": [
    "final_df"
   ]
  },
  {
   "cell_type": "markdown",
   "metadata": {},
   "source": [
    "#### Calculate dates for Next Week (For Forward Testing)"
   ]
  },
  {
   "cell_type": "code",
   "execution_count": 217,
   "metadata": {},
   "outputs": [],
   "source": [
    "start_date=(pd.to_datetime(eval_date) + pd.DateOffset(days=7)).strftime('%Y-%m-%d')\n",
    "end_date = (pd.to_datetime(start_date) + pd.DateOffset(days=1)).strftime('%Y-%m-%d')"
   ]
  },
  {
   "cell_type": "markdown",
   "metadata": {},
   "source": [
    "#### Get valid start and end dates for next week"
   ]
  },
  {
   "cell_type": "code",
   "execution_count": 218,
   "metadata": {},
   "outputs": [
    {
     "output_type": "stream",
     "name": "stdout",
     "text": [
      "[*********************100%***********************]  1 of 1 completed\n"
     ]
    }
   ],
   "source": [
    "start_date, end_date = get_valid_date(start_date, end_date)"
   ]
  },
  {
   "cell_type": "code",
   "execution_count": 219,
   "metadata": {},
   "outputs": [
    {
     "output_type": "execute_result",
     "data": {
      "text/plain": [
       "'2020-12-04'"
      ]
     },
     "metadata": {},
     "execution_count": 219
    }
   ],
   "source": [
    "start_date"
   ]
  },
  {
   "cell_type": "code",
   "execution_count": 220,
   "metadata": {},
   "outputs": [
    {
     "output_type": "execute_result",
     "data": {
      "text/plain": [
       "'2020-12-05'"
      ]
     },
     "metadata": {},
     "execution_count": 220
    }
   ],
   "source": [
    "end_date"
   ]
  },
  {
   "cell_type": "markdown",
   "metadata": {},
   "source": [
    "### Fetch next week data"
   ]
  },
  {
   "cell_type": "markdown",
   "metadata": {},
   "source": [
    "#### [Below data fetch will throw error if there is no trading day between start and end dates]"
   ]
  },
  {
   "cell_type": "code",
   "execution_count": 221,
   "metadata": {},
   "outputs": [
    {
     "output_type": "stream",
     "name": "stdout",
     "text": [
      "[*********************100%***********************]  493 of 493 completed\n",
      "\n",
      "1 Failed download:\n",
      "- HEXAWARE.NS: No data found for this date range, symbol may be delisted\n"
     ]
    }
   ],
   "source": [
    "data = yf.download(stock_list, start = start_date, end=end_date)"
   ]
  },
  {
   "cell_type": "code",
   "execution_count": 222,
   "metadata": {},
   "outputs": [],
   "source": [
    "next_week_close = pd.DataFrame(data.iloc[0]['Adj Close'])"
   ]
  },
  {
   "cell_type": "code",
   "execution_count": 223,
   "metadata": {},
   "outputs": [
    {
     "output_type": "execute_result",
     "data": {
      "text/plain": [
       "                 2020-12-04\n",
       "3MINDIA.NS     22422.900391\n",
       "AARTIIND.NS     1205.949951\n",
       "AAVAS.NS        1659.699951\n",
       "ABB.NS          1154.449951\n",
       "ABBOTINDIA.NS  15247.000000\n",
       "...                     ...\n",
       "WIPRO.NS         360.799988\n",
       "WOCKPHARMA.NS    442.100006\n",
       "ZEEL.NS          206.850006\n",
       "ZENSARTECH.NS    218.850006\n",
       "ZYDUSWELL.NS    1827.250000\n",
       "\n",
       "[493 rows x 1 columns]"
      ],
      "text/html": "<div>\n<style scoped>\n    .dataframe tbody tr th:only-of-type {\n        vertical-align: middle;\n    }\n\n    .dataframe tbody tr th {\n        vertical-align: top;\n    }\n\n    .dataframe thead th {\n        text-align: right;\n    }\n</style>\n<table border=\"1\" class=\"dataframe\">\n  <thead>\n    <tr style=\"text-align: right;\">\n      <th></th>\n      <th>2020-12-04</th>\n    </tr>\n  </thead>\n  <tbody>\n    <tr>\n      <th>3MINDIA.NS</th>\n      <td>22422.900391</td>\n    </tr>\n    <tr>\n      <th>AARTIIND.NS</th>\n      <td>1205.949951</td>\n    </tr>\n    <tr>\n      <th>AAVAS.NS</th>\n      <td>1659.699951</td>\n    </tr>\n    <tr>\n      <th>ABB.NS</th>\n      <td>1154.449951</td>\n    </tr>\n    <tr>\n      <th>ABBOTINDIA.NS</th>\n      <td>15247.000000</td>\n    </tr>\n    <tr>\n      <th>...</th>\n      <td>...</td>\n    </tr>\n    <tr>\n      <th>WIPRO.NS</th>\n      <td>360.799988</td>\n    </tr>\n    <tr>\n      <th>WOCKPHARMA.NS</th>\n      <td>442.100006</td>\n    </tr>\n    <tr>\n      <th>ZEEL.NS</th>\n      <td>206.850006</td>\n    </tr>\n    <tr>\n      <th>ZENSARTECH.NS</th>\n      <td>218.850006</td>\n    </tr>\n    <tr>\n      <th>ZYDUSWELL.NS</th>\n      <td>1827.250000</td>\n    </tr>\n  </tbody>\n</table>\n<p>493 rows × 1 columns</p>\n</div>"
     },
     "metadata": {},
     "execution_count": 223
    }
   ],
   "source": [
    "next_week_close"
   ]
  },
  {
   "cell_type": "code",
   "execution_count": 224,
   "metadata": {},
   "outputs": [],
   "source": [
    "final_df = final_df.join(next_week_close)"
   ]
  },
  {
   "cell_type": "code",
   "execution_count": 225,
   "metadata": {
    "scrolled": true
   },
   "outputs": [
    {
     "output_type": "execute_result",
     "data": {
      "text/plain": [
       "                 2020-11-20    2020-11-27    2020-12-04\n",
       "3MINDIA.NS     21784.800781  21866.900391  22422.900391\n",
       "AARTIIND.NS     1122.800049   1155.300049   1205.949951\n",
       "AAVAS.NS        1493.300049   1607.699951   1659.699951\n",
       "ABB.NS          1116.050049   1073.750000   1154.449951\n",
       "ABBOTINDIA.NS  15344.500000  15399.000000  15247.000000\n",
       "...                     ...           ...           ...\n",
       "WIPRO.NS         346.299988    350.500000    360.799988\n",
       "WOCKPHARMA.NS    393.299988    452.850006    442.100006\n",
       "ZEEL.NS          185.500000    192.750000    206.850006\n",
       "ZENSARTECH.NS    208.750000    227.699997    218.850006\n",
       "ZYDUSWELL.NS    1824.949951   1864.150024   1827.250000\n",
       "\n",
       "[493 rows x 3 columns]"
      ],
      "text/html": "<div>\n<style scoped>\n    .dataframe tbody tr th:only-of-type {\n        vertical-align: middle;\n    }\n\n    .dataframe tbody tr th {\n        vertical-align: top;\n    }\n\n    .dataframe thead th {\n        text-align: right;\n    }\n</style>\n<table border=\"1\" class=\"dataframe\">\n  <thead>\n    <tr style=\"text-align: right;\">\n      <th></th>\n      <th>2020-11-20</th>\n      <th>2020-11-27</th>\n      <th>2020-12-04</th>\n    </tr>\n  </thead>\n  <tbody>\n    <tr>\n      <th>3MINDIA.NS</th>\n      <td>21784.800781</td>\n      <td>21866.900391</td>\n      <td>22422.900391</td>\n    </tr>\n    <tr>\n      <th>AARTIIND.NS</th>\n      <td>1122.800049</td>\n      <td>1155.300049</td>\n      <td>1205.949951</td>\n    </tr>\n    <tr>\n      <th>AAVAS.NS</th>\n      <td>1493.300049</td>\n      <td>1607.699951</td>\n      <td>1659.699951</td>\n    </tr>\n    <tr>\n      <th>ABB.NS</th>\n      <td>1116.050049</td>\n      <td>1073.750000</td>\n      <td>1154.449951</td>\n    </tr>\n    <tr>\n      <th>ABBOTINDIA.NS</th>\n      <td>15344.500000</td>\n      <td>15399.000000</td>\n      <td>15247.000000</td>\n    </tr>\n    <tr>\n      <th>...</th>\n      <td>...</td>\n      <td>...</td>\n      <td>...</td>\n    </tr>\n    <tr>\n      <th>WIPRO.NS</th>\n      <td>346.299988</td>\n      <td>350.500000</td>\n      <td>360.799988</td>\n    </tr>\n    <tr>\n      <th>WOCKPHARMA.NS</th>\n      <td>393.299988</td>\n      <td>452.850006</td>\n      <td>442.100006</td>\n    </tr>\n    <tr>\n      <th>ZEEL.NS</th>\n      <td>185.500000</td>\n      <td>192.750000</td>\n      <td>206.850006</td>\n    </tr>\n    <tr>\n      <th>ZENSARTECH.NS</th>\n      <td>208.750000</td>\n      <td>227.699997</td>\n      <td>218.850006</td>\n    </tr>\n    <tr>\n      <th>ZYDUSWELL.NS</th>\n      <td>1824.949951</td>\n      <td>1864.150024</td>\n      <td>1827.250000</td>\n    </tr>\n  </tbody>\n</table>\n<p>493 rows × 3 columns</p>\n</div>"
     },
     "metadata": {},
     "execution_count": 225
    }
   ],
   "source": [
    "final_df"
   ]
  },
  {
   "cell_type": "code",
   "execution_count": 226,
   "metadata": {},
   "outputs": [],
   "source": [
    "final_df.rename(columns =lambda t: t.strftime('%Y-%m-%d'), inplace=True)"
   ]
  },
  {
   "cell_type": "markdown",
   "metadata": {},
   "source": [
    "## Calculate Momentum"
   ]
  },
  {
   "cell_type": "code",
   "execution_count": 227,
   "metadata": {
    "scrolled": true
   },
   "outputs": [],
   "source": [
    "last_week_date = final_df.columns[0]\n",
    "this_week_date = final_df.columns[1]\n",
    "next_week_date = final_df.columns[2]\n",
    "final_df['Change(C-B)'] = final_df[this_week_date] - final_df[last_week_date]\n",
    "final_df['% Change'] = (final_df['Change(C-B)'] / final_df[last_week_date])*100\n",
    "final_df['Gain(D-B)'] = final_df[next_week_date] - final_df[this_week_date]\n",
    "final_df['% Gain'] = (final_df['Gain(D-B)'] / final_df[this_week_date])*100"
   ]
  },
  {
   "cell_type": "code",
   "execution_count": 228,
   "metadata": {},
   "outputs": [
    {
     "output_type": "execute_result",
     "data": {
      "text/plain": [
       "                 2020-11-20    2020-11-27    2020-12-04  Change(C-B)  \\\n",
       "3MINDIA.NS     21784.800781  21866.900391  22422.900391    82.099609   \n",
       "AARTIIND.NS     1122.800049   1155.300049   1205.949951    32.500000   \n",
       "AAVAS.NS        1493.300049   1607.699951   1659.699951   114.399902   \n",
       "ABB.NS          1116.050049   1073.750000   1154.449951   -42.300049   \n",
       "ABBOTINDIA.NS  15344.500000  15399.000000  15247.000000    54.500000   \n",
       "...                     ...           ...           ...          ...   \n",
       "WIPRO.NS         346.299988    350.500000    360.799988     4.200012   \n",
       "WOCKPHARMA.NS    393.299988    452.850006    442.100006    59.550018   \n",
       "ZEEL.NS          185.500000    192.750000    206.850006     7.250000   \n",
       "ZENSARTECH.NS    208.750000    227.699997    218.850006    18.949997   \n",
       "ZYDUSWELL.NS    1824.949951   1864.150024   1827.250000    39.200073   \n",
       "\n",
       "                % Change   Gain(D-B)    % Gain  \n",
       "3MINDIA.NS      0.376866  556.000000  2.542656  \n",
       "AARTIIND.NS     2.894549   50.649902  4.384134  \n",
       "AAVAS.NS        7.660878   52.000000  3.234434  \n",
       "ABB.NS         -3.790157   80.699951  7.515711  \n",
       "ABBOTINDIA.NS   0.355176 -152.000000 -0.987077  \n",
       "...                  ...         ...       ...  \n",
       "WIPRO.NS        1.212825   10.299988  2.938656  \n",
       "WOCKPHARMA.NS  15.141119  -10.750000 -2.373854  \n",
       "ZEEL.NS         3.908356   14.100006  7.315178  \n",
       "ZENSARTECH.NS   9.077843   -8.849991 -3.886689  \n",
       "ZYDUSWELL.NS    2.148008  -36.900024 -1.979456  \n",
       "\n",
       "[493 rows x 7 columns]"
      ],
      "text/html": "<div>\n<style scoped>\n    .dataframe tbody tr th:only-of-type {\n        vertical-align: middle;\n    }\n\n    .dataframe tbody tr th {\n        vertical-align: top;\n    }\n\n    .dataframe thead th {\n        text-align: right;\n    }\n</style>\n<table border=\"1\" class=\"dataframe\">\n  <thead>\n    <tr style=\"text-align: right;\">\n      <th></th>\n      <th>2020-11-20</th>\n      <th>2020-11-27</th>\n      <th>2020-12-04</th>\n      <th>Change(C-B)</th>\n      <th>% Change</th>\n      <th>Gain(D-B)</th>\n      <th>% Gain</th>\n    </tr>\n  </thead>\n  <tbody>\n    <tr>\n      <th>3MINDIA.NS</th>\n      <td>21784.800781</td>\n      <td>21866.900391</td>\n      <td>22422.900391</td>\n      <td>82.099609</td>\n      <td>0.376866</td>\n      <td>556.000000</td>\n      <td>2.542656</td>\n    </tr>\n    <tr>\n      <th>AARTIIND.NS</th>\n      <td>1122.800049</td>\n      <td>1155.300049</td>\n      <td>1205.949951</td>\n      <td>32.500000</td>\n      <td>2.894549</td>\n      <td>50.649902</td>\n      <td>4.384134</td>\n    </tr>\n    <tr>\n      <th>AAVAS.NS</th>\n      <td>1493.300049</td>\n      <td>1607.699951</td>\n      <td>1659.699951</td>\n      <td>114.399902</td>\n      <td>7.660878</td>\n      <td>52.000000</td>\n      <td>3.234434</td>\n    </tr>\n    <tr>\n      <th>ABB.NS</th>\n      <td>1116.050049</td>\n      <td>1073.750000</td>\n      <td>1154.449951</td>\n      <td>-42.300049</td>\n      <td>-3.790157</td>\n      <td>80.699951</td>\n      <td>7.515711</td>\n    </tr>\n    <tr>\n      <th>ABBOTINDIA.NS</th>\n      <td>15344.500000</td>\n      <td>15399.000000</td>\n      <td>15247.000000</td>\n      <td>54.500000</td>\n      <td>0.355176</td>\n      <td>-152.000000</td>\n      <td>-0.987077</td>\n    </tr>\n    <tr>\n      <th>...</th>\n      <td>...</td>\n      <td>...</td>\n      <td>...</td>\n      <td>...</td>\n      <td>...</td>\n      <td>...</td>\n      <td>...</td>\n    </tr>\n    <tr>\n      <th>WIPRO.NS</th>\n      <td>346.299988</td>\n      <td>350.500000</td>\n      <td>360.799988</td>\n      <td>4.200012</td>\n      <td>1.212825</td>\n      <td>10.299988</td>\n      <td>2.938656</td>\n    </tr>\n    <tr>\n      <th>WOCKPHARMA.NS</th>\n      <td>393.299988</td>\n      <td>452.850006</td>\n      <td>442.100006</td>\n      <td>59.550018</td>\n      <td>15.141119</td>\n      <td>-10.750000</td>\n      <td>-2.373854</td>\n    </tr>\n    <tr>\n      <th>ZEEL.NS</th>\n      <td>185.500000</td>\n      <td>192.750000</td>\n      <td>206.850006</td>\n      <td>7.250000</td>\n      <td>3.908356</td>\n      <td>14.100006</td>\n      <td>7.315178</td>\n    </tr>\n    <tr>\n      <th>ZENSARTECH.NS</th>\n      <td>208.750000</td>\n      <td>227.699997</td>\n      <td>218.850006</td>\n      <td>18.949997</td>\n      <td>9.077843</td>\n      <td>-8.849991</td>\n      <td>-3.886689</td>\n    </tr>\n    <tr>\n      <th>ZYDUSWELL.NS</th>\n      <td>1824.949951</td>\n      <td>1864.150024</td>\n      <td>1827.250000</td>\n      <td>39.200073</td>\n      <td>2.148008</td>\n      <td>-36.900024</td>\n      <td>-1.979456</td>\n    </tr>\n  </tbody>\n</table>\n<p>493 rows × 7 columns</p>\n</div>"
     },
     "metadata": {},
     "execution_count": 228
    }
   ],
   "source": [
    "final_df"
   ]
  },
  {
   "cell_type": "markdown",
   "metadata": {},
   "source": [
    "## Final Output"
   ]
  },
  {
   "cell_type": "code",
   "execution_count": 229,
   "metadata": {},
   "outputs": [],
   "source": [
    "final_df.sort_values(by=['% Change'], ascending=False, inplace=True)"
   ]
  },
  {
   "cell_type": "code",
   "execution_count": 230,
   "metadata": {},
   "outputs": [],
   "source": [
    "final_df.rename_axis('MOMENTUM_ATH', inplace=True)\n",
    "final_df.rename_axis('', axis='columns', inplace=True)"
   ]
  },
  {
   "cell_type": "code",
   "execution_count": 231,
   "metadata": {},
   "outputs": [
    {
     "output_type": "execute_result",
     "data": {
      "text/plain": [
       "               2020-11-20  2020-11-27  2020-12-04  Change(C-B)  % Change  \\\n",
       "MOMENTUM_ATH                                                               \n",
       "EQUITAS.NS          52.85       70.30       66.65        17.45     33.02   \n",
       "IBVENTURES.NS      212.90      281.75      288.30        68.85     32.34   \n",
       "VAKRANGEE.NS        30.00       38.40       41.50         8.40     28.00   \n",
       "IDFC.NS             33.50       41.80       39.85         8.30     24.78   \n",
       "L&TFH.NS            71.35       86.85       88.30        15.50     21.72   \n",
       "SIS.NS             375.70      446.65      452.45        70.95     18.88   \n",
       "SAIL.NS             41.10       48.45       54.90         7.35     17.88   \n",
       "ALKYLAMINE.NS     3424.45     4015.00     3965.60       590.55     17.25   \n",
       "SUNTECK.NS         270.05      314.95      328.35        44.90     16.63   \n",
       "J&KBANK.NS          20.50       23.90       23.60         3.40     16.59   \n",
       "CARERATING.NS      432.75      501.80      557.50        69.05     15.96   \n",
       "DCBBANK.NS          93.40      107.65      116.35        14.25     15.26   \n",
       "AEGISCHEM.NS       222.15      255.85      252.40        33.70     15.17   \n",
       "WOCKPHARMA.NS      393.30      452.85      442.10        59.55     15.14   \n",
       "CUMMINSIND.NS      510.40      586.00      567.40        75.60     14.81   \n",
       "DIXON.NS         10354.00    11879.80    11382.20      1525.80     14.74   \n",
       "FRETAIL.NS          72.05       82.65       76.90        10.60     14.71   \n",
       "CHOLAFIN.NS        338.95      388.70      369.75        49.75     14.68   \n",
       "SRTRANSFIN.NS      933.90     1070.20     1003.10       136.30     14.59   \n",
       "MGL.NS             931.45     1063.90     1037.55       132.45     14.22   \n",
       "EDELWEISS.NS        61.35       70.00       81.90         8.65     14.10   \n",
       "UJJIVAN.NS         248.00      282.95      277.30        34.95     14.09   \n",
       "IOB.NS               9.60       10.95       11.00         1.35     14.06   \n",
       "WESTLIFE.NS        382.50      435.55      429.50        53.05     13.87   \n",
       "KEI.NS             373.45      424.90      430.15        51.45     13.78   \n",
       "PGHL.NS           6038.10     6868.10     6824.75       830.00     13.75   \n",
       "SFL.NS            1348.35     1531.85     1652.10       183.50     13.61   \n",
       "GREAVESCOT.NS       73.90       83.90       83.65        10.00     13.53   \n",
       "RVNL.NS             18.36       20.84       22.94         2.48     13.51   \n",
       "NBVENTURES.NS       47.50       53.90       57.85         6.40     13.47   \n",
       "KOLTEPATIL.NS      186.80      211.75      212.20        24.95     13.36   \n",
       "VBL.NS             769.80      871.40      835.40       101.60     13.20   \n",
       "BHEL.NS             29.20       32.85       34.25         3.65     12.50   \n",
       "PNB.NS              29.80       33.45       35.65         3.65     12.25   \n",
       "HINDCOPPER.NS       36.95       41.45       44.55         4.50     12.18   \n",
       "DALBHARAT.NS       982.80     1101.70     1123.55       118.90     12.10   \n",
       "GICRE.NS           125.75      140.95      139.45        15.20     12.09   \n",
       "EIDPARRY.NS        309.45      346.80      337.55        37.35     12.07   \n",
       "LAURUSLABS.NS      282.85      316.85      331.65        34.00     12.02   \n",
       "IGL.NS             443.20      496.40      478.45        53.20     12.00   \n",
       "CHOLAHLDNG.NS      484.35      541.20      532.20        56.85     11.74   \n",
       "TATAPOWER.NS        58.10       64.90       71.65         6.80     11.70   \n",
       "VMART.NS          2018.10     2252.30     2177.70       234.20     11.60   \n",
       "CANBK.NS            93.30      103.80      111.20        10.50     11.25   \n",
       "MANAPPURAM.NS      161.70      179.85      173.85        18.15     11.22   \n",
       "EMAMILTD.NS        396.20      440.35      418.10        44.15     11.14   \n",
       "SOUTHBANK.NS         6.80        7.55        8.95         0.75     11.03   \n",
       "AMBER.NS          2165.25     2399.60     2326.80       234.35     10.82   \n",
       "MINDACORP.NS        73.60       81.45       84.45         7.85     10.67   \n",
       "BAJAJCON.NS        184.55      204.20      199.55        19.65     10.65   \n",
       "\n",
       "               Gain(D-B)  % Gain  \n",
       "MOMENTUM_ATH                      \n",
       "EQUITAS.NS         -3.65   -5.19  \n",
       "IBVENTURES.NS       6.55    2.32  \n",
       "VAKRANGEE.NS        3.10    8.07  \n",
       "IDFC.NS            -1.95   -4.67  \n",
       "L&TFH.NS            1.45    1.67  \n",
       "SIS.NS              5.80    1.30  \n",
       "SAIL.NS             6.45   13.31  \n",
       "ALKYLAMINE.NS     -49.40   -1.23  \n",
       "SUNTECK.NS         13.40    4.25  \n",
       "J&KBANK.NS         -0.30   -1.26  \n",
       "CARERATING.NS      55.70   11.10  \n",
       "DCBBANK.NS          8.70    8.08  \n",
       "AEGISCHEM.NS       -3.45   -1.35  \n",
       "WOCKPHARMA.NS     -10.75   -2.37  \n",
       "CUMMINSIND.NS     -18.60   -3.17  \n",
       "DIXON.NS         -497.60   -4.19  \n",
       "FRETAIL.NS         -5.75   -6.96  \n",
       "CHOLAFIN.NS       -18.95   -4.88  \n",
       "SRTRANSFIN.NS     -67.10   -6.27  \n",
       "MGL.NS            -26.35   -2.48  \n",
       "EDELWEISS.NS       11.90   17.00  \n",
       "UJJIVAN.NS         -5.65   -2.00  \n",
       "IOB.NS              0.05    0.46  \n",
       "WESTLIFE.NS        -6.05   -1.39  \n",
       "KEI.NS              5.25    1.24  \n",
       "PGHL.NS           -43.35   -0.63  \n",
       "SFL.NS            120.25    7.85  \n",
       "GREAVESCOT.NS      -0.25   -0.30  \n",
       "RVNL.NS             2.10   10.07  \n",
       "NBVENTURES.NS       3.95    7.33  \n",
       "KOLTEPATIL.NS       0.45    0.21  \n",
       "VBL.NS            -36.00   -4.13  \n",
       "BHEL.NS             1.40    4.26  \n",
       "PNB.NS              2.20    6.58  \n",
       "HINDCOPPER.NS       3.10    7.48  \n",
       "DALBHARAT.NS       21.85    1.98  \n",
       "GICRE.NS           -1.50   -1.06  \n",
       "EIDPARRY.NS        -9.25   -2.67  \n",
       "LAURUSLABS.NS      14.80    4.67  \n",
       "IGL.NS            -17.95   -3.62  \n",
       "CHOLAHLDNG.NS      -9.00   -1.66  \n",
       "TATAPOWER.NS        6.75   10.40  \n",
       "VMART.NS          -74.60   -3.31  \n",
       "CANBK.NS            7.40    7.13  \n",
       "MANAPPURAM.NS      -6.00   -3.34  \n",
       "EMAMILTD.NS       -22.25   -5.05  \n",
       "SOUTHBANK.NS        1.40   18.54  \n",
       "AMBER.NS          -72.80   -3.03  \n",
       "MINDACORP.NS        3.00    3.68  \n",
       "BAJAJCON.NS        -4.65   -2.28  "
      ],
      "text/html": "<div>\n<style scoped>\n    .dataframe tbody tr th:only-of-type {\n        vertical-align: middle;\n    }\n\n    .dataframe tbody tr th {\n        vertical-align: top;\n    }\n\n    .dataframe thead th {\n        text-align: right;\n    }\n</style>\n<table border=\"1\" class=\"dataframe\">\n  <thead>\n    <tr style=\"text-align: right;\">\n      <th></th>\n      <th>2020-11-20</th>\n      <th>2020-11-27</th>\n      <th>2020-12-04</th>\n      <th>Change(C-B)</th>\n      <th>% Change</th>\n      <th>Gain(D-B)</th>\n      <th>% Gain</th>\n    </tr>\n    <tr>\n      <th>MOMENTUM_ATH</th>\n      <th></th>\n      <th></th>\n      <th></th>\n      <th></th>\n      <th></th>\n      <th></th>\n      <th></th>\n    </tr>\n  </thead>\n  <tbody>\n    <tr>\n      <th>EQUITAS.NS</th>\n      <td>52.85</td>\n      <td>70.30</td>\n      <td>66.65</td>\n      <td>17.45</td>\n      <td>33.02</td>\n      <td>-3.65</td>\n      <td>-5.19</td>\n    </tr>\n    <tr>\n      <th>IBVENTURES.NS</th>\n      <td>212.90</td>\n      <td>281.75</td>\n      <td>288.30</td>\n      <td>68.85</td>\n      <td>32.34</td>\n      <td>6.55</td>\n      <td>2.32</td>\n    </tr>\n    <tr>\n      <th>VAKRANGEE.NS</th>\n      <td>30.00</td>\n      <td>38.40</td>\n      <td>41.50</td>\n      <td>8.40</td>\n      <td>28.00</td>\n      <td>3.10</td>\n      <td>8.07</td>\n    </tr>\n    <tr>\n      <th>IDFC.NS</th>\n      <td>33.50</td>\n      <td>41.80</td>\n      <td>39.85</td>\n      <td>8.30</td>\n      <td>24.78</td>\n      <td>-1.95</td>\n      <td>-4.67</td>\n    </tr>\n    <tr>\n      <th>L&amp;TFH.NS</th>\n      <td>71.35</td>\n      <td>86.85</td>\n      <td>88.30</td>\n      <td>15.50</td>\n      <td>21.72</td>\n      <td>1.45</td>\n      <td>1.67</td>\n    </tr>\n    <tr>\n      <th>SIS.NS</th>\n      <td>375.70</td>\n      <td>446.65</td>\n      <td>452.45</td>\n      <td>70.95</td>\n      <td>18.88</td>\n      <td>5.80</td>\n      <td>1.30</td>\n    </tr>\n    <tr>\n      <th>SAIL.NS</th>\n      <td>41.10</td>\n      <td>48.45</td>\n      <td>54.90</td>\n      <td>7.35</td>\n      <td>17.88</td>\n      <td>6.45</td>\n      <td>13.31</td>\n    </tr>\n    <tr>\n      <th>ALKYLAMINE.NS</th>\n      <td>3424.45</td>\n      <td>4015.00</td>\n      <td>3965.60</td>\n      <td>590.55</td>\n      <td>17.25</td>\n      <td>-49.40</td>\n      <td>-1.23</td>\n    </tr>\n    <tr>\n      <th>SUNTECK.NS</th>\n      <td>270.05</td>\n      <td>314.95</td>\n      <td>328.35</td>\n      <td>44.90</td>\n      <td>16.63</td>\n      <td>13.40</td>\n      <td>4.25</td>\n    </tr>\n    <tr>\n      <th>J&amp;KBANK.NS</th>\n      <td>20.50</td>\n      <td>23.90</td>\n      <td>23.60</td>\n      <td>3.40</td>\n      <td>16.59</td>\n      <td>-0.30</td>\n      <td>-1.26</td>\n    </tr>\n    <tr>\n      <th>CARERATING.NS</th>\n      <td>432.75</td>\n      <td>501.80</td>\n      <td>557.50</td>\n      <td>69.05</td>\n      <td>15.96</td>\n      <td>55.70</td>\n      <td>11.10</td>\n    </tr>\n    <tr>\n      <th>DCBBANK.NS</th>\n      <td>93.40</td>\n      <td>107.65</td>\n      <td>116.35</td>\n      <td>14.25</td>\n      <td>15.26</td>\n      <td>8.70</td>\n      <td>8.08</td>\n    </tr>\n    <tr>\n      <th>AEGISCHEM.NS</th>\n      <td>222.15</td>\n      <td>255.85</td>\n      <td>252.40</td>\n      <td>33.70</td>\n      <td>15.17</td>\n      <td>-3.45</td>\n      <td>-1.35</td>\n    </tr>\n    <tr>\n      <th>WOCKPHARMA.NS</th>\n      <td>393.30</td>\n      <td>452.85</td>\n      <td>442.10</td>\n      <td>59.55</td>\n      <td>15.14</td>\n      <td>-10.75</td>\n      <td>-2.37</td>\n    </tr>\n    <tr>\n      <th>CUMMINSIND.NS</th>\n      <td>510.40</td>\n      <td>586.00</td>\n      <td>567.40</td>\n      <td>75.60</td>\n      <td>14.81</td>\n      <td>-18.60</td>\n      <td>-3.17</td>\n    </tr>\n    <tr>\n      <th>DIXON.NS</th>\n      <td>10354.00</td>\n      <td>11879.80</td>\n      <td>11382.20</td>\n      <td>1525.80</td>\n      <td>14.74</td>\n      <td>-497.60</td>\n      <td>-4.19</td>\n    </tr>\n    <tr>\n      <th>FRETAIL.NS</th>\n      <td>72.05</td>\n      <td>82.65</td>\n      <td>76.90</td>\n      <td>10.60</td>\n      <td>14.71</td>\n      <td>-5.75</td>\n      <td>-6.96</td>\n    </tr>\n    <tr>\n      <th>CHOLAFIN.NS</th>\n      <td>338.95</td>\n      <td>388.70</td>\n      <td>369.75</td>\n      <td>49.75</td>\n      <td>14.68</td>\n      <td>-18.95</td>\n      <td>-4.88</td>\n    </tr>\n    <tr>\n      <th>SRTRANSFIN.NS</th>\n      <td>933.90</td>\n      <td>1070.20</td>\n      <td>1003.10</td>\n      <td>136.30</td>\n      <td>14.59</td>\n      <td>-67.10</td>\n      <td>-6.27</td>\n    </tr>\n    <tr>\n      <th>MGL.NS</th>\n      <td>931.45</td>\n      <td>1063.90</td>\n      <td>1037.55</td>\n      <td>132.45</td>\n      <td>14.22</td>\n      <td>-26.35</td>\n      <td>-2.48</td>\n    </tr>\n    <tr>\n      <th>EDELWEISS.NS</th>\n      <td>61.35</td>\n      <td>70.00</td>\n      <td>81.90</td>\n      <td>8.65</td>\n      <td>14.10</td>\n      <td>11.90</td>\n      <td>17.00</td>\n    </tr>\n    <tr>\n      <th>UJJIVAN.NS</th>\n      <td>248.00</td>\n      <td>282.95</td>\n      <td>277.30</td>\n      <td>34.95</td>\n      <td>14.09</td>\n      <td>-5.65</td>\n      <td>-2.00</td>\n    </tr>\n    <tr>\n      <th>IOB.NS</th>\n      <td>9.60</td>\n      <td>10.95</td>\n      <td>11.00</td>\n      <td>1.35</td>\n      <td>14.06</td>\n      <td>0.05</td>\n      <td>0.46</td>\n    </tr>\n    <tr>\n      <th>WESTLIFE.NS</th>\n      <td>382.50</td>\n      <td>435.55</td>\n      <td>429.50</td>\n      <td>53.05</td>\n      <td>13.87</td>\n      <td>-6.05</td>\n      <td>-1.39</td>\n    </tr>\n    <tr>\n      <th>KEI.NS</th>\n      <td>373.45</td>\n      <td>424.90</td>\n      <td>430.15</td>\n      <td>51.45</td>\n      <td>13.78</td>\n      <td>5.25</td>\n      <td>1.24</td>\n    </tr>\n    <tr>\n      <th>PGHL.NS</th>\n      <td>6038.10</td>\n      <td>6868.10</td>\n      <td>6824.75</td>\n      <td>830.00</td>\n      <td>13.75</td>\n      <td>-43.35</td>\n      <td>-0.63</td>\n    </tr>\n    <tr>\n      <th>SFL.NS</th>\n      <td>1348.35</td>\n      <td>1531.85</td>\n      <td>1652.10</td>\n      <td>183.50</td>\n      <td>13.61</td>\n      <td>120.25</td>\n      <td>7.85</td>\n    </tr>\n    <tr>\n      <th>GREAVESCOT.NS</th>\n      <td>73.90</td>\n      <td>83.90</td>\n      <td>83.65</td>\n      <td>10.00</td>\n      <td>13.53</td>\n      <td>-0.25</td>\n      <td>-0.30</td>\n    </tr>\n    <tr>\n      <th>RVNL.NS</th>\n      <td>18.36</td>\n      <td>20.84</td>\n      <td>22.94</td>\n      <td>2.48</td>\n      <td>13.51</td>\n      <td>2.10</td>\n      <td>10.07</td>\n    </tr>\n    <tr>\n      <th>NBVENTURES.NS</th>\n      <td>47.50</td>\n      <td>53.90</td>\n      <td>57.85</td>\n      <td>6.40</td>\n      <td>13.47</td>\n      <td>3.95</td>\n      <td>7.33</td>\n    </tr>\n    <tr>\n      <th>KOLTEPATIL.NS</th>\n      <td>186.80</td>\n      <td>211.75</td>\n      <td>212.20</td>\n      <td>24.95</td>\n      <td>13.36</td>\n      <td>0.45</td>\n      <td>0.21</td>\n    </tr>\n    <tr>\n      <th>VBL.NS</th>\n      <td>769.80</td>\n      <td>871.40</td>\n      <td>835.40</td>\n      <td>101.60</td>\n      <td>13.20</td>\n      <td>-36.00</td>\n      <td>-4.13</td>\n    </tr>\n    <tr>\n      <th>BHEL.NS</th>\n      <td>29.20</td>\n      <td>32.85</td>\n      <td>34.25</td>\n      <td>3.65</td>\n      <td>12.50</td>\n      <td>1.40</td>\n      <td>4.26</td>\n    </tr>\n    <tr>\n      <th>PNB.NS</th>\n      <td>29.80</td>\n      <td>33.45</td>\n      <td>35.65</td>\n      <td>3.65</td>\n      <td>12.25</td>\n      <td>2.20</td>\n      <td>6.58</td>\n    </tr>\n    <tr>\n      <th>HINDCOPPER.NS</th>\n      <td>36.95</td>\n      <td>41.45</td>\n      <td>44.55</td>\n      <td>4.50</td>\n      <td>12.18</td>\n      <td>3.10</td>\n      <td>7.48</td>\n    </tr>\n    <tr>\n      <th>DALBHARAT.NS</th>\n      <td>982.80</td>\n      <td>1101.70</td>\n      <td>1123.55</td>\n      <td>118.90</td>\n      <td>12.10</td>\n      <td>21.85</td>\n      <td>1.98</td>\n    </tr>\n    <tr>\n      <th>GICRE.NS</th>\n      <td>125.75</td>\n      <td>140.95</td>\n      <td>139.45</td>\n      <td>15.20</td>\n      <td>12.09</td>\n      <td>-1.50</td>\n      <td>-1.06</td>\n    </tr>\n    <tr>\n      <th>EIDPARRY.NS</th>\n      <td>309.45</td>\n      <td>346.80</td>\n      <td>337.55</td>\n      <td>37.35</td>\n      <td>12.07</td>\n      <td>-9.25</td>\n      <td>-2.67</td>\n    </tr>\n    <tr>\n      <th>LAURUSLABS.NS</th>\n      <td>282.85</td>\n      <td>316.85</td>\n      <td>331.65</td>\n      <td>34.00</td>\n      <td>12.02</td>\n      <td>14.80</td>\n      <td>4.67</td>\n    </tr>\n    <tr>\n      <th>IGL.NS</th>\n      <td>443.20</td>\n      <td>496.40</td>\n      <td>478.45</td>\n      <td>53.20</td>\n      <td>12.00</td>\n      <td>-17.95</td>\n      <td>-3.62</td>\n    </tr>\n    <tr>\n      <th>CHOLAHLDNG.NS</th>\n      <td>484.35</td>\n      <td>541.20</td>\n      <td>532.20</td>\n      <td>56.85</td>\n      <td>11.74</td>\n      <td>-9.00</td>\n      <td>-1.66</td>\n    </tr>\n    <tr>\n      <th>TATAPOWER.NS</th>\n      <td>58.10</td>\n      <td>64.90</td>\n      <td>71.65</td>\n      <td>6.80</td>\n      <td>11.70</td>\n      <td>6.75</td>\n      <td>10.40</td>\n    </tr>\n    <tr>\n      <th>VMART.NS</th>\n      <td>2018.10</td>\n      <td>2252.30</td>\n      <td>2177.70</td>\n      <td>234.20</td>\n      <td>11.60</td>\n      <td>-74.60</td>\n      <td>-3.31</td>\n    </tr>\n    <tr>\n      <th>CANBK.NS</th>\n      <td>93.30</td>\n      <td>103.80</td>\n      <td>111.20</td>\n      <td>10.50</td>\n      <td>11.25</td>\n      <td>7.40</td>\n      <td>7.13</td>\n    </tr>\n    <tr>\n      <th>MANAPPURAM.NS</th>\n      <td>161.70</td>\n      <td>179.85</td>\n      <td>173.85</td>\n      <td>18.15</td>\n      <td>11.22</td>\n      <td>-6.00</td>\n      <td>-3.34</td>\n    </tr>\n    <tr>\n      <th>EMAMILTD.NS</th>\n      <td>396.20</td>\n      <td>440.35</td>\n      <td>418.10</td>\n      <td>44.15</td>\n      <td>11.14</td>\n      <td>-22.25</td>\n      <td>-5.05</td>\n    </tr>\n    <tr>\n      <th>SOUTHBANK.NS</th>\n      <td>6.80</td>\n      <td>7.55</td>\n      <td>8.95</td>\n      <td>0.75</td>\n      <td>11.03</td>\n      <td>1.40</td>\n      <td>18.54</td>\n    </tr>\n    <tr>\n      <th>AMBER.NS</th>\n      <td>2165.25</td>\n      <td>2399.60</td>\n      <td>2326.80</td>\n      <td>234.35</td>\n      <td>10.82</td>\n      <td>-72.80</td>\n      <td>-3.03</td>\n    </tr>\n    <tr>\n      <th>MINDACORP.NS</th>\n      <td>73.60</td>\n      <td>81.45</td>\n      <td>84.45</td>\n      <td>7.85</td>\n      <td>10.67</td>\n      <td>3.00</td>\n      <td>3.68</td>\n    </tr>\n    <tr>\n      <th>BAJAJCON.NS</th>\n      <td>184.55</td>\n      <td>204.20</td>\n      <td>199.55</td>\n      <td>19.65</td>\n      <td>10.65</td>\n      <td>-4.65</td>\n      <td>-2.28</td>\n    </tr>\n  </tbody>\n</table>\n</div>"
     },
     "metadata": {},
     "execution_count": 231
    }
   ],
   "source": [
    "final_df.round(2).head(50)"
   ]
  },
  {
   "cell_type": "markdown",
   "metadata": {},
   "source": [
    "### Create an empty excel file as below filename before running below code"
   ]
  },
  {
   "cell_type": "code",
   "execution_count": 232,
   "metadata": {},
   "outputs": [],
   "source": [
    "book = load_workbook(filename)\n",
    "writer = pd.ExcelWriter(filename, engine = 'openpyxl')\n",
    "writer.book = book"
   ]
  },
  {
   "cell_type": "code",
   "execution_count": 233,
   "metadata": {},
   "outputs": [],
   "source": [
    "final_df.round(2).to_excel(writer, sheet_name=eval_date)\n",
    "writer.save()\n",
    "writer.close()"
   ]
  },
  {
   "cell_type": "code",
   "execution_count": 234,
   "metadata": {},
   "outputs": [
    {
     "output_type": "execute_result",
     "data": {
      "text/plain": [
       "'Done. Output file path and name --> data/output/momentum_weekly_n500_output.xlsx'"
      ]
     },
     "metadata": {},
     "execution_count": 234
    }
   ],
   "source": [
    "f\"Done. Output file path and name --> {filename}\""
   ]
  },
  {
   "cell_type": "code",
   "execution_count": null,
   "metadata": {},
   "outputs": [],
   "source": []
  }
 ],
 "metadata": {
  "kernelspec": {
   "display_name": "Python 3",
   "language": "python",
   "name": "python3"
  },
  "language_info": {
   "codemirror_mode": {
    "name": "ipython",
    "version": 3
   },
   "file_extension": ".py",
   "mimetype": "text/x-python",
   "name": "python",
   "nbconvert_exporter": "python",
   "pygments_lexer": "ipython3",
   "version": "3.8.3-final"
  }
 },
 "nbformat": 4,
 "nbformat_minor": 4
}